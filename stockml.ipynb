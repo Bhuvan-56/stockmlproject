{
 "cells": [
  {
   "cell_type": "code",
   "execution_count": null,
   "id": "08f4ab56",
   "metadata": {},
   "outputs": [],
   "source": []
  },
  {
   "cell_type": "code",
   "execution_count": 15,
   "id": "8dc63dbb",
   "metadata": {},
   "outputs": [],
   "source": [
    "import yfinance as yf\n",
    "import pandas as pd\n",
    "import plotly.graph_objects as go\n",
    "import numpy as np\n",
    "import GoogleNews\n",
    "from datetime import date, datetime"
   ]
  },
  {
   "cell_type": "code",
   "execution_count": 16,
   "id": "58714b3c",
   "metadata": {},
   "outputs": [],
   "source": [
    "Stock = input(\"Enter the name of the Stock you want to analyze: \")\n",
    "stock_ticker = input(\"Enter the ticker representative of the stock: \")\n",
    "\n",
    "start_date = input(\"Enter the start date in format(yyyy-mm-dd): \")\n",
    "end_date = input(\"Enter the end date in format(yyyy-mm-dd): \")\n",
    "# Stock = \"Apple\"\n",
    "# stock_ticker = \"AAPL\"\n",
    "# start_date = \"2020-01-01\"\n",
    "# end_date = \"2025-01-01\"\n",
    "\n"
   ]
  },
  {
   "cell_type": "code",
   "execution_count": 17,
   "id": "86d16a75",
   "metadata": {},
   "outputs": [],
   "source": [
    "df = yf.download(\n",
    "    tickers = stock_ticker,\n",
    "    start = start_date,\n",
    "    end = end_date,\n",
    "    interval = \"1d\", # for dailyy data\n",
    "    auto_adjust = False,\n",
    "    progress = False\n",
    ")"
   ]
  },
  {
   "cell_type": "code",
   "execution_count": 18,
   "id": "3a4b11b0",
   "metadata": {},
   "outputs": [],
   "source": [
    "def data_collection(df):\n",
    "    print(df.head())\n",
    "    print(df.tail())\n",
    "    print(df.columns)\n",
    "    df.columns = df.columns.get_level_values(0)\n",
    "    print(df.columns)\n",
    "    df[\"H_L\"] = df[\"High\"] - df[\"Low\"]\n",
    "\n",
    "    df[\"O_C\"] = df[\"Open\"] - df[\"Close\"]\n",
    "\n",
    "    for window in (7,14,21):\n",
    "        df[f\"MA_{window}\"] = df[\"Close\"].rolling(window).mean()\n",
    "\n",
    "    df[\"STDDEV_7\"] = df[\"Close\"].rolling(7).std()\n",
    "\n",
    "    df = df.dropna()    \n",
    "\n",
    "    n = len(df)\n",
    "    split_index = int(n * 0.8)\n",
    "\n",
    "    train_df = df.iloc[:split_index]\n",
    "    val_df   = df.iloc[split_index:]\n",
    "\n",
    "    print(\"Train range:\", train_df.index.min(), \"to\", train_df.index.max())\n",
    "    print(\"Val range:\",   val_df.index.min(),   \"to\", val_df.index.max())\n",
    "    features = [\"H_L\", \"O_C\", \"MA_7\", \"MA_14\", \"MA_21\", \"STDDEV_7\", \"Volume\"]\n",
    "    X_train, y_train = train_df[features], train_df[\"Close\"]\n",
    "    X_val,   y_val   = val_df[features],   val_df[\"Close\"]\n",
    "\n",
    "    return X_train, y_train, X_val, y_val, train_df , val_df\n"
   ]
  },
  {
   "cell_type": "code",
   "execution_count": 19,
   "id": "3851dad9",
   "metadata": {},
   "outputs": [],
   "source": [
    "# print(df.head())\n",
    "# print(df.tail())\n",
    "# print(df.columns)"
   ]
  },
  {
   "cell_type": "code",
   "execution_count": 20,
   "id": "7cfcfb9a",
   "metadata": {},
   "outputs": [],
   "source": [
    "\n",
    "# df.columns = df.columns.get_level_values(0)\n",
    "# print(df.columns)\n"
   ]
  },
  {
   "cell_type": "code",
   "execution_count": 21,
   "id": "1928a11d",
   "metadata": {},
   "outputs": [],
   "source": [
    "# df[\"H_L\"] = df[\"High\"] - df[\"Low\"]\n",
    "\n",
    "# df[\"O_C\"] = df[\"Open\"] - df[\"Close\"]\n",
    "\n",
    "# for window in (7,14,21):\n",
    "#     df[f\"MA_{window}\"] = df[\"Close\"].rolling(window).mean()\n",
    "\n",
    "# df[\"STDDEV_7\"] = df[\"Close\"].rolling(7).std()\n",
    "\n",
    "# df = df.dropna()"
   ]
  },
  {
   "cell_type": "code",
   "execution_count": 22,
   "id": "154e1909",
   "metadata": {},
   "outputs": [],
   "source": [
    "# print(df.index)\n",
    "# print(df.head())\n"
   ]
  },
  {
   "cell_type": "code",
   "execution_count": 23,
   "id": "e49b8900",
   "metadata": {},
   "outputs": [],
   "source": [
    "# n = len(df)\n",
    "# split_index = int(n * 0.8)\n",
    "\n",
    "# train_df = df.iloc[:split_index]\n",
    "# val_df   = df.iloc[split_index:]\n",
    "\n",
    "# print(\"Train range:\", train_df.index.min(), \"to\", train_df.index.max())\n",
    "# print(\"Val range:\",   val_df.index.min(),   \"to\", val_df.index.max())\n"
   ]
  },
  {
   "cell_type": "code",
   "execution_count": 24,
   "id": "af1433d8",
   "metadata": {},
   "outputs": [
    {
     "name": "stdout",
     "output_type": "stream",
     "text": [
      "Price      Adj Close    Close     High      Low     Open     Volume\n",
      "Ticker          NVDA     NVDA     NVDA     NVDA     NVDA       NVDA\n",
      "Date                                                               \n",
      "2020-01-02  5.971745  5.99775  5.99775  5.91800  5.96875  237536000\n",
      "2020-01-03  5.876163  5.90175  5.94575  5.85250  5.87750  205384000\n",
      "2020-01-06  5.900805  5.92650  5.93175  5.78175  5.80800  262636000\n",
      "2020-01-07  5.972245  5.99825  6.04425  5.90975  5.95500  314856000\n",
      "2020-01-08  5.983445  6.00950  6.05100  5.95375  5.99400  277108000\n",
      "Price        Adj Close       Close        High         Low        Open  \\\n",
      "Ticker            NVDA        NVDA        NVDA        NVDA        NVDA   \n",
      "Date                                                                     \n",
      "2024-12-24  140.197372  140.220001  141.899994  138.649994  140.000000   \n",
      "2024-12-26  139.907410  139.929993  140.850006  137.729996  139.699997   \n",
      "2024-12-27  136.987885  137.009995  139.020004  134.710007  138.550003   \n",
      "2024-12-30  137.467804  137.490005  140.270004  134.020004  134.830002   \n",
      "2024-12-31  134.268326  134.289993  138.070007  133.830002  138.029999   \n",
      "\n",
      "Price          Volume  \n",
      "Ticker           NVDA  \n",
      "Date                   \n",
      "2024-12-24  105157000  \n",
      "2024-12-26  116205600  \n",
      "2024-12-27  170582600  \n",
      "2024-12-30  167734700  \n",
      "2024-12-31  155659200  \n",
      "MultiIndex([('Adj Close', 'NVDA'),\n",
      "            (    'Close', 'NVDA'),\n",
      "            (     'High', 'NVDA'),\n",
      "            (      'Low', 'NVDA'),\n",
      "            (     'Open', 'NVDA'),\n",
      "            (   'Volume', 'NVDA')],\n",
      "           names=['Price', 'Ticker'])\n",
      "Index(['Adj Close', 'Close', 'High', 'Low', 'Open', 'Volume'], dtype='object', name='Price')\n",
      "Train range: 2020-01-31 00:00:00 to 2024-01-05 00:00:00\n",
      "Val range: 2024-01-08 00:00:00 to 2024-12-31 00:00:00\n"
     ]
    }
   ],
   "source": [
    "X_train, y_train, X_val, y_val, train_df , val_df = data_collection(df)\n",
    "\n",
    "# print(len(X_train))\n",
    "# print(len(X_val))\n",
    "# print(y_train[0])"
   ]
  },
  {
   "cell_type": "markdown",
   "id": "d30a8df9",
   "metadata": {},
   "source": [
    "## ANN\n"
   ]
  },
  {
   "cell_type": "code",
   "execution_count": 25,
   "id": "d78b5f06",
   "metadata": {},
   "outputs": [],
   "source": [
    "from sklearn.preprocessing import StandardScaler\n",
    "from tensorflow.keras.models import Sequential\n",
    "from tensorflow.keras.layers import Dense\n",
    "\n",
    "from tensorflow.keras.callbacks import EarlyStopping\n",
    "from sklearn.metrics import mean_squared_error, mean_absolute_error\n",
    "\n",
    "import matplotlib.pyplot as plt\n"
   ]
  },
  {
   "cell_type": "code",
   "execution_count": 26,
   "id": "9ed44ae0",
   "metadata": {},
   "outputs": [],
   "source": [
    "scaler = StandardScaler()\n",
    "X_train_scaled = scaler.fit_transform(X_train)\n",
    "X_val_scaled   = scaler.transform(X_val)"
   ]
  },
  {
   "cell_type": "code",
   "execution_count": 27,
   "id": "891b3b0f",
   "metadata": {},
   "outputs": [
    {
     "name": "stderr",
     "output_type": "stream",
     "text": [
      "/home/billy_56/anaconda3/lib/python3.12/site-packages/keras/src/layers/core/dense.py:87: UserWarning: Do not pass an `input_shape`/`input_dim` argument to a layer. When using Sequential models, prefer using an `Input(shape)` object as the first layer in the model instead.\n",
      "  super().__init__(activity_regularizer=activity_regularizer, **kwargs)\n"
     ]
    }
   ],
   "source": [
    "model = Sequential([\n",
    "    Dense(64, activation='relu', input_dim=X_train_scaled.shape[1]),  # hidden layer\n",
    "    Dense(1)  # output layer for price prediction\n",
    "])\n",
    "\n",
    "model.compile(optimizer='adam', loss='mse')\n"
   ]
  },
  {
   "cell_type": "code",
   "execution_count": 28,
   "id": "ce8b2c4c",
   "metadata": {},
   "outputs": [
    {
     "name": "stdout",
     "output_type": "stream",
     "text": [
      "Epoch 1/500\n",
      "31/31 - 1s - 22ms/step - loss: 585.2948 - val_loss: 11426.3301\n",
      "Epoch 2/500\n",
      "31/31 - 0s - 4ms/step - loss: 542.7349 - val_loss: 9968.3633\n",
      "Epoch 3/500\n",
      "31/31 - 0s - 4ms/step - loss: 496.9443 - val_loss: 8378.9922\n",
      "Epoch 4/500\n",
      "31/31 - 0s - 5ms/step - loss: 445.4932 - val_loss: 6526.1699\n",
      "Epoch 5/500\n",
      "31/31 - 0s - 5ms/step - loss: 387.7156 - val_loss: 4655.1372\n",
      "Epoch 6/500\n",
      "31/31 - 0s - 5ms/step - loss: 326.4859 - val_loss: 2893.0781\n",
      "Epoch 7/500\n",
      "31/31 - 0s - 7ms/step - loss: 265.6304 - val_loss: 1437.1875\n",
      "Epoch 8/500\n",
      "31/31 - 0s - 6ms/step - loss: 208.1596 - val_loss: 543.6304\n",
      "Epoch 9/500\n",
      "31/31 - 0s - 6ms/step - loss: 159.5280 - val_loss: 334.6058\n",
      "Epoch 10/500\n",
      "31/31 - 0s - 6ms/step - loss: 121.5043 - val_loss: 805.2591\n",
      "Epoch 11/500\n",
      "31/31 - 0s - 4ms/step - loss: 94.6277 - val_loss: 1781.7563\n",
      "Epoch 12/500\n",
      "31/31 - 0s - 4ms/step - loss: 76.5177 - val_loss: 2826.5923\n",
      "Epoch 13/500\n",
      "31/31 - 0s - 5ms/step - loss: 65.5354 - val_loss: 3768.7900\n",
      "Epoch 14/500\n",
      "31/31 - 0s - 4ms/step - loss: 57.9085 - val_loss: 4331.3916\n",
      "Epoch 15/500\n",
      "31/31 - 0s - 5ms/step - loss: 52.3206 - val_loss: 4645.0337\n",
      "Epoch 16/500\n",
      "31/31 - 0s - 4ms/step - loss: 47.4766 - val_loss: 4661.1909\n",
      "Epoch 17/500\n",
      "31/31 - 0s - 5ms/step - loss: 43.0538 - val_loss: 4586.8770\n",
      "Epoch 18/500\n",
      "31/31 - 0s - 4ms/step - loss: 39.0668 - val_loss: 4398.4976\n",
      "Epoch 19/500\n",
      "31/31 - 0s - 4ms/step - loss: 35.4410 - val_loss: 4191.4131\n",
      "Epoch 20/500\n",
      "31/31 - 0s - 4ms/step - loss: 32.0968 - val_loss: 3837.8062\n",
      "Epoch 21/500\n",
      "31/31 - 0s - 3ms/step - loss: 29.0154 - val_loss: 3576.6396\n",
      "Epoch 22/500\n",
      "31/31 - 0s - 4ms/step - loss: 26.2155 - val_loss: 3350.9480\n",
      "Epoch 23/500\n",
      "31/31 - 0s - 5ms/step - loss: 23.7273 - val_loss: 3064.1738\n",
      "Epoch 24/500\n",
      "31/31 - 0s - 5ms/step - loss: 21.3086 - val_loss: 2728.4106\n",
      "Epoch 25/500\n",
      "31/31 - 0s - 4ms/step - loss: 19.1581 - val_loss: 2503.1592\n",
      "Epoch 26/500\n",
      "31/31 - 0s - 4ms/step - loss: 17.1363 - val_loss: 2260.6548\n",
      "Epoch 27/500\n",
      "31/31 - 0s - 4ms/step - loss: 15.3099 - val_loss: 2021.7305\n",
      "Epoch 28/500\n",
      "31/31 - 0s - 5ms/step - loss: 13.6752 - val_loss: 1826.8291\n",
      "Epoch 29/500\n",
      "31/31 - 0s - 4ms/step - loss: 12.1674 - val_loss: 1625.1655\n",
      "Epoch 30/500\n",
      "31/31 - 0s - 4ms/step - loss: 10.8677 - val_loss: 1447.9592\n",
      "Epoch 31/500\n",
      "31/31 - 0s - 5ms/step - loss: 9.7021 - val_loss: 1273.0861\n",
      "Epoch 32/500\n",
      "31/31 - 0s - 5ms/step - loss: 8.6759 - val_loss: 1153.0291\n",
      "Epoch 33/500\n",
      "31/31 - 0s - 4ms/step - loss: 7.7867 - val_loss: 1020.8562\n",
      "Epoch 34/500\n",
      "31/31 - 0s - 4ms/step - loss: 7.0038 - val_loss: 902.8387\n",
      "Epoch 35/500\n",
      "31/31 - 0s - 4ms/step - loss: 6.3357 - val_loss: 804.9407\n",
      "Epoch 36/500\n",
      "31/31 - 0s - 4ms/step - loss: 5.7401 - val_loss: 730.0646\n",
      "Epoch 37/500\n",
      "31/31 - 0s - 4ms/step - loss: 5.2469 - val_loss: 644.4597\n",
      "Epoch 38/500\n",
      "31/31 - 0s - 4ms/step - loss: 4.8204 - val_loss: 584.5285\n",
      "Epoch 39/500\n",
      "31/31 - 0s - 4ms/step - loss: 4.4593 - val_loss: 547.5098\n",
      "Epoch 40/500\n",
      "31/31 - 0s - 4ms/step - loss: 4.1541 - val_loss: 479.7943\n",
      "Epoch 41/500\n",
      "31/31 - 0s - 4ms/step - loss: 3.8699 - val_loss: 459.3310\n",
      "Epoch 42/500\n",
      "31/31 - 0s - 4ms/step - loss: 3.6536 - val_loss: 416.7675\n",
      "Epoch 43/500\n",
      "31/31 - 0s - 4ms/step - loss: 3.4682 - val_loss: 372.8434\n",
      "Epoch 44/500\n",
      "31/31 - 0s - 4ms/step - loss: 3.2933 - val_loss: 349.2438\n",
      "Epoch 45/500\n",
      "31/31 - 0s - 4ms/step - loss: 3.1493 - val_loss: 346.2278\n",
      "Epoch 46/500\n",
      "31/31 - 0s - 4ms/step - loss: 3.0114 - val_loss: 319.7378\n",
      "Epoch 47/500\n",
      "31/31 - 0s - 5ms/step - loss: 2.9005 - val_loss: 302.8101\n",
      "Epoch 48/500\n",
      "31/31 - 0s - 4ms/step - loss: 2.7822 - val_loss: 287.5548\n",
      "Epoch 49/500\n",
      "31/31 - 0s - 4ms/step - loss: 2.6888 - val_loss: 274.2892\n",
      "Epoch 50/500\n",
      "31/31 - 0s - 5ms/step - loss: 2.6059 - val_loss: 272.6554\n",
      "Epoch 51/500\n",
      "31/31 - 0s - 4ms/step - loss: 2.5224 - val_loss: 255.2011\n",
      "Epoch 52/500\n",
      "31/31 - 0s - 4ms/step - loss: 2.4540 - val_loss: 247.9345\n",
      "Epoch 53/500\n",
      "31/31 - 0s - 4ms/step - loss: 2.3813 - val_loss: 245.0836\n",
      "Epoch 54/500\n",
      "31/31 - 0s - 4ms/step - loss: 2.3137 - val_loss: 231.1023\n",
      "Epoch 55/500\n",
      "31/31 - 0s - 4ms/step - loss: 2.2481 - val_loss: 229.4620\n",
      "Epoch 56/500\n",
      "31/31 - 0s - 4ms/step - loss: 2.1930 - val_loss: 222.1387\n",
      "Epoch 57/500\n",
      "31/31 - 0s - 4ms/step - loss: 2.1447 - val_loss: 219.7730\n",
      "Epoch 58/500\n",
      "31/31 - 0s - 6ms/step - loss: 2.0891 - val_loss: 208.0560\n",
      "Epoch 59/500\n",
      "31/31 - 0s - 4ms/step - loss: 2.0438 - val_loss: 212.5415\n",
      "Epoch 60/500\n",
      "31/31 - 0s - 4ms/step - loss: 1.9849 - val_loss: 190.7398\n",
      "Epoch 61/500\n",
      "31/31 - 0s - 4ms/step - loss: 1.9485 - val_loss: 195.9815\n",
      "Epoch 62/500\n",
      "31/31 - 0s - 4ms/step - loss: 1.8972 - val_loss: 193.3458\n",
      "Epoch 63/500\n",
      "31/31 - 0s - 4ms/step - loss: 1.8563 - val_loss: 196.6877\n",
      "Epoch 64/500\n",
      "31/31 - 0s - 4ms/step - loss: 1.8074 - val_loss: 188.4512\n",
      "Epoch 65/500\n",
      "31/31 - 0s - 4ms/step - loss: 1.7713 - val_loss: 183.6515\n",
      "Epoch 66/500\n",
      "31/31 - 0s - 4ms/step - loss: 1.7398 - val_loss: 178.3392\n",
      "Epoch 67/500\n",
      "31/31 - 0s - 4ms/step - loss: 1.7058 - val_loss: 187.2303\n",
      "Epoch 68/500\n",
      "31/31 - 0s - 3ms/step - loss: 1.6726 - val_loss: 180.9688\n",
      "Epoch 69/500\n",
      "31/31 - 0s - 4ms/step - loss: 1.6397 - val_loss: 163.5807\n",
      "Epoch 70/500\n",
      "31/31 - 0s - 5ms/step - loss: 1.6081 - val_loss: 160.8446\n",
      "Epoch 71/500\n",
      "31/31 - 0s - 4ms/step - loss: 1.5752 - val_loss: 162.4845\n",
      "Epoch 72/500\n",
      "31/31 - 0s - 7ms/step - loss: 1.5485 - val_loss: 173.4540\n",
      "Epoch 73/500\n",
      "31/31 - 0s - 4ms/step - loss: 1.5152 - val_loss: 163.3956\n",
      "Epoch 74/500\n",
      "31/31 - 0s - 4ms/step - loss: 1.4823 - val_loss: 158.1094\n",
      "Epoch 75/500\n",
      "31/31 - 0s - 4ms/step - loss: 1.4528 - val_loss: 162.4808\n",
      "Epoch 76/500\n",
      "31/31 - 0s - 4ms/step - loss: 1.4274 - val_loss: 154.1566\n",
      "Epoch 77/500\n",
      "31/31 - 0s - 5ms/step - loss: 1.3972 - val_loss: 141.7670\n",
      "Epoch 78/500\n",
      "31/31 - 0s - 5ms/step - loss: 1.3806 - val_loss: 146.8872\n",
      "Epoch 79/500\n",
      "31/31 - 0s - 5ms/step - loss: 1.3516 - val_loss: 145.9558\n",
      "Epoch 80/500\n",
      "31/31 - 0s - 6ms/step - loss: 1.3170 - val_loss: 151.3199\n",
      "Epoch 81/500\n",
      "31/31 - 0s - 4ms/step - loss: 1.2963 - val_loss: 141.2785\n",
      "Epoch 82/500\n",
      "31/31 - 0s - 5ms/step - loss: 1.2772 - val_loss: 137.6549\n",
      "Epoch 83/500\n",
      "31/31 - 0s - 4ms/step - loss: 1.2580 - val_loss: 135.9287\n",
      "Epoch 84/500\n",
      "31/31 - 0s - 4ms/step - loss: 1.2345 - val_loss: 127.1288\n",
      "Epoch 85/500\n",
      "31/31 - 0s - 4ms/step - loss: 1.2115 - val_loss: 135.3978\n",
      "Epoch 86/500\n",
      "31/31 - 0s - 4ms/step - loss: 1.2036 - val_loss: 148.0307\n",
      "Epoch 87/500\n",
      "31/31 - 0s - 4ms/step - loss: 1.1751 - val_loss: 136.3822\n",
      "Epoch 88/500\n",
      "31/31 - 0s - 5ms/step - loss: 1.1553 - val_loss: 127.4130\n",
      "Epoch 89/500\n",
      "31/31 - 0s - 5ms/step - loss: 1.1459 - val_loss: 144.0976\n",
      "Epoch 90/500\n",
      "31/31 - 0s - 4ms/step - loss: 1.1169 - val_loss: 124.3696\n",
      "Epoch 91/500\n",
      "31/31 - 0s - 4ms/step - loss: 1.1051 - val_loss: 123.6674\n",
      "Epoch 92/500\n",
      "31/31 - 0s - 4ms/step - loss: 1.0885 - val_loss: 117.3481\n",
      "Epoch 93/500\n",
      "31/31 - 0s - 4ms/step - loss: 1.0705 - val_loss: 121.4025\n",
      "Epoch 94/500\n",
      "31/31 - 0s - 4ms/step - loss: 1.0669 - val_loss: 119.6914\n",
      "Epoch 95/500\n",
      "31/31 - 0s - 5ms/step - loss: 1.0529 - val_loss: 125.6572\n",
      "Epoch 96/500\n",
      "31/31 - 0s - 4ms/step - loss: 1.0325 - val_loss: 121.8687\n",
      "Epoch 97/500\n",
      "31/31 - 0s - 4ms/step - loss: 1.0113 - val_loss: 132.5364\n",
      "Epoch 98/500\n",
      "31/31 - 0s - 4ms/step - loss: 1.0096 - val_loss: 115.8256\n",
      "Epoch 99/500\n",
      "31/31 - 0s - 4ms/step - loss: 0.9888 - val_loss: 114.2800\n",
      "Epoch 100/500\n",
      "31/31 - 0s - 4ms/step - loss: 0.9825 - val_loss: 110.0269\n",
      "Epoch 101/500\n",
      "31/31 - 0s - 5ms/step - loss: 0.9744 - val_loss: 132.3434\n",
      "Epoch 102/500\n",
      "31/31 - 0s - 4ms/step - loss: 0.9609 - val_loss: 119.8638\n",
      "Epoch 103/500\n",
      "31/31 - 0s - 4ms/step - loss: 0.9391 - val_loss: 111.0726\n",
      "Epoch 104/500\n",
      "31/31 - 0s - 4ms/step - loss: 0.9306 - val_loss: 112.0572\n",
      "Epoch 105/500\n",
      "31/31 - 0s - 4ms/step - loss: 0.9346 - val_loss: 119.6408\n",
      "Epoch 106/500\n",
      "31/31 - 0s - 4ms/step - loss: 0.9104 - val_loss: 126.5773\n",
      "Epoch 107/500\n",
      "31/31 - 0s - 4ms/step - loss: 0.9064 - val_loss: 111.0353\n",
      "Epoch 108/500\n",
      "31/31 - 0s - 5ms/step - loss: 0.8975 - val_loss: 121.6404\n",
      "Epoch 109/500\n",
      "31/31 - 0s - 4ms/step - loss: 0.8828 - val_loss: 115.0522\n",
      "Epoch 110/500\n",
      "31/31 - 0s - 4ms/step - loss: 0.8689 - val_loss: 110.8032\n",
      "Epoch 111/500\n",
      "31/31 - 0s - 4ms/step - loss: 0.8627 - val_loss: 104.6276\n",
      "Epoch 112/500\n",
      "31/31 - 0s - 4ms/step - loss: 0.8517 - val_loss: 118.2149\n",
      "Epoch 113/500\n",
      "31/31 - 0s - 4ms/step - loss: 0.8540 - val_loss: 114.8961\n",
      "Epoch 114/500\n",
      "31/31 - 0s - 4ms/step - loss: 0.8411 - val_loss: 120.9138\n",
      "Epoch 115/500\n",
      "31/31 - 0s - 5ms/step - loss: 0.8377 - val_loss: 107.7169\n",
      "Epoch 116/500\n",
      "31/31 - 0s - 4ms/step - loss: 0.8323 - val_loss: 103.4412\n",
      "Epoch 117/500\n",
      "31/31 - 0s - 4ms/step - loss: 0.8120 - val_loss: 91.8221\n",
      "Epoch 118/500\n",
      "31/31 - 0s - 4ms/step - loss: 0.8021 - val_loss: 101.9319\n",
      "Epoch 119/500\n",
      "31/31 - 0s - 4ms/step - loss: 0.7887 - val_loss: 104.1838\n",
      "Epoch 120/500\n",
      "31/31 - 0s - 5ms/step - loss: 0.7824 - val_loss: 106.9209\n",
      "Epoch 121/500\n",
      "31/31 - 0s - 4ms/step - loss: 0.7693 - val_loss: 104.4318\n",
      "Epoch 122/500\n",
      "31/31 - 0s - 4ms/step - loss: 0.7619 - val_loss: 105.3675\n",
      "Epoch 123/500\n",
      "31/31 - 0s - 4ms/step - loss: 0.7514 - val_loss: 95.7546\n",
      "Epoch 124/500\n",
      "31/31 - 0s - 4ms/step - loss: 0.7485 - val_loss: 107.3482\n",
      "Epoch 125/500\n",
      "31/31 - 0s - 5ms/step - loss: 0.7508 - val_loss: 96.0679\n",
      "Epoch 126/500\n",
      "31/31 - 0s - 4ms/step - loss: 0.7453 - val_loss: 93.2947\n",
      "Epoch 127/500\n",
      "31/31 - 0s - 3ms/step - loss: 0.7286 - val_loss: 93.4157\n",
      "Epoch 128/500\n",
      "31/31 - 0s - 4ms/step - loss: 0.7330 - val_loss: 85.0014\n",
      "Epoch 129/500\n",
      "31/31 - 0s - 4ms/step - loss: 0.7146 - val_loss: 112.9105\n",
      "Epoch 130/500\n",
      "31/31 - 0s - 4ms/step - loss: 0.7148 - val_loss: 85.9607\n",
      "Epoch 131/500\n",
      "31/31 - 0s - 5ms/step - loss: 0.7143 - val_loss: 89.3935\n",
      "Epoch 132/500\n",
      "31/31 - 0s - 4ms/step - loss: 0.7092 - val_loss: 91.8081\n",
      "Epoch 133/500\n",
      "31/31 - 0s - 4ms/step - loss: 0.6944 - val_loss: 96.4527\n",
      "Epoch 134/500\n",
      "31/31 - 0s - 4ms/step - loss: 0.6882 - val_loss: 96.0920\n",
      "Epoch 135/500\n",
      "31/31 - 0s - 4ms/step - loss: 0.6829 - val_loss: 92.2527\n",
      "Epoch 136/500\n",
      "31/31 - 0s - 4ms/step - loss: 0.6775 - val_loss: 81.4158\n",
      "Epoch 137/500\n",
      "31/31 - 0s - 4ms/step - loss: 0.6836 - val_loss: 95.5135\n",
      "Epoch 138/500\n",
      "31/31 - 0s - 4ms/step - loss: 0.6673 - val_loss: 91.2376\n",
      "Epoch 139/500\n",
      "31/31 - 0s - 4ms/step - loss: 0.6582 - val_loss: 92.2674\n",
      "Epoch 140/500\n",
      "31/31 - 0s - 4ms/step - loss: 0.6572 - val_loss: 81.5954\n",
      "Epoch 141/500\n",
      "31/31 - 0s - 4ms/step - loss: 0.6589 - val_loss: 87.3229\n",
      "Epoch 142/500\n",
      "31/31 - 0s - 4ms/step - loss: 0.6411 - val_loss: 90.9734\n",
      "Epoch 143/500\n",
      "31/31 - 0s - 4ms/step - loss: 0.6431 - val_loss: 79.4563\n",
      "Epoch 144/500\n",
      "31/31 - 0s - 4ms/step - loss: 0.6443 - val_loss: 98.1060\n",
      "Epoch 145/500\n",
      "31/31 - 0s - 4ms/step - loss: 0.6411 - val_loss: 85.4141\n",
      "Epoch 146/500\n",
      "31/31 - 0s - 6ms/step - loss: 0.6258 - val_loss: 88.1071\n",
      "Epoch 147/500\n",
      "31/31 - 0s - 4ms/step - loss: 0.6270 - val_loss: 97.0362\n",
      "Epoch 148/500\n",
      "31/31 - 0s - 4ms/step - loss: 0.6181 - val_loss: 86.9287\n",
      "Epoch 149/500\n",
      "31/31 - 0s - 4ms/step - loss: 0.6234 - val_loss: 85.1030\n",
      "Epoch 150/500\n",
      "31/31 - 0s - 4ms/step - loss: 0.6089 - val_loss: 101.4421\n",
      "Epoch 151/500\n",
      "31/31 - 0s - 5ms/step - loss: 0.6209 - val_loss: 80.1305\n",
      "Epoch 152/500\n",
      "31/31 - 0s - 4ms/step - loss: 0.6064 - val_loss: 77.0358\n",
      "Epoch 153/500\n",
      "31/31 - 0s - 4ms/step - loss: 0.6041 - val_loss: 86.9063\n",
      "Epoch 154/500\n",
      "31/31 - 0s - 4ms/step - loss: 0.6175 - val_loss: 81.1027\n",
      "Epoch 155/500\n",
      "31/31 - 0s - 4ms/step - loss: 0.5996 - val_loss: 72.6172\n",
      "Epoch 156/500\n",
      "31/31 - 0s - 5ms/step - loss: 0.6025 - val_loss: 77.9846\n",
      "Epoch 157/500\n",
      "31/31 - 0s - 4ms/step - loss: 0.5862 - val_loss: 89.7331\n",
      "Epoch 158/500\n",
      "31/31 - 0s - 3ms/step - loss: 0.5912 - val_loss: 76.1959\n",
      "Epoch 159/500\n",
      "31/31 - 0s - 4ms/step - loss: 0.5848 - val_loss: 90.6922\n",
      "Epoch 160/500\n",
      "31/31 - 0s - 4ms/step - loss: 0.5945 - val_loss: 83.7714\n",
      "Epoch 161/500\n",
      "31/31 - 0s - 5ms/step - loss: 0.5773 - val_loss: 87.8139\n",
      "Epoch 162/500\n",
      "31/31 - 0s - 4ms/step - loss: 0.5777 - val_loss: 84.9586\n",
      "Epoch 163/500\n",
      "31/31 - 0s - 4ms/step - loss: 0.5792 - val_loss: 84.3000\n",
      "Epoch 164/500\n",
      "31/31 - 0s - 4ms/step - loss: 0.5824 - val_loss: 90.0506\n",
      "Epoch 165/500\n",
      "31/31 - 0s - 4ms/step - loss: 0.5677 - val_loss: 88.3110\n",
      "Epoch 166/500\n",
      "31/31 - 0s - 4ms/step - loss: 0.5675 - val_loss: 85.4531\n",
      "Epoch 167/500\n",
      "31/31 - 0s - 4ms/step - loss: 0.5584 - val_loss: 69.6576\n",
      "Epoch 168/500\n",
      "31/31 - 0s - 5ms/step - loss: 0.5878 - val_loss: 98.5527\n",
      "Epoch 169/500\n",
      "31/31 - 0s - 5ms/step - loss: 0.5770 - val_loss: 99.0535\n",
      "Epoch 170/500\n",
      "31/31 - 0s - 4ms/step - loss: 0.5595 - val_loss: 73.9821\n",
      "Epoch 171/500\n",
      "31/31 - 0s - 4ms/step - loss: 0.5578 - val_loss: 77.8333\n",
      "Epoch 172/500\n",
      "31/31 - 0s - 4ms/step - loss: 0.5621 - val_loss: 80.6570\n",
      "Epoch 173/500\n",
      "31/31 - 0s - 4ms/step - loss: 0.5547 - val_loss: 65.1553\n",
      "Epoch 174/500\n",
      "31/31 - 0s - 4ms/step - loss: 0.5484 - val_loss: 105.1960\n",
      "Epoch 175/500\n",
      "31/31 - 0s - 4ms/step - loss: 0.5718 - val_loss: 70.6138\n",
      "Epoch 176/500\n",
      "31/31 - 0s - 4ms/step - loss: 0.5463 - val_loss: 89.5907\n",
      "Epoch 177/500\n",
      "31/31 - 0s - 4ms/step - loss: 0.5553 - val_loss: 81.6451\n",
      "Epoch 178/500\n",
      "31/31 - 0s - 4ms/step - loss: 0.5405 - val_loss: 68.7200\n",
      "Epoch 179/500\n",
      "31/31 - 0s - 4ms/step - loss: 0.5472 - val_loss: 79.4038\n",
      "Epoch 180/500\n",
      "31/31 - 0s - 4ms/step - loss: 0.5466 - val_loss: 74.1712\n",
      "Epoch 181/500\n",
      "31/31 - 0s - 4ms/step - loss: 0.5491 - val_loss: 58.3674\n",
      "Epoch 182/500\n",
      "31/31 - 0s - 4ms/step - loss: 0.5477 - val_loss: 70.1265\n",
      "Epoch 183/500\n",
      "31/31 - 0s - 4ms/step - loss: 0.5331 - val_loss: 79.9170\n",
      "Epoch 184/500\n",
      "31/31 - 0s - 4ms/step - loss: 0.5365 - val_loss: 88.5334\n",
      "Epoch 185/500\n",
      "31/31 - 0s - 4ms/step - loss: 0.5367 - val_loss: 89.3714\n",
      "Epoch 186/500\n",
      "31/31 - 0s - 4ms/step - loss: 0.5336 - val_loss: 71.2091\n",
      "Epoch 187/500\n",
      "31/31 - 0s - 4ms/step - loss: 0.5361 - val_loss: 67.6095\n",
      "Epoch 188/500\n",
      "31/31 - 0s - 5ms/step - loss: 0.5296 - val_loss: 66.5632\n",
      "Epoch 189/500\n",
      "31/31 - 0s - 4ms/step - loss: 0.5260 - val_loss: 76.0057\n",
      "Epoch 190/500\n",
      "31/31 - 0s - 5ms/step - loss: 0.5197 - val_loss: 78.8611\n",
      "Epoch 191/500\n",
      "31/31 - 0s - 5ms/step - loss: 0.5214 - val_loss: 73.4683\n",
      "Epoch 192/500\n",
      "31/31 - 0s - 4ms/step - loss: 0.5376 - val_loss: 84.4620\n",
      "Epoch 193/500\n",
      "31/31 - 0s - 4ms/step - loss: 0.5246 - val_loss: 84.1969\n",
      "Epoch 194/500\n",
      "31/31 - 0s - 4ms/step - loss: 0.5184 - val_loss: 75.9382\n",
      "Epoch 195/500\n",
      "31/31 - 0s - 4ms/step - loss: 0.5317 - val_loss: 71.4016\n",
      "Epoch 196/500\n",
      "31/31 - 0s - 5ms/step - loss: 0.5161 - val_loss: 78.5512\n",
      "Epoch 197/500\n",
      "31/31 - 0s - 4ms/step - loss: 0.5110 - val_loss: 64.6166\n",
      "Epoch 198/500\n",
      "31/31 - 0s - 4ms/step - loss: 0.5565 - val_loss: 68.5089\n",
      "Epoch 199/500\n",
      "31/31 - 0s - 4ms/step - loss: 0.5182 - val_loss: 59.9727\n",
      "Epoch 200/500\n",
      "31/31 - 0s - 4ms/step - loss: 0.5130 - val_loss: 75.9775\n",
      "Epoch 201/500\n",
      "31/31 - 0s - 4ms/step - loss: 0.5118 - val_loss: 74.2915\n",
      "Epoch 202/500\n",
      "31/31 - 0s - 4ms/step - loss: 0.5101 - val_loss: 68.6888\n",
      "Epoch 203/500\n",
      "31/31 - 0s - 4ms/step - loss: 0.5051 - val_loss: 60.6408\n",
      "Epoch 204/500\n",
      "31/31 - 0s - 4ms/step - loss: 0.5107 - val_loss: 77.1932\n",
      "Epoch 205/500\n",
      "31/31 - 0s - 4ms/step - loss: 0.5076 - val_loss: 70.2483\n",
      "Epoch 206/500\n",
      "31/31 - 0s - 4ms/step - loss: 0.5151 - val_loss: 56.2866\n",
      "Epoch 207/500\n",
      "31/31 - 0s - 4ms/step - loss: 0.5202 - val_loss: 61.3460\n",
      "Epoch 208/500\n",
      "31/31 - 0s - 5ms/step - loss: 0.5143 - val_loss: 71.2571\n",
      "Epoch 209/500\n",
      "31/31 - 0s - 4ms/step - loss: 0.5007 - val_loss: 72.2198\n",
      "Epoch 210/500\n",
      "31/31 - 0s - 4ms/step - loss: 0.4994 - val_loss: 65.6884\n",
      "Epoch 211/500\n",
      "31/31 - 0s - 5ms/step - loss: 0.5061 - val_loss: 63.9709\n",
      "Epoch 212/500\n",
      "31/31 - 0s - 4ms/step - loss: 0.5022 - val_loss: 71.9349\n",
      "Epoch 213/500\n",
      "31/31 - 0s - 4ms/step - loss: 0.5041 - val_loss: 61.8209\n",
      "Epoch 214/500\n",
      "31/31 - 0s - 4ms/step - loss: 0.4987 - val_loss: 63.9284\n",
      "Epoch 215/500\n",
      "31/31 - 0s - 4ms/step - loss: 0.4986 - val_loss: 70.7519\n",
      "Epoch 216/500\n",
      "31/31 - 0s - 4ms/step - loss: 0.5006 - val_loss: 78.4777\n",
      "Epoch 217/500\n",
      "31/31 - 0s - 4ms/step - loss: 0.5013 - val_loss: 71.4191\n",
      "Epoch 218/500\n",
      "31/31 - 0s - 4ms/step - loss: 0.4950 - val_loss: 73.3191\n",
      "Epoch 219/500\n",
      "31/31 - 0s - 4ms/step - loss: 0.4971 - val_loss: 73.4147\n",
      "Epoch 220/500\n",
      "31/31 - 0s - 4ms/step - loss: 0.4897 - val_loss: 63.1233\n",
      "Epoch 221/500\n",
      "31/31 - 0s - 4ms/step - loss: 0.4941 - val_loss: 70.2868\n",
      "Epoch 222/500\n",
      "31/31 - 0s - 4ms/step - loss: 0.4911 - val_loss: 71.7151\n",
      "Epoch 223/500\n",
      "31/31 - 0s - 4ms/step - loss: 0.4917 - val_loss: 74.4442\n",
      "Epoch 224/500\n",
      "31/31 - 0s - 3ms/step - loss: 0.4895 - val_loss: 66.1071\n",
      "Epoch 225/500\n",
      "31/31 - 0s - 4ms/step - loss: 0.4935 - val_loss: 65.6393\n",
      "Epoch 226/500\n",
      "31/31 - 0s - 4ms/step - loss: 0.4952 - val_loss: 65.7691\n",
      "Epoch 227/500\n",
      "31/31 - 0s - 4ms/step - loss: 0.4952 - val_loss: 71.3672\n",
      "Epoch 228/500\n",
      "31/31 - 0s - 4ms/step - loss: 0.4908 - val_loss: 69.1835\n",
      "Epoch 229/500\n",
      "31/31 - 0s - 4ms/step - loss: 0.4832 - val_loss: 71.2381\n",
      "Epoch 230/500\n",
      "31/31 - 0s - 4ms/step - loss: 0.4811 - val_loss: 75.5747\n",
      "Epoch 231/500\n",
      "31/31 - 0s - 6ms/step - loss: 0.4887 - val_loss: 72.4318\n",
      "Epoch 232/500\n",
      "31/31 - 0s - 4ms/step - loss: 0.4870 - val_loss: 75.2596\n",
      "Epoch 233/500\n",
      "31/31 - 0s - 4ms/step - loss: 0.4913 - val_loss: 82.8127\n",
      "Epoch 234/500\n",
      "31/31 - 0s - 4ms/step - loss: 0.4980 - val_loss: 72.5690\n",
      "Epoch 235/500\n",
      "31/31 - 0s - 4ms/step - loss: 0.4864 - val_loss: 67.6081\n",
      "Epoch 236/500\n",
      "31/31 - 0s - 4ms/step - loss: 0.4886 - val_loss: 71.9489\n",
      "Epoch 237/500\n",
      "31/31 - 0s - 4ms/step - loss: 0.4824 - val_loss: 64.5524\n",
      "Epoch 238/500\n",
      "31/31 - 0s - 4ms/step - loss: 0.4772 - val_loss: 57.3237\n",
      "Epoch 239/500\n",
      "31/31 - 0s - 4ms/step - loss: 0.5042 - val_loss: 58.7524\n",
      "Epoch 240/500\n",
      "31/31 - 0s - 4ms/step - loss: 0.4955 - val_loss: 64.1871\n",
      "Epoch 241/500\n",
      "31/31 - 0s - 4ms/step - loss: 0.4834 - val_loss: 75.6675\n",
      "Epoch 242/500\n",
      "31/31 - 0s - 4ms/step - loss: 0.4890 - val_loss: 70.3142\n",
      "Epoch 243/500\n",
      "31/31 - 0s - 4ms/step - loss: 0.4925 - val_loss: 70.4413\n",
      "Epoch 244/500\n",
      "31/31 - 0s - 4ms/step - loss: 0.4750 - val_loss: 63.3651\n",
      "Epoch 245/500\n",
      "31/31 - 0s - 4ms/step - loss: 0.4788 - val_loss: 59.5285\n",
      "Epoch 246/500\n",
      "31/31 - 0s - 4ms/step - loss: 0.4780 - val_loss: 58.3166\n",
      "Epoch 247/500\n",
      "31/31 - 0s - 5ms/step - loss: 0.4802 - val_loss: 61.3301\n",
      "Epoch 248/500\n",
      "31/31 - 0s - 4ms/step - loss: 0.4709 - val_loss: 64.6909\n",
      "Epoch 249/500\n",
      "31/31 - 0s - 4ms/step - loss: 0.4763 - val_loss: 64.8531\n",
      "Epoch 250/500\n",
      "31/31 - 0s - 4ms/step - loss: 0.4743 - val_loss: 73.8873\n",
      "Epoch 251/500\n",
      "31/31 - 0s - 4ms/step - loss: 0.4783 - val_loss: 56.2031\n",
      "Epoch 252/500\n",
      "31/31 - 0s - 5ms/step - loss: 0.4880 - val_loss: 68.1347\n",
      "Epoch 253/500\n",
      "31/31 - 0s - 4ms/step - loss: 0.4744 - val_loss: 52.7476\n",
      "Epoch 254/500\n",
      "31/31 - 0s - 4ms/step - loss: 0.4969 - val_loss: 56.9958\n",
      "Epoch 255/500\n",
      "31/31 - 0s - 4ms/step - loss: 0.4688 - val_loss: 63.8960\n",
      "Epoch 256/500\n",
      "31/31 - 0s - 4ms/step - loss: 0.4670 - val_loss: 60.6181\n",
      "Epoch 257/500\n",
      "31/31 - 0s - 4ms/step - loss: 0.4650 - val_loss: 59.8624\n",
      "Epoch 258/500\n",
      "31/31 - 0s - 4ms/step - loss: 0.4783 - val_loss: 74.3289\n",
      "Epoch 259/500\n",
      "31/31 - 0s - 4ms/step - loss: 0.4726 - val_loss: 63.7270\n",
      "Epoch 260/500\n",
      "31/31 - 0s - 4ms/step - loss: 0.4725 - val_loss: 69.9636\n",
      "Epoch 261/500\n",
      "31/31 - 0s - 4ms/step - loss: 0.4702 - val_loss: 87.6773\n",
      "Epoch 262/500\n",
      "31/31 - 0s - 4ms/step - loss: 0.4841 - val_loss: 51.7292\n",
      "Epoch 263/500\n",
      "31/31 - 0s - 4ms/step - loss: 0.4820 - val_loss: 71.2039\n",
      "Epoch 264/500\n",
      "31/31 - 0s - 5ms/step - loss: 0.4634 - val_loss: 55.1307\n",
      "Epoch 265/500\n",
      "31/31 - 0s - 4ms/step - loss: 0.4629 - val_loss: 66.5448\n",
      "Epoch 266/500\n",
      "31/31 - 0s - 4ms/step - loss: 0.4604 - val_loss: 70.9511\n",
      "Epoch 267/500\n",
      "31/31 - 0s - 5ms/step - loss: 0.4715 - val_loss: 84.2774\n",
      "Epoch 268/500\n",
      "31/31 - 0s - 4ms/step - loss: 0.4650 - val_loss: 60.0250\n",
      "Epoch 269/500\n",
      "31/31 - 0s - 4ms/step - loss: 0.4719 - val_loss: 67.2640\n",
      "Epoch 270/500\n",
      "31/31 - 0s - 4ms/step - loss: 0.4612 - val_loss: 77.8197\n",
      "Epoch 271/500\n",
      "31/31 - 0s - 4ms/step - loss: 0.4707 - val_loss: 68.1464\n",
      "Epoch 272/500\n",
      "31/31 - 0s - 4ms/step - loss: 0.4648 - val_loss: 65.6964\n",
      "Epoch 273/500\n",
      "31/31 - 0s - 4ms/step - loss: 0.4802 - val_loss: 67.2973\n",
      "Epoch 274/500\n",
      "31/31 - 0s - 4ms/step - loss: 0.4642 - val_loss: 59.7177\n",
      "Epoch 275/500\n",
      "31/31 - 0s - 5ms/step - loss: 0.4674 - val_loss: 58.8703\n",
      "Epoch 276/500\n",
      "31/31 - 0s - 4ms/step - loss: 0.4585 - val_loss: 68.4722\n",
      "Epoch 277/500\n",
      "31/31 - 0s - 4ms/step - loss: 0.4612 - val_loss: 72.5027\n",
      "Epoch 278/500\n",
      "31/31 - 0s - 4ms/step - loss: 0.4640 - val_loss: 56.9391\n",
      "Epoch 279/500\n",
      "31/31 - 0s - 5ms/step - loss: 0.4591 - val_loss: 59.3562\n",
      "Epoch 280/500\n",
      "31/31 - 0s - 4ms/step - loss: 0.4541 - val_loss: 64.7059\n",
      "Epoch 281/500\n",
      "31/31 - 0s - 4ms/step - loss: 0.4570 - val_loss: 57.9964\n",
      "Epoch 282/500\n",
      "31/31 - 0s - 5ms/step - loss: 0.4578 - val_loss: 74.8306\n",
      "Epoch 283/500\n",
      "31/31 - 0s - 4ms/step - loss: 0.4555 - val_loss: 81.9807\n",
      "Epoch 284/500\n",
      "31/31 - 0s - 4ms/step - loss: 0.4514 - val_loss: 54.3082\n",
      "Epoch 285/500\n",
      "31/31 - 0s - 4ms/step - loss: 0.4687 - val_loss: 80.0986\n",
      "Epoch 286/500\n",
      "31/31 - 0s - 4ms/step - loss: 0.4798 - val_loss: 54.5213\n",
      "Epoch 287/500\n",
      "31/31 - 0s - 4ms/step - loss: 0.4575 - val_loss: 60.1269\n",
      "Epoch 288/500\n",
      "31/31 - 0s - 5ms/step - loss: 0.4586 - val_loss: 62.7399\n",
      "Epoch 289/500\n",
      "31/31 - 0s - 4ms/step - loss: 0.4555 - val_loss: 62.5884\n",
      "Epoch 290/500\n",
      "31/31 - 0s - 4ms/step - loss: 0.4709 - val_loss: 51.6302\n",
      "Epoch 291/500\n",
      "31/31 - 0s - 4ms/step - loss: 0.4671 - val_loss: 64.8726\n",
      "Epoch 292/500\n",
      "31/31 - 0s - 4ms/step - loss: 0.4510 - val_loss: 66.7869\n",
      "Epoch 293/500\n",
      "31/31 - 0s - 4ms/step - loss: 0.4587 - val_loss: 101.9898\n",
      "Epoch 294/500\n",
      "31/31 - 0s - 4ms/step - loss: 0.4738 - val_loss: 70.1967\n",
      "Epoch 295/500\n",
      "31/31 - 0s - 4ms/step - loss: 0.4727 - val_loss: 69.9601\n",
      "Epoch 296/500\n",
      "31/31 - 0s - 4ms/step - loss: 0.4483 - val_loss: 65.1036\n",
      "Epoch 297/500\n",
      "31/31 - 0s - 4ms/step - loss: 0.4446 - val_loss: 67.4534\n",
      "Epoch 298/500\n",
      "31/31 - 0s - 6ms/step - loss: 0.4656 - val_loss: 66.6663\n",
      "Epoch 299/500\n",
      "31/31 - 0s - 4ms/step - loss: 0.4517 - val_loss: 67.3877\n",
      "Epoch 300/500\n",
      "31/31 - 0s - 4ms/step - loss: 0.4499 - val_loss: 74.7151\n",
      "Epoch 301/500\n",
      "31/31 - 0s - 4ms/step - loss: 0.4525 - val_loss: 65.5337\n",
      "Epoch 302/500\n",
      "31/31 - 0s - 4ms/step - loss: 0.4567 - val_loss: 54.7191\n",
      "Epoch 303/500\n",
      "31/31 - 0s - 5ms/step - loss: 0.4626 - val_loss: 60.0016\n",
      "Epoch 304/500\n",
      "31/31 - 0s - 4ms/step - loss: 0.4480 - val_loss: 64.6741\n",
      "Epoch 305/500\n",
      "31/31 - 0s - 4ms/step - loss: 0.4459 - val_loss: 66.8902\n",
      "Epoch 306/500\n",
      "31/31 - 0s - 4ms/step - loss: 0.4487 - val_loss: 63.7354\n",
      "Epoch 307/500\n",
      "31/31 - 0s - 4ms/step - loss: 0.4545 - val_loss: 60.2672\n",
      "Epoch 308/500\n",
      "31/31 - 0s - 4ms/step - loss: 0.4549 - val_loss: 60.2801\n",
      "Epoch 309/500\n",
      "31/31 - 0s - 4ms/step - loss: 0.4499 - val_loss: 56.7710\n",
      "Epoch 310/500\n",
      "31/31 - 0s - 4ms/step - loss: 0.4535 - val_loss: 52.6594\n",
      "Epoch 311/500\n",
      "31/31 - 0s - 4ms/step - loss: 0.4642 - val_loss: 57.1310\n",
      "Epoch 312/500\n",
      "31/31 - 0s - 4ms/step - loss: 0.4428 - val_loss: 55.6309\n",
      "Epoch 313/500\n",
      "31/31 - 0s - 4ms/step - loss: 0.4481 - val_loss: 57.0436\n",
      "Epoch 314/500\n",
      "31/31 - 0s - 4ms/step - loss: 0.4414 - val_loss: 64.5566\n",
      "Epoch 315/500\n",
      "31/31 - 0s - 4ms/step - loss: 0.4443 - val_loss: 54.1519\n",
      "Epoch 316/500\n",
      "31/31 - 0s - 5ms/step - loss: 0.4509 - val_loss: 54.9297\n",
      "Epoch 317/500\n",
      "31/31 - 0s - 4ms/step - loss: 0.4404 - val_loss: 59.9121\n",
      "Epoch 318/500\n",
      "31/31 - 0s - 4ms/step - loss: 0.4494 - val_loss: 49.6154\n",
      "Epoch 319/500\n",
      "31/31 - 0s - 4ms/step - loss: 0.4420 - val_loss: 61.9964\n",
      "Epoch 320/500\n",
      "31/31 - 0s - 4ms/step - loss: 0.4515 - val_loss: 59.7096\n",
      "Epoch 321/500\n",
      "31/31 - 0s - 5ms/step - loss: 0.4418 - val_loss: 62.7120\n",
      "Epoch 322/500\n",
      "31/31 - 0s - 4ms/step - loss: 0.4431 - val_loss: 67.4884\n",
      "Epoch 323/500\n",
      "31/31 - 0s - 5ms/step - loss: 0.4411 - val_loss: 65.2239\n",
      "Epoch 324/500\n",
      "31/31 - 0s - 5ms/step - loss: 0.4406 - val_loss: 66.9054\n",
      "Epoch 325/500\n",
      "31/31 - 0s - 4ms/step - loss: 0.4354 - val_loss: 55.6537\n",
      "Epoch 326/500\n",
      "31/31 - 0s - 4ms/step - loss: 0.4557 - val_loss: 56.1954\n",
      "Epoch 327/500\n",
      "31/31 - 0s - 4ms/step - loss: 0.4451 - val_loss: 60.1289\n",
      "Epoch 328/500\n",
      "31/31 - 0s - 4ms/step - loss: 0.4325 - val_loss: 56.7710\n",
      "Epoch 329/500\n",
      "31/31 - 0s - 4ms/step - loss: 0.4540 - val_loss: 71.0636\n",
      "Epoch 330/500\n",
      "31/31 - 0s - 4ms/step - loss: 0.4599 - val_loss: 59.5720\n",
      "Epoch 331/500\n",
      "31/31 - 0s - 4ms/step - loss: 0.4426 - val_loss: 59.7517\n",
      "Epoch 332/500\n",
      "31/31 - 0s - 4ms/step - loss: 0.4313 - val_loss: 59.3194\n",
      "Epoch 333/500\n",
      "31/31 - 0s - 4ms/step - loss: 0.4350 - val_loss: 57.3400\n",
      "Epoch 334/500\n",
      "31/31 - 0s - 4ms/step - loss: 0.4294 - val_loss: 49.1124\n",
      "Epoch 335/500\n",
      "31/31 - 0s - 5ms/step - loss: 0.4433 - val_loss: 51.3975\n",
      "Epoch 336/500\n",
      "31/31 - 0s - 4ms/step - loss: 0.4515 - val_loss: 80.8521\n",
      "Epoch 337/500\n",
      "31/31 - 0s - 4ms/step - loss: 0.4699 - val_loss: 63.5741\n",
      "Epoch 338/500\n",
      "31/31 - 0s - 4ms/step - loss: 0.4365 - val_loss: 59.8805\n",
      "Epoch 339/500\n",
      "31/31 - 0s - 4ms/step - loss: 0.4362 - val_loss: 64.9139\n",
      "Epoch 340/500\n",
      "31/31 - 0s - 4ms/step - loss: 0.4378 - val_loss: 51.7246\n",
      "Epoch 341/500\n",
      "31/31 - 0s - 4ms/step - loss: 0.4270 - val_loss: 75.7813\n",
      "Epoch 342/500\n",
      "31/31 - 0s - 4ms/step - loss: 0.4374 - val_loss: 65.0347\n",
      "Epoch 343/500\n",
      "31/31 - 0s - 4ms/step - loss: 0.4417 - val_loss: 57.0453\n",
      "Epoch 344/500\n",
      "31/31 - 0s - 4ms/step - loss: 0.4397 - val_loss: 60.4783\n",
      "Epoch 345/500\n",
      "31/31 - 0s - 5ms/step - loss: 0.4631 - val_loss: 64.0623\n",
      "Epoch 346/500\n",
      "31/31 - 0s - 4ms/step - loss: 0.4358 - val_loss: 57.6776\n",
      "Epoch 347/500\n",
      "31/31 - 0s - 4ms/step - loss: 0.4291 - val_loss: 58.2757\n",
      "Epoch 348/500\n",
      "31/31 - 0s - 4ms/step - loss: 0.4438 - val_loss: 61.1253\n",
      "Epoch 349/500\n",
      "31/31 - 0s - 4ms/step - loss: 0.4342 - val_loss: 57.0717\n",
      "Epoch 350/500\n",
      "31/31 - 0s - 4ms/step - loss: 0.4638 - val_loss: 53.4951\n",
      "Epoch 351/500\n",
      "31/31 - 0s - 4ms/step - loss: 0.4194 - val_loss: 58.7035\n",
      "Epoch 352/500\n",
      "31/31 - 0s - 4ms/step - loss: 0.4348 - val_loss: 63.8011\n",
      "Epoch 353/500\n",
      "31/31 - 0s - 4ms/step - loss: 0.4366 - val_loss: 56.5611\n",
      "Epoch 354/500\n",
      "31/31 - 0s - 4ms/step - loss: 0.4289 - val_loss: 60.3581\n",
      "Epoch 355/500\n",
      "31/31 - 0s - 4ms/step - loss: 0.4270 - val_loss: 51.0888\n",
      "Epoch 356/500\n",
      "31/31 - 0s - 5ms/step - loss: 0.4302 - val_loss: 42.8154\n",
      "Epoch 357/500\n",
      "31/31 - 0s - 4ms/step - loss: 0.4563 - val_loss: 69.2967\n",
      "Epoch 358/500\n",
      "31/31 - 0s - 5ms/step - loss: 0.4307 - val_loss: 67.1757\n",
      "Epoch 359/500\n",
      "31/31 - 0s - 4ms/step - loss: 0.4417 - val_loss: 50.2286\n",
      "Epoch 360/500\n",
      "31/31 - 0s - 4ms/step - loss: 0.4170 - val_loss: 49.9147\n",
      "Epoch 361/500\n",
      "31/31 - 0s - 4ms/step - loss: 0.4282 - val_loss: 56.3813\n",
      "Epoch 362/500\n",
      "31/31 - 0s - 4ms/step - loss: 0.4220 - val_loss: 56.7039\n",
      "Epoch 363/500\n",
      "31/31 - 0s - 4ms/step - loss: 0.4263 - val_loss: 60.4990\n",
      "Epoch 364/500\n",
      "31/31 - 0s - 4ms/step - loss: 0.4248 - val_loss: 62.0202\n",
      "Epoch 365/500\n",
      "31/31 - 0s - 4ms/step - loss: 0.4203 - val_loss: 55.0769\n",
      "Epoch 366/500\n",
      "31/31 - 0s - 4ms/step - loss: 0.4218 - val_loss: 58.3328\n",
      "Epoch 367/500\n",
      "31/31 - 0s - 4ms/step - loss: 0.4270 - val_loss: 69.9815\n",
      "Epoch 368/500\n",
      "31/31 - 0s - 6ms/step - loss: 0.4387 - val_loss: 55.4505\n",
      "Epoch 369/500\n",
      "31/31 - 0s - 4ms/step - loss: 0.4255 - val_loss: 59.8596\n",
      "Epoch 370/500\n",
      "31/31 - 0s - 4ms/step - loss: 0.4233 - val_loss: 52.5154\n",
      "Epoch 371/500\n",
      "31/31 - 0s - 4ms/step - loss: 0.4205 - val_loss: 50.8111\n",
      "Epoch 372/500\n",
      "31/31 - 0s - 4ms/step - loss: 0.4176 - val_loss: 49.0487\n",
      "Epoch 373/500\n",
      "31/31 - 0s - 4ms/step - loss: 0.4253 - val_loss: 54.1122\n",
      "Epoch 374/500\n",
      "31/31 - 0s - 4ms/step - loss: 0.4229 - val_loss: 51.7080\n",
      "Epoch 375/500\n",
      "31/31 - 0s - 4ms/step - loss: 0.4221 - val_loss: 57.1349\n",
      "Epoch 376/500\n",
      "31/31 - 0s - 4ms/step - loss: 0.4241 - val_loss: 53.4311\n",
      "Epoch 377/500\n",
      "31/31 - 0s - 4ms/step - loss: 0.4329 - val_loss: 62.4873\n",
      "Epoch 378/500\n",
      "31/31 - 0s - 4ms/step - loss: 0.4240 - val_loss: 53.8916\n",
      "Epoch 379/500\n",
      "31/31 - 0s - 4ms/step - loss: 0.4144 - val_loss: 57.1676\n",
      "Epoch 380/500\n",
      "31/31 - 0s - 4ms/step - loss: 0.4093 - val_loss: 48.3301\n",
      "Epoch 381/500\n",
      "31/31 - 0s - 4ms/step - loss: 0.4169 - val_loss: 46.4568\n",
      "Epoch 382/500\n",
      "31/31 - 0s - 4ms/step - loss: 0.4336 - val_loss: 71.7604\n",
      "Epoch 383/500\n",
      "31/31 - 0s - 4ms/step - loss: 0.4410 - val_loss: 66.9929\n",
      "Epoch 384/500\n",
      "31/31 - 0s - 4ms/step - loss: 0.4175 - val_loss: 65.7160\n",
      "Epoch 385/500\n",
      "31/31 - 0s - 5ms/step - loss: 0.4121 - val_loss: 58.0782\n",
      "Epoch 386/500\n",
      "31/31 - 0s - 4ms/step - loss: 0.4210 - val_loss: 55.8185\n",
      "Epoch 387/500\n",
      "31/31 - 0s - 4ms/step - loss: 0.4236 - val_loss: 57.9375\n",
      "Epoch 388/500\n",
      "31/31 - 0s - 4ms/step - loss: 0.4241 - val_loss: 65.7364\n",
      "Epoch 389/500\n",
      "31/31 - 0s - 5ms/step - loss: 0.4291 - val_loss: 63.0240\n",
      "Epoch 390/500\n",
      "31/31 - 0s - 4ms/step - loss: 0.4130 - val_loss: 55.1816\n",
      "Epoch 391/500\n",
      "31/31 - 0s - 4ms/step - loss: 0.4170 - val_loss: 56.4088\n",
      "Epoch 392/500\n",
      "31/31 - 0s - 4ms/step - loss: 0.4086 - val_loss: 63.3030\n",
      "Epoch 393/500\n",
      "31/31 - 0s - 4ms/step - loss: 0.4168 - val_loss: 45.7168\n",
      "Epoch 394/500\n",
      "31/31 - 0s - 4ms/step - loss: 0.4156 - val_loss: 57.0173\n",
      "Epoch 395/500\n",
      "31/31 - 0s - 4ms/step - loss: 0.4136 - val_loss: 57.3230\n",
      "Epoch 396/500\n",
      "31/31 - 0s - 4ms/step - loss: 0.4118 - val_loss: 58.2096\n",
      "Epoch 397/500\n",
      "31/31 - 0s - 4ms/step - loss: 0.4189 - val_loss: 56.3106\n",
      "Epoch 398/500\n",
      "31/31 - 0s - 4ms/step - loss: 0.4269 - val_loss: 61.4719\n",
      "Epoch 399/500\n",
      "31/31 - 0s - 4ms/step - loss: 0.4093 - val_loss: 58.9183\n",
      "Epoch 400/500\n",
      "31/31 - 0s - 4ms/step - loss: 0.4107 - val_loss: 50.8541\n",
      "Epoch 401/500\n",
      "31/31 - 0s - 4ms/step - loss: 0.4287 - val_loss: 64.9432\n",
      "Epoch 402/500\n",
      "31/31 - 0s - 5ms/step - loss: 0.4262 - val_loss: 48.9856\n",
      "Epoch 403/500\n",
      "31/31 - 0s - 5ms/step - loss: 0.4364 - val_loss: 46.5332\n",
      "Epoch 404/500\n",
      "31/31 - 0s - 5ms/step - loss: 0.4161 - val_loss: 59.2804\n",
      "Epoch 405/500\n",
      "31/31 - 0s - 4ms/step - loss: 0.4086 - val_loss: 50.4096\n",
      "Epoch 406/500\n",
      "31/31 - 0s - 4ms/step - loss: 0.3997 - val_loss: 49.4120\n",
      "Epoch 407/500\n",
      "31/31 - 0s - 5ms/step - loss: 0.4024 - val_loss: 53.4043\n",
      "Epoch 408/500\n",
      "31/31 - 0s - 4ms/step - loss: 0.4023 - val_loss: 54.2260\n",
      "Epoch 409/500\n",
      "31/31 - 0s - 5ms/step - loss: 0.4059 - val_loss: 47.1894\n",
      "Epoch 410/500\n",
      "31/31 - 0s - 4ms/step - loss: 0.4079 - val_loss: 51.5665\n",
      "Epoch 411/500\n",
      "31/31 - 0s - 5ms/step - loss: 0.4014 - val_loss: 53.9260\n",
      "Epoch 412/500\n",
      "31/31 - 0s - 4ms/step - loss: 0.4219 - val_loss: 56.2670\n",
      "Epoch 413/500\n",
      "31/31 - 0s - 5ms/step - loss: 0.4028 - val_loss: 44.9791\n",
      "Epoch 414/500\n",
      "31/31 - 0s - 4ms/step - loss: 0.4076 - val_loss: 66.3261\n",
      "Epoch 415/500\n",
      "31/31 - 0s - 5ms/step - loss: 0.4144 - val_loss: 59.3345\n",
      "Epoch 416/500\n",
      "31/31 - 0s - 4ms/step - loss: 0.4003 - val_loss: 59.7132\n",
      "Epoch 417/500\n",
      "31/31 - 0s - 4ms/step - loss: 0.3997 - val_loss: 54.8580\n",
      "Epoch 418/500\n",
      "31/31 - 0s - 4ms/step - loss: 0.4146 - val_loss: 57.9042\n",
      "Epoch 419/500\n",
      "31/31 - 0s - 4ms/step - loss: 0.3976 - val_loss: 47.6192\n",
      "Epoch 420/500\n",
      "31/31 - 0s - 4ms/step - loss: 0.4186 - val_loss: 67.6077\n",
      "Epoch 421/500\n",
      "31/31 - 0s - 4ms/step - loss: 0.4474 - val_loss: 41.7431\n",
      "Epoch 422/500\n",
      "31/31 - 0s - 4ms/step - loss: 0.4114 - val_loss: 55.3207\n",
      "Epoch 423/500\n",
      "31/31 - 0s - 4ms/step - loss: 0.4130 - val_loss: 55.2861\n",
      "Epoch 424/500\n",
      "31/31 - 0s - 3ms/step - loss: 0.3988 - val_loss: 62.8021\n",
      "Epoch 425/500\n",
      "31/31 - 0s - 4ms/step - loss: 0.3956 - val_loss: 45.2430\n",
      "Epoch 426/500\n",
      "31/31 - 0s - 4ms/step - loss: 0.4012 - val_loss: 61.8630\n",
      "Epoch 427/500\n",
      "31/31 - 0s - 4ms/step - loss: 0.4190 - val_loss: 60.3025\n",
      "Epoch 428/500\n",
      "31/31 - 0s - 4ms/step - loss: 0.4069 - val_loss: 56.8835\n",
      "Epoch 429/500\n",
      "31/31 - 0s - 4ms/step - loss: 0.4107 - val_loss: 49.5338\n",
      "Epoch 430/500\n",
      "31/31 - 0s - 4ms/step - loss: 0.4019 - val_loss: 58.7529\n",
      "Epoch 431/500\n",
      "31/31 - 0s - 5ms/step - loss: 0.4011 - val_loss: 62.5056\n",
      "Epoch 432/500\n",
      "31/31 - 0s - 4ms/step - loss: 0.3924 - val_loss: 55.0656\n",
      "Epoch 433/500\n",
      "31/31 - 0s - 5ms/step - loss: 0.3943 - val_loss: 51.0559\n",
      "Epoch 434/500\n",
      "31/31 - 0s - 4ms/step - loss: 0.4074 - val_loss: 47.6013\n",
      "Epoch 435/500\n",
      "31/31 - 0s - 5ms/step - loss: 0.3966 - val_loss: 55.5318\n",
      "Epoch 436/500\n",
      "31/31 - 0s - 5ms/step - loss: 0.3934 - val_loss: 57.8240\n",
      "Epoch 437/500\n",
      "31/31 - 0s - 7ms/step - loss: 0.4091 - val_loss: 58.9485\n",
      "Epoch 438/500\n",
      "31/31 - 0s - 6ms/step - loss: 0.4003 - val_loss: 54.5783\n",
      "Epoch 439/500\n",
      "31/31 - 0s - 6ms/step - loss: 0.4055 - val_loss: 60.5526\n",
      "Epoch 440/500\n",
      "31/31 - 0s - 5ms/step - loss: 0.4000 - val_loss: 49.8649\n",
      "Epoch 441/500\n",
      "31/31 - 0s - 5ms/step - loss: 0.3984 - val_loss: 60.4822\n",
      "Epoch 442/500\n",
      "31/31 - 0s - 5ms/step - loss: 0.4085 - val_loss: 62.4906\n",
      "Epoch 443/500\n",
      "31/31 - 0s - 5ms/step - loss: 0.3982 - val_loss: 45.7776\n",
      "Epoch 444/500\n",
      "31/31 - 0s - 4ms/step - loss: 0.4035 - val_loss: 50.6337\n",
      "Epoch 445/500\n",
      "31/31 - 0s - 4ms/step - loss: 0.4018 - val_loss: 55.6259\n",
      "Epoch 446/500\n",
      "31/31 - 0s - 4ms/step - loss: 0.3948 - val_loss: 54.5936\n",
      "Epoch 447/500\n",
      "31/31 - 0s - 4ms/step - loss: 0.3904 - val_loss: 63.1534\n",
      "Epoch 448/500\n",
      "31/31 - 0s - 5ms/step - loss: 0.3957 - val_loss: 46.5989\n",
      "Epoch 449/500\n",
      "31/31 - 0s - 5ms/step - loss: 0.3957 - val_loss: 52.3224\n",
      "Epoch 450/500\n",
      "31/31 - 0s - 4ms/step - loss: 0.3944 - val_loss: 52.4641\n",
      "Epoch 451/500\n",
      "31/31 - 0s - 4ms/step - loss: 0.4116 - val_loss: 54.5722\n",
      "Epoch 452/500\n",
      "31/31 - 0s - 4ms/step - loss: 0.3880 - val_loss: 51.3862\n",
      "Epoch 453/500\n",
      "31/31 - 0s - 4ms/step - loss: 0.3909 - val_loss: 46.3976\n",
      "Epoch 454/500\n",
      "31/31 - 0s - 4ms/step - loss: 0.3982 - val_loss: 59.7980\n",
      "Epoch 455/500\n",
      "31/31 - 0s - 4ms/step - loss: 0.3856 - val_loss: 53.4061\n",
      "Epoch 456/500\n",
      "31/31 - 0s - 4ms/step - loss: 0.3933 - val_loss: 48.3862\n",
      "Epoch 457/500\n",
      "31/31 - 0s - 4ms/step - loss: 0.3933 - val_loss: 60.8104\n",
      "Epoch 458/500\n",
      "31/31 - 0s - 4ms/step - loss: 0.3969 - val_loss: 48.9400\n",
      "Epoch 459/500\n",
      "31/31 - 0s - 4ms/step - loss: 0.3883 - val_loss: 50.7670\n",
      "Epoch 460/500\n",
      "31/31 - 0s - 4ms/step - loss: 0.4009 - val_loss: 55.4115\n",
      "Epoch 461/500\n",
      "31/31 - 0s - 4ms/step - loss: 0.3868 - val_loss: 58.9289\n",
      "Epoch 462/500\n",
      "31/31 - 0s - 4ms/step - loss: 0.3951 - val_loss: 62.1658\n",
      "Epoch 463/500\n",
      "31/31 - 0s - 3ms/step - loss: 0.3930 - val_loss: 53.7114\n",
      "Epoch 464/500\n",
      "31/31 - 0s - 3ms/step - loss: 0.3952 - val_loss: 46.8077\n",
      "Epoch 465/500\n",
      "31/31 - 0s - 4ms/step - loss: 0.4134 - val_loss: 51.3046\n",
      "Epoch 466/500\n",
      "31/31 - 0s - 4ms/step - loss: 0.4037 - val_loss: 57.0572\n",
      "Epoch 467/500\n",
      "31/31 - 0s - 4ms/step - loss: 0.3998 - val_loss: 56.0306\n",
      "Epoch 468/500\n",
      "31/31 - 0s - 4ms/step - loss: 0.3883 - val_loss: 61.3065\n",
      "Epoch 469/500\n",
      "31/31 - 0s - 4ms/step - loss: 0.3875 - val_loss: 58.0803\n",
      "Epoch 470/500\n",
      "31/31 - 0s - 5ms/step - loss: 0.3887 - val_loss: 52.3924\n",
      "Epoch 471/500\n",
      "31/31 - 0s - 4ms/step - loss: 0.3925 - val_loss: 60.4763\n",
      "Epoch 472/500\n",
      "31/31 - 0s - 4ms/step - loss: 0.3860 - val_loss: 53.1497\n",
      "Epoch 473/500\n",
      "31/31 - 0s - 4ms/step - loss: 0.3760 - val_loss: 63.6118\n",
      "Epoch 474/500\n",
      "31/31 - 0s - 4ms/step - loss: 0.3984 - val_loss: 54.1740\n",
      "Epoch 475/500\n",
      "31/31 - 0s - 5ms/step - loss: 0.3774 - val_loss: 42.9589\n",
      "Epoch 476/500\n",
      "31/31 - 0s - 4ms/step - loss: 0.4035 - val_loss: 62.4534\n",
      "Epoch 477/500\n",
      "31/31 - 0s - 4ms/step - loss: 0.3986 - val_loss: 46.5252\n",
      "Epoch 478/500\n",
      "31/31 - 0s - 4ms/step - loss: 0.3999 - val_loss: 54.4819\n",
      "Epoch 479/500\n",
      "31/31 - 0s - 4ms/step - loss: 0.3983 - val_loss: 64.8445\n",
      "Epoch 480/500\n",
      "31/31 - 0s - 4ms/step - loss: 0.3966 - val_loss: 52.1013\n",
      "Epoch 481/500\n",
      "31/31 - 0s - 4ms/step - loss: 0.3831 - val_loss: 60.0096\n",
      "Epoch 482/500\n",
      "31/31 - 0s - 4ms/step - loss: 0.3917 - val_loss: 57.1246\n",
      "Epoch 483/500\n",
      "31/31 - 0s - 4ms/step - loss: 0.3989 - val_loss: 58.9648\n",
      "Epoch 484/500\n",
      "31/31 - 0s - 4ms/step - loss: 0.3923 - val_loss: 56.5511\n",
      "Epoch 485/500\n",
      "31/31 - 0s - 4ms/step - loss: 0.3855 - val_loss: 65.6649\n",
      "Epoch 486/500\n",
      "31/31 - 0s - 4ms/step - loss: 0.3886 - val_loss: 55.6337\n",
      "Epoch 487/500\n",
      "31/31 - 0s - 4ms/step - loss: 0.3831 - val_loss: 52.4377\n",
      "Epoch 488/500\n",
      "31/31 - 0s - 4ms/step - loss: 0.3801 - val_loss: 50.6852\n",
      "Epoch 489/500\n",
      "31/31 - 0s - 4ms/step - loss: 0.3816 - val_loss: 49.1002\n",
      "Epoch 490/500\n",
      "31/31 - 0s - 4ms/step - loss: 0.3786 - val_loss: 63.9834\n",
      "Epoch 491/500\n",
      "31/31 - 0s - 4ms/step - loss: 0.3846 - val_loss: 53.3188\n",
      "Epoch 492/500\n",
      "31/31 - 0s - 5ms/step - loss: 0.4079 - val_loss: 56.3675\n",
      "Epoch 493/500\n",
      "31/31 - 0s - 4ms/step - loss: 0.3827 - val_loss: 44.9847\n",
      "Epoch 494/500\n",
      "31/31 - 0s - 4ms/step - loss: 0.4124 - val_loss: 56.3012\n",
      "Epoch 495/500\n",
      "31/31 - 0s - 4ms/step - loss: 0.4060 - val_loss: 59.9332\n",
      "Epoch 496/500\n",
      "31/31 - 0s - 4ms/step - loss: 0.3877 - val_loss: 54.1807\n",
      "Epoch 497/500\n",
      "31/31 - 0s - 4ms/step - loss: 0.3833 - val_loss: 58.0114\n",
      "Epoch 498/500\n",
      "31/31 - 0s - 4ms/step - loss: 0.3782 - val_loss: 60.5533\n",
      "Epoch 499/500\n",
      "31/31 - 0s - 4ms/step - loss: 0.3825 - val_loss: 48.6169\n",
      "Epoch 500/500\n",
      "31/31 - 0s - 4ms/step - loss: 0.3854 - val_loss: 50.5752\n"
     ]
    }
   ],
   "source": [
    "early_stop = EarlyStopping(monitor='val_loss', patience=5, restore_best_weights=True)\n",
    "\n",
    "history = model.fit(\n",
    "    X_train_scaled, y_train,\n",
    "    validation_data=(X_val_scaled, y_val),\n",
    "    epochs=500,\n",
    "    batch_size=32,\n",
    "    # callbacks=[early_stop],\n",
    "    verbose=2\n",
    ")"
   ]
  },
  {
   "cell_type": "code",
   "execution_count": 29,
   "id": "5db670ac",
   "metadata": {},
   "outputs": [
    {
     "name": "stdout",
     "output_type": "stream",
     "text": [
      "\u001b[1m8/8\u001b[0m \u001b[32m━━━━━━━━━━━━━━━━━━━━\u001b[0m\u001b[37m\u001b[0m \u001b[1m0s\u001b[0m 6ms/step \n",
      "ANN RMSE: 7.112\n",
      "ANN MAE : 4.503\n"
     ]
    }
   ],
   "source": [
    "\n",
    "y_pred_ann = model.predict(X_val_scaled).flatten()\n",
    "\n",
    "rmse = np.sqrt(mean_squared_error(y_val, y_pred_ann))\n",
    "mae  = mean_absolute_error(y_val, y_pred_ann)\n",
    "\n",
    "print(f\"ANN RMSE: {rmse:.3f}\")\n",
    "print(f\"ANN MAE : {mae:.3f}\")"
   ]
  },
  {
   "cell_type": "code",
   "execution_count": 30,
   "id": "9f77a9c0",
   "metadata": {},
   "outputs": [
    {
     "data": {
      "application/vnd.plotly.v1+json": {
       "config": {
        "plotlyServerURL": "https://plot.ly"
       },
       "data": [
        {
         "line": {
          "color": "blue"
         },
         "marker": {
          "color": "blue",
          "size": 8,
          "symbol": "square"
         },
         "mode": "markers+lines",
         "name": "Actual",
         "type": "scatter",
         "x": [
          "2024-01-08T00:00:00",
          "2024-01-09T00:00:00",
          "2024-01-10T00:00:00",
          "2024-01-11T00:00:00",
          "2024-01-12T00:00:00",
          "2024-01-16T00:00:00",
          "2024-01-17T00:00:00",
          "2024-01-18T00:00:00",
          "2024-01-19T00:00:00",
          "2024-01-22T00:00:00",
          "2024-01-23T00:00:00",
          "2024-01-24T00:00:00",
          "2024-01-25T00:00:00",
          "2024-01-26T00:00:00",
          "2024-01-29T00:00:00",
          "2024-01-30T00:00:00",
          "2024-01-31T00:00:00",
          "2024-02-01T00:00:00",
          "2024-02-02T00:00:00",
          "2024-02-05T00:00:00",
          "2024-02-06T00:00:00",
          "2024-02-07T00:00:00",
          "2024-02-08T00:00:00",
          "2024-02-09T00:00:00",
          "2024-02-12T00:00:00",
          "2024-02-13T00:00:00",
          "2024-02-14T00:00:00",
          "2024-02-15T00:00:00",
          "2024-02-16T00:00:00",
          "2024-02-20T00:00:00",
          "2024-02-21T00:00:00",
          "2024-02-22T00:00:00",
          "2024-02-23T00:00:00",
          "2024-02-26T00:00:00",
          "2024-02-27T00:00:00",
          "2024-02-28T00:00:00",
          "2024-02-29T00:00:00",
          "2024-03-01T00:00:00",
          "2024-03-04T00:00:00",
          "2024-03-05T00:00:00",
          "2024-03-06T00:00:00",
          "2024-03-07T00:00:00",
          "2024-03-08T00:00:00",
          "2024-03-11T00:00:00",
          "2024-03-12T00:00:00",
          "2024-03-13T00:00:00",
          "2024-03-14T00:00:00",
          "2024-03-15T00:00:00",
          "2024-03-18T00:00:00",
          "2024-03-19T00:00:00",
          "2024-03-20T00:00:00",
          "2024-03-21T00:00:00",
          "2024-03-22T00:00:00",
          "2024-03-25T00:00:00",
          "2024-03-26T00:00:00",
          "2024-03-27T00:00:00",
          "2024-03-28T00:00:00",
          "2024-04-01T00:00:00",
          "2024-04-02T00:00:00",
          "2024-04-03T00:00:00",
          "2024-04-04T00:00:00",
          "2024-04-05T00:00:00",
          "2024-04-08T00:00:00",
          "2024-04-09T00:00:00",
          "2024-04-10T00:00:00",
          "2024-04-11T00:00:00",
          "2024-04-12T00:00:00",
          "2024-04-15T00:00:00",
          "2024-04-16T00:00:00",
          "2024-04-17T00:00:00",
          "2024-04-18T00:00:00",
          "2024-04-19T00:00:00",
          "2024-04-22T00:00:00",
          "2024-04-23T00:00:00",
          "2024-04-24T00:00:00",
          "2024-04-25T00:00:00",
          "2024-04-26T00:00:00",
          "2024-04-29T00:00:00",
          "2024-04-30T00:00:00",
          "2024-05-01T00:00:00",
          "2024-05-02T00:00:00",
          "2024-05-03T00:00:00",
          "2024-05-06T00:00:00",
          "2024-05-07T00:00:00",
          "2024-05-08T00:00:00",
          "2024-05-09T00:00:00",
          "2024-05-10T00:00:00",
          "2024-05-13T00:00:00",
          "2024-05-14T00:00:00",
          "2024-05-15T00:00:00",
          "2024-05-16T00:00:00",
          "2024-05-17T00:00:00",
          "2024-05-20T00:00:00",
          "2024-05-21T00:00:00",
          "2024-05-22T00:00:00",
          "2024-05-23T00:00:00",
          "2024-05-24T00:00:00",
          "2024-05-28T00:00:00",
          "2024-05-29T00:00:00",
          "2024-05-30T00:00:00",
          "2024-05-31T00:00:00",
          "2024-06-03T00:00:00",
          "2024-06-04T00:00:00",
          "2024-06-05T00:00:00",
          "2024-06-06T00:00:00",
          "2024-06-07T00:00:00",
          "2024-06-10T00:00:00",
          "2024-06-11T00:00:00",
          "2024-06-12T00:00:00",
          "2024-06-13T00:00:00",
          "2024-06-14T00:00:00",
          "2024-06-17T00:00:00",
          "2024-06-18T00:00:00",
          "2024-06-20T00:00:00",
          "2024-06-21T00:00:00",
          "2024-06-24T00:00:00",
          "2024-06-25T00:00:00",
          "2024-06-26T00:00:00",
          "2024-06-27T00:00:00",
          "2024-06-28T00:00:00",
          "2024-07-01T00:00:00",
          "2024-07-02T00:00:00",
          "2024-07-03T00:00:00",
          "2024-07-05T00:00:00",
          "2024-07-08T00:00:00",
          "2024-07-09T00:00:00",
          "2024-07-10T00:00:00",
          "2024-07-11T00:00:00",
          "2024-07-12T00:00:00",
          "2024-07-15T00:00:00",
          "2024-07-16T00:00:00",
          "2024-07-17T00:00:00",
          "2024-07-18T00:00:00",
          "2024-07-19T00:00:00",
          "2024-07-22T00:00:00",
          "2024-07-23T00:00:00",
          "2024-07-24T00:00:00",
          "2024-07-25T00:00:00",
          "2024-07-26T00:00:00",
          "2024-07-29T00:00:00",
          "2024-07-30T00:00:00",
          "2024-07-31T00:00:00",
          "2024-08-01T00:00:00",
          "2024-08-02T00:00:00",
          "2024-08-05T00:00:00",
          "2024-08-06T00:00:00",
          "2024-08-07T00:00:00",
          "2024-08-08T00:00:00",
          "2024-08-09T00:00:00",
          "2024-08-12T00:00:00",
          "2024-08-13T00:00:00",
          "2024-08-14T00:00:00",
          "2024-08-15T00:00:00",
          "2024-08-16T00:00:00",
          "2024-08-19T00:00:00",
          "2024-08-20T00:00:00",
          "2024-08-21T00:00:00",
          "2024-08-22T00:00:00",
          "2024-08-23T00:00:00",
          "2024-08-26T00:00:00",
          "2024-08-27T00:00:00",
          "2024-08-28T00:00:00",
          "2024-08-29T00:00:00",
          "2024-08-30T00:00:00",
          "2024-09-03T00:00:00",
          "2024-09-04T00:00:00",
          "2024-09-05T00:00:00",
          "2024-09-06T00:00:00",
          "2024-09-09T00:00:00",
          "2024-09-10T00:00:00",
          "2024-09-11T00:00:00",
          "2024-09-12T00:00:00",
          "2024-09-13T00:00:00",
          "2024-09-16T00:00:00",
          "2024-09-17T00:00:00",
          "2024-09-18T00:00:00",
          "2024-09-19T00:00:00",
          "2024-09-20T00:00:00",
          "2024-09-23T00:00:00",
          "2024-09-24T00:00:00",
          "2024-09-25T00:00:00",
          "2024-09-26T00:00:00",
          "2024-09-27T00:00:00",
          "2024-09-30T00:00:00",
          "2024-10-01T00:00:00",
          "2024-10-02T00:00:00",
          "2024-10-03T00:00:00",
          "2024-10-04T00:00:00",
          "2024-10-07T00:00:00",
          "2024-10-08T00:00:00",
          "2024-10-09T00:00:00",
          "2024-10-10T00:00:00",
          "2024-10-11T00:00:00",
          "2024-10-14T00:00:00",
          "2024-10-15T00:00:00",
          "2024-10-16T00:00:00",
          "2024-10-17T00:00:00",
          "2024-10-18T00:00:00",
          "2024-10-21T00:00:00",
          "2024-10-22T00:00:00",
          "2024-10-23T00:00:00",
          "2024-10-24T00:00:00",
          "2024-10-25T00:00:00",
          "2024-10-28T00:00:00",
          "2024-10-29T00:00:00",
          "2024-10-30T00:00:00",
          "2024-10-31T00:00:00",
          "2024-11-01T00:00:00",
          "2024-11-04T00:00:00",
          "2024-11-05T00:00:00",
          "2024-11-06T00:00:00",
          "2024-11-07T00:00:00",
          "2024-11-08T00:00:00",
          "2024-11-11T00:00:00",
          "2024-11-12T00:00:00",
          "2024-11-13T00:00:00",
          "2024-11-14T00:00:00",
          "2024-11-15T00:00:00",
          "2024-11-18T00:00:00",
          "2024-11-19T00:00:00",
          "2024-11-20T00:00:00",
          "2024-11-21T00:00:00",
          "2024-11-22T00:00:00",
          "2024-11-25T00:00:00",
          "2024-11-26T00:00:00",
          "2024-11-27T00:00:00",
          "2024-11-29T00:00:00",
          "2024-12-02T00:00:00",
          "2024-12-03T00:00:00",
          "2024-12-04T00:00:00",
          "2024-12-05T00:00:00",
          "2024-12-06T00:00:00",
          "2024-12-09T00:00:00",
          "2024-12-10T00:00:00",
          "2024-12-11T00:00:00",
          "2024-12-12T00:00:00",
          "2024-12-13T00:00:00",
          "2024-12-16T00:00:00",
          "2024-12-17T00:00:00",
          "2024-12-18T00:00:00",
          "2024-12-19T00:00:00",
          "2024-12-20T00:00:00",
          "2024-12-23T00:00:00",
          "2024-12-24T00:00:00",
          "2024-12-26T00:00:00",
          "2024-12-27T00:00:00",
          "2024-12-30T00:00:00",
          "2024-12-31T00:00:00"
         ],
         "y": [
          52.25299835205078,
          53.13999938964844,
          54.349998474121094,
          54.821998596191406,
          54.709999084472656,
          56.38199996948242,
          56.053001403808594,
          57.106998443603516,
          59.49100112915039,
          59.65399932861328,
          59.87300109863281,
          61.36199951171875,
          61.617000579833984,
          61.03099822998047,
          62.46500015258789,
          62.77399826049805,
          61.527000427246094,
          63.027000427246094,
          66.16000366210938,
          69.33200073242188,
          68.2229995727539,
          70.0989990234375,
          69.64099884033203,
          72.13300323486328,
          72.24800109863281,
          72.12799835205078,
          73.9000015258789,
          72.65799713134766,
          72.61299896240234,
          69.4520034790039,
          67.47200012207031,
          78.53800201416016,
          78.81700134277344,
          79.09200286865234,
          78.70099639892578,
          77.66300201416016,
          79.11199951171875,
          82.27899932861328,
          85.23699951171875,
          85.96399688720703,
          88.69999694824219,
          92.66899871826172,
          87.52799987792969,
          85.77400207519531,
          91.91300201416016,
          90.88800048828125,
          87.94400024414062,
          87.83699798583984,
          88.45500183105469,
          89.39800262451172,
          90.37200164794922,
          91.43499755859375,
          94.28900146484375,
          95.00199890136719,
          92.56099700927734,
          90.25,
          90.35600280761719,
          90.36299896240234,
          89.4520034790039,
          88.96399688720703,
          85.90499877929688,
          88.00800323486328,
          87.13300323486328,
          85.35399627685547,
          87.03900146484375,
          90.61599731445312,
          88.18599700927734,
          86.0009994506836,
          87.41500091552734,
          84.03500366210938,
          84.6709976196289,
          76.19999694824219,
          79.51799774169922,
          82.4229965209961,
          79.677001953125,
          82.63200378417969,
          87.73500061035156,
          87.75700378417969,
          86.4020004272461,
          83.04100036621094,
          85.81700134277344,
          88.78900146484375,
          92.13999938964844,
          90.55400085449219,
          90.41200256347656,
          88.74700164794922,
          89.87799835205078,
          90.39900207519531,
          91.35600280761719,
          94.62999725341797,
          94.35900115966797,
          92.47899627685547,
          94.77999877929688,
          95.38600158691406,
          94.94999694824219,
          103.79900360107422,
          106.46900177001953,
          113.9010009765625,
          114.82499694824219,
          110.5,
          109.63300323486328,
          115,
          116.43699645996094,
          122.44000244140625,
          120.99800109863281,
          120.88800048828125,
          121.79000091552734,
          120.91000366210938,
          125.19999694824219,
          129.61000061035156,
          131.8800048828125,
          130.97999572753906,
          135.5800018310547,
          130.77999877929688,
          126.56999969482422,
          118.11000061035156,
          126.08999633789062,
          126.4000015258789,
          123.98999786376953,
          123.54000091552734,
          124.30000305175781,
          122.66999816894531,
          128.27999877929688,
          125.83000183105469,
          128.1999969482422,
          131.3800048828125,
          134.91000366210938,
          127.4000015258789,
          129.24000549316406,
          128.44000244140625,
          126.36000061035156,
          117.98999786376953,
          121.08999633789062,
          117.93000030517578,
          123.54000091552734,
          122.58999633789062,
          114.25,
          112.27999877929688,
          113.05999755859375,
          111.58999633789062,
          103.7300033569336,
          117.0199966430664,
          109.20999908447266,
          107.2699966430664,
          100.44999694824219,
          104.25,
          98.91000366210938,
          104.97000122070312,
          104.75,
          109.0199966430664,
          116.13999938964844,
          118.08000183105469,
          122.86000061035156,
          124.58000183105469,
          130,
          127.25,
          128.5,
          123.73999786376953,
          129.3699951171875,
          126.45999908447266,
          128.3000030517578,
          125.61000061035156,
          117.58999633789062,
          119.37000274658203,
          108,
          106.20999908447266,
          107.20999908447266,
          102.83000183105469,
          106.47000122070312,
          108.0999984741211,
          116.91000366210938,
          119.13999938964844,
          119.0999984741211,
          116.77999877929688,
          115.58999633789062,
          113.37000274658203,
          117.87000274658203,
          116,
          116.26000213623047,
          120.87000274658203,
          123.51000213623047,
          124.04000091552734,
          121.4000015258789,
          121.44000244140625,
          117,
          118.8499984741211,
          122.8499984741211,
          124.91999816894531,
          127.72000122070312,
          132.88999938964844,
          132.64999389648438,
          134.80999755859375,
          134.8000030517578,
          138.07000732421875,
          131.60000610351562,
          135.72000122070312,
          136.92999267578125,
          138,
          143.7100067138672,
          143.58999633789062,
          139.55999755859375,
          140.41000366210938,
          141.5399932861328,
          140.52000427246094,
          141.25,
          139.33999633789062,
          132.75999450683594,
          135.39999389648438,
          136.0500030517578,
          139.91000366210938,
          145.61000061035156,
          148.8800048828125,
          147.6300048828125,
          145.25999450683594,
          148.2899932861328,
          146.27000427246094,
          146.75999450683594,
          141.97999572753906,
          140.14999389648438,
          147.00999450683594,
          145.88999938964844,
          146.6699981689453,
          141.9499969482422,
          136.02000427246094,
          136.9199981689453,
          135.33999633789062,
          138.25,
          138.6300048828125,
          140.25999450683594,
          145.13999938964844,
          145.05999755859375,
          142.44000244140625,
          138.80999755859375,
          135.07000732421875,
          139.30999755859375,
          137.33999633789062,
          134.25,
          132,
          130.38999938964844,
          128.91000366210938,
          130.67999267578125,
          134.6999969482422,
          139.6699981689453,
          140.22000122070312,
          139.92999267578125,
          137.00999450683594,
          137.49000549316406,
          134.2899932861328
         ]
        },
        {
         "line": {
          "color": "orange",
          "dash": "dot"
         },
         "marker": {
          "color": "orange",
          "size": 8,
          "symbol": "triangle-up"
         },
         "mode": "markers+lines",
         "name": "Predicted (ANN)",
         "type": "scatter",
         "x": [
          "2024-01-08T00:00:00",
          "2024-01-09T00:00:00",
          "2024-01-10T00:00:00",
          "2024-01-11T00:00:00",
          "2024-01-12T00:00:00",
          "2024-01-16T00:00:00",
          "2024-01-17T00:00:00",
          "2024-01-18T00:00:00",
          "2024-01-19T00:00:00",
          "2024-01-22T00:00:00",
          "2024-01-23T00:00:00",
          "2024-01-24T00:00:00",
          "2024-01-25T00:00:00",
          "2024-01-26T00:00:00",
          "2024-01-29T00:00:00",
          "2024-01-30T00:00:00",
          "2024-01-31T00:00:00",
          "2024-02-01T00:00:00",
          "2024-02-02T00:00:00",
          "2024-02-05T00:00:00",
          "2024-02-06T00:00:00",
          "2024-02-07T00:00:00",
          "2024-02-08T00:00:00",
          "2024-02-09T00:00:00",
          "2024-02-12T00:00:00",
          "2024-02-13T00:00:00",
          "2024-02-14T00:00:00",
          "2024-02-15T00:00:00",
          "2024-02-16T00:00:00",
          "2024-02-20T00:00:00",
          "2024-02-21T00:00:00",
          "2024-02-22T00:00:00",
          "2024-02-23T00:00:00",
          "2024-02-26T00:00:00",
          "2024-02-27T00:00:00",
          "2024-02-28T00:00:00",
          "2024-02-29T00:00:00",
          "2024-03-01T00:00:00",
          "2024-03-04T00:00:00",
          "2024-03-05T00:00:00",
          "2024-03-06T00:00:00",
          "2024-03-07T00:00:00",
          "2024-03-08T00:00:00",
          "2024-03-11T00:00:00",
          "2024-03-12T00:00:00",
          "2024-03-13T00:00:00",
          "2024-03-14T00:00:00",
          "2024-03-15T00:00:00",
          "2024-03-18T00:00:00",
          "2024-03-19T00:00:00",
          "2024-03-20T00:00:00",
          "2024-03-21T00:00:00",
          "2024-03-22T00:00:00",
          "2024-03-25T00:00:00",
          "2024-03-26T00:00:00",
          "2024-03-27T00:00:00",
          "2024-03-28T00:00:00",
          "2024-04-01T00:00:00",
          "2024-04-02T00:00:00",
          "2024-04-03T00:00:00",
          "2024-04-04T00:00:00",
          "2024-04-05T00:00:00",
          "2024-04-08T00:00:00",
          "2024-04-09T00:00:00",
          "2024-04-10T00:00:00",
          "2024-04-11T00:00:00",
          "2024-04-12T00:00:00",
          "2024-04-15T00:00:00",
          "2024-04-16T00:00:00",
          "2024-04-17T00:00:00",
          "2024-04-18T00:00:00",
          "2024-04-19T00:00:00",
          "2024-04-22T00:00:00",
          "2024-04-23T00:00:00",
          "2024-04-24T00:00:00",
          "2024-04-25T00:00:00",
          "2024-04-26T00:00:00",
          "2024-04-29T00:00:00",
          "2024-04-30T00:00:00",
          "2024-05-01T00:00:00",
          "2024-05-02T00:00:00",
          "2024-05-03T00:00:00",
          "2024-05-06T00:00:00",
          "2024-05-07T00:00:00",
          "2024-05-08T00:00:00",
          "2024-05-09T00:00:00",
          "2024-05-10T00:00:00",
          "2024-05-13T00:00:00",
          "2024-05-14T00:00:00",
          "2024-05-15T00:00:00",
          "2024-05-16T00:00:00",
          "2024-05-17T00:00:00",
          "2024-05-20T00:00:00",
          "2024-05-21T00:00:00",
          "2024-05-22T00:00:00",
          "2024-05-23T00:00:00",
          "2024-05-24T00:00:00",
          "2024-05-28T00:00:00",
          "2024-05-29T00:00:00",
          "2024-05-30T00:00:00",
          "2024-05-31T00:00:00",
          "2024-06-03T00:00:00",
          "2024-06-04T00:00:00",
          "2024-06-05T00:00:00",
          "2024-06-06T00:00:00",
          "2024-06-07T00:00:00",
          "2024-06-10T00:00:00",
          "2024-06-11T00:00:00",
          "2024-06-12T00:00:00",
          "2024-06-13T00:00:00",
          "2024-06-14T00:00:00",
          "2024-06-17T00:00:00",
          "2024-06-18T00:00:00",
          "2024-06-20T00:00:00",
          "2024-06-21T00:00:00",
          "2024-06-24T00:00:00",
          "2024-06-25T00:00:00",
          "2024-06-26T00:00:00",
          "2024-06-27T00:00:00",
          "2024-06-28T00:00:00",
          "2024-07-01T00:00:00",
          "2024-07-02T00:00:00",
          "2024-07-03T00:00:00",
          "2024-07-05T00:00:00",
          "2024-07-08T00:00:00",
          "2024-07-09T00:00:00",
          "2024-07-10T00:00:00",
          "2024-07-11T00:00:00",
          "2024-07-12T00:00:00",
          "2024-07-15T00:00:00",
          "2024-07-16T00:00:00",
          "2024-07-17T00:00:00",
          "2024-07-18T00:00:00",
          "2024-07-19T00:00:00",
          "2024-07-22T00:00:00",
          "2024-07-23T00:00:00",
          "2024-07-24T00:00:00",
          "2024-07-25T00:00:00",
          "2024-07-26T00:00:00",
          "2024-07-29T00:00:00",
          "2024-07-30T00:00:00",
          "2024-07-31T00:00:00",
          "2024-08-01T00:00:00",
          "2024-08-02T00:00:00",
          "2024-08-05T00:00:00",
          "2024-08-06T00:00:00",
          "2024-08-07T00:00:00",
          "2024-08-08T00:00:00",
          "2024-08-09T00:00:00",
          "2024-08-12T00:00:00",
          "2024-08-13T00:00:00",
          "2024-08-14T00:00:00",
          "2024-08-15T00:00:00",
          "2024-08-16T00:00:00",
          "2024-08-19T00:00:00",
          "2024-08-20T00:00:00",
          "2024-08-21T00:00:00",
          "2024-08-22T00:00:00",
          "2024-08-23T00:00:00",
          "2024-08-26T00:00:00",
          "2024-08-27T00:00:00",
          "2024-08-28T00:00:00",
          "2024-08-29T00:00:00",
          "2024-08-30T00:00:00",
          "2024-09-03T00:00:00",
          "2024-09-04T00:00:00",
          "2024-09-05T00:00:00",
          "2024-09-06T00:00:00",
          "2024-09-09T00:00:00",
          "2024-09-10T00:00:00",
          "2024-09-11T00:00:00",
          "2024-09-12T00:00:00",
          "2024-09-13T00:00:00",
          "2024-09-16T00:00:00",
          "2024-09-17T00:00:00",
          "2024-09-18T00:00:00",
          "2024-09-19T00:00:00",
          "2024-09-20T00:00:00",
          "2024-09-23T00:00:00",
          "2024-09-24T00:00:00",
          "2024-09-25T00:00:00",
          "2024-09-26T00:00:00",
          "2024-09-27T00:00:00",
          "2024-09-30T00:00:00",
          "2024-10-01T00:00:00",
          "2024-10-02T00:00:00",
          "2024-10-03T00:00:00",
          "2024-10-04T00:00:00",
          "2024-10-07T00:00:00",
          "2024-10-08T00:00:00",
          "2024-10-09T00:00:00",
          "2024-10-10T00:00:00",
          "2024-10-11T00:00:00",
          "2024-10-14T00:00:00",
          "2024-10-15T00:00:00",
          "2024-10-16T00:00:00",
          "2024-10-17T00:00:00",
          "2024-10-18T00:00:00",
          "2024-10-21T00:00:00",
          "2024-10-22T00:00:00",
          "2024-10-23T00:00:00",
          "2024-10-24T00:00:00",
          "2024-10-25T00:00:00",
          "2024-10-28T00:00:00",
          "2024-10-29T00:00:00",
          "2024-10-30T00:00:00",
          "2024-10-31T00:00:00",
          "2024-11-01T00:00:00",
          "2024-11-04T00:00:00",
          "2024-11-05T00:00:00",
          "2024-11-06T00:00:00",
          "2024-11-07T00:00:00",
          "2024-11-08T00:00:00",
          "2024-11-11T00:00:00",
          "2024-11-12T00:00:00",
          "2024-11-13T00:00:00",
          "2024-11-14T00:00:00",
          "2024-11-15T00:00:00",
          "2024-11-18T00:00:00",
          "2024-11-19T00:00:00",
          "2024-11-20T00:00:00",
          "2024-11-21T00:00:00",
          "2024-11-22T00:00:00",
          "2024-11-25T00:00:00",
          "2024-11-26T00:00:00",
          "2024-11-27T00:00:00",
          "2024-11-29T00:00:00",
          "2024-12-02T00:00:00",
          "2024-12-03T00:00:00",
          "2024-12-04T00:00:00",
          "2024-12-05T00:00:00",
          "2024-12-06T00:00:00",
          "2024-12-09T00:00:00",
          "2024-12-10T00:00:00",
          "2024-12-11T00:00:00",
          "2024-12-12T00:00:00",
          "2024-12-13T00:00:00",
          "2024-12-16T00:00:00",
          "2024-12-17T00:00:00",
          "2024-12-18T00:00:00",
          "2024-12-19T00:00:00",
          "2024-12-20T00:00:00",
          "2024-12-23T00:00:00",
          "2024-12-24T00:00:00",
          "2024-12-26T00:00:00",
          "2024-12-27T00:00:00",
          "2024-12-30T00:00:00",
          "2024-12-31T00:00:00"
         ],
         "y": [
          50.88804626464844,
          50.26057434082031,
          53.60198974609375,
          52.35066223144531,
          54.8636360168457,
          56.75032043457031,
          54.844303131103516,
          55.711753845214844,
          58.30016326904297,
          57.31092834472656,
          59.68461608886719,
          59.56138610839844,
          59.017860412597656,
          60.62451934814453,
          61.30375671386719,
          61.33875274658203,
          61.427215576171875,
          61.72852325439453,
          64.05990600585938,
          66.93257141113281,
          67.4559097290039,
          70.85870361328125,
          68.69538116455078,
          73.71681213378906,
          70.6228256225586,
          71.2125473022461,
          72.58721160888672,
          71.45814514160156,
          71.84741973876953,
          73.12175750732422,
          71.7508544921875,
          75.9295883178711,
          80.278564453125,
          77.47017669677734,
          79.25846099853516,
          81.10921478271484,
          81.07164764404297,
          81.03580474853516,
          81.68657684326172,
          84.44978332519531,
          87.6374740600586,
          94.03135681152344,
          106.39486694335938,
          91.27741241455078,
          90.88467407226562,
          90.85633087158203,
          91.47252655029297,
          91.10956573486328,
          92.13216400146484,
          89.44391632080078,
          89.76957702636719,
          89.0983657836914,
          92.18191528320312,
          92.40057373046875,
          92.00241088867188,
          92.84955596923828,
          92.8469009399414,
          92.44585418701172,
          93.21863555908203,
          91.83084869384766,
          90.0022964477539,
          89.15229034423828,
          86.92680358886719,
          88.69994354248047,
          88.16223907470703,
          88.76136779785156,
          86.20611572265625,
          87.80364990234375,
          87.72734832763672,
          87.77999114990234,
          86.9328384399414,
          98.9856948852539,
          87.87544250488281,
          88.2907485961914,
          84.96663665771484,
          83.64252471923828,
          85.77117156982422,
          85.84587097167969,
          84.5219497680664,
          87.8383560180664,
          87.64331817626953,
          88.27323150634766,
          92.52900695800781,
          89.0158920288086,
          93.28694915771484,
          87.99750518798828,
          89.91278839111328,
          89.92314147949219,
          90.4853744506836,
          92.333740234375,
          91.5843276977539,
          90.79866790771484,
          94.33170318603516,
          95.5409164428711,
          94.69786834716797,
          99.7425308227539,
          106.71083068847656,
          117.46868896484375,
          121.49357604980469,
          119.64080810546875,
          119.0640640258789,
          118.30406951904297,
          118.06280517578125,
          123.06847381591797,
          126.641357421875,
          124.2155990600586,
          124.38448333740234,
          121.22461700439453,
          124.04014587402344,
          126.34529876708984,
          130.30531311035156,
          129.487060546875,
          138.8968048095703,
          143.61859130859375,
          135.5564422607422,
          135.87098693847656,
          138.47789001464844,
          135.69296264648438,
          132.6349334716797,
          128.2227325439453,
          125.61629486083984,
          125.85225677490234,
          129.0741729736328,
          124.51544189453125,
          126.73296356201172,
          128.69325256347656,
          133.79185485839844,
          135.81385803222656,
          132.4611358642578,
          130.21878051757812,
          130.34031677246094,
          132.4157257080078,
          135.30010986328125,
          127.3332290649414,
          131.1808624267578,
          125.1548843383789,
          124.30109405517578,
          129.22296142578125,
          120.27172088623047,
          121.34577178955078,
          128.85797119140625,
          122.96466827392578,
          132.62796020507812,
          116.93436431884766,
          123.3429183959961,
          118.4578628540039,
          121.03694152832031,
          117.82366943359375,
          105.88423156738281,
          107.80257415771484,
          115.31378936767578,
          118.7536392211914,
          130.264892578125,
          131.70826721191406,
          140.24313354492188,
          131.6852264404297,
          135.14114379882812,
          132.3480987548828,
          132.82127380371094,
          131.78939819335938,
          130.47340393066406,
          129.17721557617188,
          133.76473999023438,
          128.5260467529297,
          136.31170654296875,
          139.2901611328125,
          133.69500732421875,
          126.24242401123047,
          118.395263671875,
          114.76836395263672,
          115.60012817382812,
          118.4754409790039,
          119.16370391845703,
          122.48013305664062,
          118.681884765625,
          118.55309295654297,
          119.7896499633789,
          118.63733673095703,
          118.31190490722656,
          119.37110900878906,
          122.28174591064453,
          123.63304901123047,
          121.75942993164062,
          126.8666000366211,
          124.18599700927734,
          123.80632781982422,
          124.0955581665039,
          123.7286148071289,
          125.43048858642578,
          133.24026489257812,
          130.5716094970703,
          139.7589874267578,
          138.4481201171875,
          140.21839904785156,
          142.7335205078125,
          136.927978515625,
          135.90403747558594,
          137.71693420410156,
          145.50685119628906,
          144.1207733154297,
          141.8639678955078,
          141.71739196777344,
          143.08863830566406,
          140.964599609375,
          142.5762176513672,
          141.71279907226562,
          140.57717895507812,
          142.27137756347656,
          139.3250732421875,
          142.36932373046875,
          144.47410583496094,
          151.7649688720703,
          147.21725463867188,
          147.77403259277344,
          152.1707763671875,
          146.95089721679688,
          148.61532592773438,
          147.324951171875,
          148.916748046875,
          150.84779357910156,
          146.86734008789062,
          157.25396728515625,
          145.9097900390625,
          145.05538940429688,
          145.9318084716797,
          148.36380004882812,
          146.94241333007812,
          141.9543914794922,
          140.40870666503906,
          142.55294799804688,
          143.27804565429688,
          142.49266052246094,
          143.55262756347656,
          147.2489471435547,
          145.6352081298828,
          144.90478515625,
          143.80300903320312,
          138.10604858398438,
          138.5468292236328,
          140.6334228515625,
          135.74636840820312,
          135.8424072265625,
          137.9088134765625,
          138.9434814453125,
          141.2015380859375,
          139.89451599121094,
          141.0365447998047,
          137.8809356689453
         ]
        }
       ],
       "layout": {
        "hovermode": "x unified",
        "template": {
         "data": {
          "bar": [
           {
            "error_x": {
             "color": "#2a3f5f"
            },
            "error_y": {
             "color": "#2a3f5f"
            },
            "marker": {
             "line": {
              "color": "white",
              "width": 0.5
             },
             "pattern": {
              "fillmode": "overlay",
              "size": 10,
              "solidity": 0.2
             }
            },
            "type": "bar"
           }
          ],
          "barpolar": [
           {
            "marker": {
             "line": {
              "color": "white",
              "width": 0.5
             },
             "pattern": {
              "fillmode": "overlay",
              "size": 10,
              "solidity": 0.2
             }
            },
            "type": "barpolar"
           }
          ],
          "carpet": [
           {
            "aaxis": {
             "endlinecolor": "#2a3f5f",
             "gridcolor": "#C8D4E3",
             "linecolor": "#C8D4E3",
             "minorgridcolor": "#C8D4E3",
             "startlinecolor": "#2a3f5f"
            },
            "baxis": {
             "endlinecolor": "#2a3f5f",
             "gridcolor": "#C8D4E3",
             "linecolor": "#C8D4E3",
             "minorgridcolor": "#C8D4E3",
             "startlinecolor": "#2a3f5f"
            },
            "type": "carpet"
           }
          ],
          "choropleth": [
           {
            "colorbar": {
             "outlinewidth": 0,
             "ticks": ""
            },
            "type": "choropleth"
           }
          ],
          "contour": [
           {
            "colorbar": {
             "outlinewidth": 0,
             "ticks": ""
            },
            "colorscale": [
             [
              0,
              "#0d0887"
             ],
             [
              0.1111111111111111,
              "#46039f"
             ],
             [
              0.2222222222222222,
              "#7201a8"
             ],
             [
              0.3333333333333333,
              "#9c179e"
             ],
             [
              0.4444444444444444,
              "#bd3786"
             ],
             [
              0.5555555555555556,
              "#d8576b"
             ],
             [
              0.6666666666666666,
              "#ed7953"
             ],
             [
              0.7777777777777778,
              "#fb9f3a"
             ],
             [
              0.8888888888888888,
              "#fdca26"
             ],
             [
              1,
              "#f0f921"
             ]
            ],
            "type": "contour"
           }
          ],
          "contourcarpet": [
           {
            "colorbar": {
             "outlinewidth": 0,
             "ticks": ""
            },
            "type": "contourcarpet"
           }
          ],
          "heatmap": [
           {
            "colorbar": {
             "outlinewidth": 0,
             "ticks": ""
            },
            "colorscale": [
             [
              0,
              "#0d0887"
             ],
             [
              0.1111111111111111,
              "#46039f"
             ],
             [
              0.2222222222222222,
              "#7201a8"
             ],
             [
              0.3333333333333333,
              "#9c179e"
             ],
             [
              0.4444444444444444,
              "#bd3786"
             ],
             [
              0.5555555555555556,
              "#d8576b"
             ],
             [
              0.6666666666666666,
              "#ed7953"
             ],
             [
              0.7777777777777778,
              "#fb9f3a"
             ],
             [
              0.8888888888888888,
              "#fdca26"
             ],
             [
              1,
              "#f0f921"
             ]
            ],
            "type": "heatmap"
           }
          ],
          "heatmapgl": [
           {
            "colorbar": {
             "outlinewidth": 0,
             "ticks": ""
            },
            "colorscale": [
             [
              0,
              "#0d0887"
             ],
             [
              0.1111111111111111,
              "#46039f"
             ],
             [
              0.2222222222222222,
              "#7201a8"
             ],
             [
              0.3333333333333333,
              "#9c179e"
             ],
             [
              0.4444444444444444,
              "#bd3786"
             ],
             [
              0.5555555555555556,
              "#d8576b"
             ],
             [
              0.6666666666666666,
              "#ed7953"
             ],
             [
              0.7777777777777778,
              "#fb9f3a"
             ],
             [
              0.8888888888888888,
              "#fdca26"
             ],
             [
              1,
              "#f0f921"
             ]
            ],
            "type": "heatmapgl"
           }
          ],
          "histogram": [
           {
            "marker": {
             "pattern": {
              "fillmode": "overlay",
              "size": 10,
              "solidity": 0.2
             }
            },
            "type": "histogram"
           }
          ],
          "histogram2d": [
           {
            "colorbar": {
             "outlinewidth": 0,
             "ticks": ""
            },
            "colorscale": [
             [
              0,
              "#0d0887"
             ],
             [
              0.1111111111111111,
              "#46039f"
             ],
             [
              0.2222222222222222,
              "#7201a8"
             ],
             [
              0.3333333333333333,
              "#9c179e"
             ],
             [
              0.4444444444444444,
              "#bd3786"
             ],
             [
              0.5555555555555556,
              "#d8576b"
             ],
             [
              0.6666666666666666,
              "#ed7953"
             ],
             [
              0.7777777777777778,
              "#fb9f3a"
             ],
             [
              0.8888888888888888,
              "#fdca26"
             ],
             [
              1,
              "#f0f921"
             ]
            ],
            "type": "histogram2d"
           }
          ],
          "histogram2dcontour": [
           {
            "colorbar": {
             "outlinewidth": 0,
             "ticks": ""
            },
            "colorscale": [
             [
              0,
              "#0d0887"
             ],
             [
              0.1111111111111111,
              "#46039f"
             ],
             [
              0.2222222222222222,
              "#7201a8"
             ],
             [
              0.3333333333333333,
              "#9c179e"
             ],
             [
              0.4444444444444444,
              "#bd3786"
             ],
             [
              0.5555555555555556,
              "#d8576b"
             ],
             [
              0.6666666666666666,
              "#ed7953"
             ],
             [
              0.7777777777777778,
              "#fb9f3a"
             ],
             [
              0.8888888888888888,
              "#fdca26"
             ],
             [
              1,
              "#f0f921"
             ]
            ],
            "type": "histogram2dcontour"
           }
          ],
          "mesh3d": [
           {
            "colorbar": {
             "outlinewidth": 0,
             "ticks": ""
            },
            "type": "mesh3d"
           }
          ],
          "parcoords": [
           {
            "line": {
             "colorbar": {
              "outlinewidth": 0,
              "ticks": ""
             }
            },
            "type": "parcoords"
           }
          ],
          "pie": [
           {
            "automargin": true,
            "type": "pie"
           }
          ],
          "scatter": [
           {
            "fillpattern": {
             "fillmode": "overlay",
             "size": 10,
             "solidity": 0.2
            },
            "type": "scatter"
           }
          ],
          "scatter3d": [
           {
            "line": {
             "colorbar": {
              "outlinewidth": 0,
              "ticks": ""
             }
            },
            "marker": {
             "colorbar": {
              "outlinewidth": 0,
              "ticks": ""
             }
            },
            "type": "scatter3d"
           }
          ],
          "scattercarpet": [
           {
            "marker": {
             "colorbar": {
              "outlinewidth": 0,
              "ticks": ""
             }
            },
            "type": "scattercarpet"
           }
          ],
          "scattergeo": [
           {
            "marker": {
             "colorbar": {
              "outlinewidth": 0,
              "ticks": ""
             }
            },
            "type": "scattergeo"
           }
          ],
          "scattergl": [
           {
            "marker": {
             "colorbar": {
              "outlinewidth": 0,
              "ticks": ""
             }
            },
            "type": "scattergl"
           }
          ],
          "scattermapbox": [
           {
            "marker": {
             "colorbar": {
              "outlinewidth": 0,
              "ticks": ""
             }
            },
            "type": "scattermapbox"
           }
          ],
          "scatterpolar": [
           {
            "marker": {
             "colorbar": {
              "outlinewidth": 0,
              "ticks": ""
             }
            },
            "type": "scatterpolar"
           }
          ],
          "scatterpolargl": [
           {
            "marker": {
             "colorbar": {
              "outlinewidth": 0,
              "ticks": ""
             }
            },
            "type": "scatterpolargl"
           }
          ],
          "scatterternary": [
           {
            "marker": {
             "colorbar": {
              "outlinewidth": 0,
              "ticks": ""
             }
            },
            "type": "scatterternary"
           }
          ],
          "surface": [
           {
            "colorbar": {
             "outlinewidth": 0,
             "ticks": ""
            },
            "colorscale": [
             [
              0,
              "#0d0887"
             ],
             [
              0.1111111111111111,
              "#46039f"
             ],
             [
              0.2222222222222222,
              "#7201a8"
             ],
             [
              0.3333333333333333,
              "#9c179e"
             ],
             [
              0.4444444444444444,
              "#bd3786"
             ],
             [
              0.5555555555555556,
              "#d8576b"
             ],
             [
              0.6666666666666666,
              "#ed7953"
             ],
             [
              0.7777777777777778,
              "#fb9f3a"
             ],
             [
              0.8888888888888888,
              "#fdca26"
             ],
             [
              1,
              "#f0f921"
             ]
            ],
            "type": "surface"
           }
          ],
          "table": [
           {
            "cells": {
             "fill": {
              "color": "#EBF0F8"
             },
             "line": {
              "color": "white"
             }
            },
            "header": {
             "fill": {
              "color": "#C8D4E3"
             },
             "line": {
              "color": "white"
             }
            },
            "type": "table"
           }
          ]
         },
         "layout": {
          "annotationdefaults": {
           "arrowcolor": "#2a3f5f",
           "arrowhead": 0,
           "arrowwidth": 1
          },
          "autotypenumbers": "strict",
          "coloraxis": {
           "colorbar": {
            "outlinewidth": 0,
            "ticks": ""
           }
          },
          "colorscale": {
           "diverging": [
            [
             0,
             "#8e0152"
            ],
            [
             0.1,
             "#c51b7d"
            ],
            [
             0.2,
             "#de77ae"
            ],
            [
             0.3,
             "#f1b6da"
            ],
            [
             0.4,
             "#fde0ef"
            ],
            [
             0.5,
             "#f7f7f7"
            ],
            [
             0.6,
             "#e6f5d0"
            ],
            [
             0.7,
             "#b8e186"
            ],
            [
             0.8,
             "#7fbc41"
            ],
            [
             0.9,
             "#4d9221"
            ],
            [
             1,
             "#276419"
            ]
           ],
           "sequential": [
            [
             0,
             "#0d0887"
            ],
            [
             0.1111111111111111,
             "#46039f"
            ],
            [
             0.2222222222222222,
             "#7201a8"
            ],
            [
             0.3333333333333333,
             "#9c179e"
            ],
            [
             0.4444444444444444,
             "#bd3786"
            ],
            [
             0.5555555555555556,
             "#d8576b"
            ],
            [
             0.6666666666666666,
             "#ed7953"
            ],
            [
             0.7777777777777778,
             "#fb9f3a"
            ],
            [
             0.8888888888888888,
             "#fdca26"
            ],
            [
             1,
             "#f0f921"
            ]
           ],
           "sequentialminus": [
            [
             0,
             "#0d0887"
            ],
            [
             0.1111111111111111,
             "#46039f"
            ],
            [
             0.2222222222222222,
             "#7201a8"
            ],
            [
             0.3333333333333333,
             "#9c179e"
            ],
            [
             0.4444444444444444,
             "#bd3786"
            ],
            [
             0.5555555555555556,
             "#d8576b"
            ],
            [
             0.6666666666666666,
             "#ed7953"
            ],
            [
             0.7777777777777778,
             "#fb9f3a"
            ],
            [
             0.8888888888888888,
             "#fdca26"
            ],
            [
             1,
             "#f0f921"
            ]
           ]
          },
          "colorway": [
           "#636efa",
           "#EF553B",
           "#00cc96",
           "#ab63fa",
           "#FFA15A",
           "#19d3f3",
           "#FF6692",
           "#B6E880",
           "#FF97FF",
           "#FECB52"
          ],
          "font": {
           "color": "#2a3f5f"
          },
          "geo": {
           "bgcolor": "white",
           "lakecolor": "white",
           "landcolor": "white",
           "showlakes": true,
           "showland": true,
           "subunitcolor": "#C8D4E3"
          },
          "hoverlabel": {
           "align": "left"
          },
          "hovermode": "closest",
          "mapbox": {
           "style": "light"
          },
          "paper_bgcolor": "white",
          "plot_bgcolor": "white",
          "polar": {
           "angularaxis": {
            "gridcolor": "#EBF0F8",
            "linecolor": "#EBF0F8",
            "ticks": ""
           },
           "bgcolor": "white",
           "radialaxis": {
            "gridcolor": "#EBF0F8",
            "linecolor": "#EBF0F8",
            "ticks": ""
           }
          },
          "scene": {
           "xaxis": {
            "backgroundcolor": "white",
            "gridcolor": "#DFE8F3",
            "gridwidth": 2,
            "linecolor": "#EBF0F8",
            "showbackground": true,
            "ticks": "",
            "zerolinecolor": "#EBF0F8"
           },
           "yaxis": {
            "backgroundcolor": "white",
            "gridcolor": "#DFE8F3",
            "gridwidth": 2,
            "linecolor": "#EBF0F8",
            "showbackground": true,
            "ticks": "",
            "zerolinecolor": "#EBF0F8"
           },
           "zaxis": {
            "backgroundcolor": "white",
            "gridcolor": "#DFE8F3",
            "gridwidth": 2,
            "linecolor": "#EBF0F8",
            "showbackground": true,
            "ticks": "",
            "zerolinecolor": "#EBF0F8"
           }
          },
          "shapedefaults": {
           "line": {
            "color": "#2a3f5f"
           }
          },
          "ternary": {
           "aaxis": {
            "gridcolor": "#DFE8F3",
            "linecolor": "#A2B1C6",
            "ticks": ""
           },
           "baxis": {
            "gridcolor": "#DFE8F3",
            "linecolor": "#A2B1C6",
            "ticks": ""
           },
           "bgcolor": "white",
           "caxis": {
            "gridcolor": "#DFE8F3",
            "linecolor": "#A2B1C6",
            "ticks": ""
           }
          },
          "title": {
           "x": 0.05
          },
          "xaxis": {
           "automargin": true,
           "gridcolor": "#EBF0F8",
           "linecolor": "#EBF0F8",
           "ticks": "",
           "title": {
            "standoff": 15
           },
           "zerolinecolor": "#EBF0F8",
           "zerolinewidth": 2
          },
          "yaxis": {
           "automargin": true,
           "gridcolor": "#EBF0F8",
           "linecolor": "#EBF0F8",
           "ticks": "",
           "title": {
            "standoff": 15
           },
           "zerolinecolor": "#EBF0F8",
           "zerolinewidth": 2
          }
         }
        },
        "title": {
         "text": "Actual vs Predicted Close Price for NVIDIA (ANN)"
        },
        "xaxis": {
         "title": {
          "text": "Date"
         }
        },
        "yaxis": {
         "title": {
          "text": "Price"
         }
        }
       }
      }
     },
     "metadata": {},
     "output_type": "display_data"
    }
   ],
   "source": [
    "\n",
    "\n",
    "fig = go.Figure()\n",
    "\n",
    "\n",
    "fig.add_trace(go.Scatter(\n",
    "    x=val_df.index,\n",
    "    y=y_val.values,\n",
    "    mode='markers+lines',\n",
    "    name='Actual',\n",
    "    marker=dict(symbol='square', size=8, color='blue'),\n",
    "    line=dict(color='blue')\n",
    "))\n",
    "\n",
    "\n",
    "fig.add_trace(go.Scatter(\n",
    "    x=val_df.index,\n",
    "    y=y_pred_ann,\n",
    "    mode='markers+lines',\n",
    "    name='Predicted (ANN)',\n",
    "    marker=dict(symbol='triangle-up', size=8, color='orange'),\n",
    "    line=dict(color='orange', dash='dot')\n",
    "))\n",
    "\n",
    "fig.update_layout(\n",
    "    title=f\"Actual vs Predicted Close Price for {Stock} (ANN)\",\n",
    "    xaxis_title=\"Date\",\n",
    "    yaxis_title=\"Price\",\n",
    "    hovermode=\"x unified\",\n",
    "    template=\"plotly_white\"\n",
    ")\n",
    "\n",
    "fig.show()\n"
   ]
  },
  {
   "cell_type": "code",
   "execution_count": 31,
   "id": "9fe55154",
   "metadata": {},
   "outputs": [
    {
     "name": "stdout",
     "output_type": "stream",
     "text": [
      "Price       Adj Close      Close       High        Low       Open     Volume\n",
      "Ticker           NVDA       NVDA       NVDA       NVDA       NVDA       NVDA\n",
      "Date                                                                        \n",
      "2023-07-11  42.378918  42.404999  42.757999  42.067001  42.480999  298244000\n",
      "2023-07-12  43.875000  43.902000  43.935001  42.777000  43.033001  481277000\n",
      "2023-07-13  45.948727  45.977001  46.154999  44.492001  44.518002  478204000\n",
      "2023-07-14  45.441040  45.469002  48.088001  45.060001  46.583000  772075000\n",
      "2023-07-17  46.432423  46.460999  46.495998  45.262001  46.289001  510488000\n",
      "Price        Adj Close       Close        High         Low        Open  \\\n",
      "Ticker            NVDA        NVDA        NVDA        NVDA        NVDA   \n",
      "Date                                                                     \n",
      "2025-07-03  159.339996  159.339996  160.979996  157.770004  158.369995   \n",
      "2025-07-07  158.240005  158.240005  159.309998  157.339996  158.199997   \n",
      "2025-07-08  160.000000  160.000000  160.220001  158.389999  159.330002   \n",
      "2025-07-09  162.880005  162.880005  164.419998  161.160004  161.220001   \n",
      "2025-07-10  164.100006  164.100006  164.500000  161.610001  164.320007   \n",
      "\n",
      "Price          Volume  \n",
      "Ticker           NVDA  \n",
      "Date                   \n",
      "2025-07-03  143716100  \n",
      "2025-07-07  140139000  \n",
      "2025-07-08  138133000  \n",
      "2025-07-09  183656400  \n",
      "2025-07-10  167330000  \n",
      "MultiIndex([('Adj Close', 'NVDA'),\n",
      "            (    'Close', 'NVDA'),\n",
      "            (     'High', 'NVDA'),\n",
      "            (      'Low', 'NVDA'),\n",
      "            (     'Open', 'NVDA'),\n",
      "            (   'Volume', 'NVDA')],\n",
      "           names=['Price', 'Ticker'])\n",
      "Index(['Adj Close', 'Close', 'High', 'Low', 'Open', 'Volume'], dtype='object', name='Price')\n",
      "Train range: 2023-08-08 00:00:00 to 2025-02-19 00:00:00\n",
      "Val range: 2025-02-20 00:00:00 to 2025-07-10 00:00:00\n",
      "Epoch 1/500\n"
     ]
    },
    {
     "name": "stderr",
     "output_type": "stream",
     "text": [
      "/home/billy_56/anaconda3/lib/python3.12/site-packages/keras/src/layers/core/dense.py:87: UserWarning:\n",
      "\n",
      "Do not pass an `input_shape`/`input_dim` argument to a layer. When using Sequential models, prefer using an `Input(shape)` object as the first layer in the model instead.\n",
      "\n"
     ]
    },
    {
     "name": "stdout",
     "output_type": "stream",
     "text": [
      "13/13 - 1s - 50ms/step - loss: 10104.0283 - val_loss: 16178.2988\n",
      "Epoch 2/500\n",
      "13/13 - 0s - 9ms/step - loss: 10030.5088 - val_loss: 16069.1006\n",
      "Epoch 3/500\n",
      "13/13 - 0s - 8ms/step - loss: 9955.6475 - val_loss: 15954.0977\n",
      "Epoch 4/500\n",
      "13/13 - 0s - 8ms/step - loss: 9874.8398 - val_loss: 15831.1338\n",
      "Epoch 5/500\n",
      "13/13 - 0s - 8ms/step - loss: 9788.4648 - val_loss: 15690.6973\n",
      "Epoch 6/500\n",
      "13/13 - 0s - 8ms/step - loss: 9692.1211 - val_loss: 15529.0859\n",
      "Epoch 7/500\n",
      "13/13 - 0s - 8ms/step - loss: 9579.0723 - val_loss: 15340.7793\n",
      "Epoch 8/500\n",
      "13/13 - 0s - 8ms/step - loss: 9459.8184 - val_loss: 15148.2744\n",
      "Epoch 9/500\n",
      "13/13 - 0s - 8ms/step - loss: 9333.7646 - val_loss: 14935.3477\n",
      "Epoch 10/500\n",
      "13/13 - 0s - 8ms/step - loss: 9191.9736 - val_loss: 14682.3037\n",
      "Epoch 11/500\n",
      "13/13 - 0s - 8ms/step - loss: 9032.2520 - val_loss: 14413.8398\n",
      "Epoch 12/500\n",
      "13/13 - 0s - 8ms/step - loss: 8869.5850 - val_loss: 14130.1543\n",
      "Epoch 13/500\n",
      "13/13 - 0s - 8ms/step - loss: 8696.0137 - val_loss: 13835.7852\n",
      "Epoch 14/500\n",
      "13/13 - 0s - 7ms/step - loss: 8510.5576 - val_loss: 13511.2090\n",
      "Epoch 15/500\n",
      "13/13 - 0s - 8ms/step - loss: 8311.5107 - val_loss: 13173.6094\n",
      "Epoch 16/500\n",
      "13/13 - 0s - 7ms/step - loss: 8093.2583 - val_loss: 12784.9932\n",
      "Epoch 17/500\n",
      "13/13 - 0s - 8ms/step - loss: 7865.9648 - val_loss: 12420.5840\n",
      "Epoch 18/500\n",
      "13/13 - 0s - 7ms/step - loss: 7640.2856 - val_loss: 12050.8418\n",
      "Epoch 19/500\n",
      "13/13 - 0s - 7ms/step - loss: 7407.0723 - val_loss: 11652.5127\n",
      "Epoch 20/500\n",
      "13/13 - 0s - 7ms/step - loss: 7165.7090 - val_loss: 11255.6934\n",
      "Epoch 21/500\n",
      "13/13 - 0s - 8ms/step - loss: 6920.6382 - val_loss: 10828.8311\n",
      "Epoch 22/500\n",
      "13/13 - 0s - 7ms/step - loss: 6653.6538 - val_loss: 10374.2627\n",
      "Epoch 23/500\n",
      "13/13 - 0s - 8ms/step - loss: 6379.5396 - val_loss: 9900.5244\n",
      "Epoch 24/500\n",
      "13/13 - 0s - 9ms/step - loss: 6100.2500 - val_loss: 9433.4043\n",
      "Epoch 25/500\n",
      "13/13 - 0s - 10ms/step - loss: 5825.8086 - val_loss: 8961.9980\n",
      "Epoch 26/500\n",
      "13/13 - 0s - 7ms/step - loss: 5566.8843 - val_loss: 8550.8828\n",
      "Epoch 27/500\n",
      "13/13 - 0s - 7ms/step - loss: 5322.2725 - val_loss: 8158.1084\n",
      "Epoch 28/500\n",
      "13/13 - 0s - 7ms/step - loss: 5084.2031 - val_loss: 7771.8945\n",
      "Epoch 29/500\n",
      "13/13 - 0s - 7ms/step - loss: 4848.1333 - val_loss: 7399.0703\n",
      "Epoch 30/500\n",
      "13/13 - 0s - 8ms/step - loss: 4623.8218 - val_loss: 7016.0034\n",
      "Epoch 31/500\n",
      "13/13 - 0s - 8ms/step - loss: 4392.6636 - val_loss: 6651.1719\n",
      "Epoch 32/500\n",
      "13/13 - 0s - 7ms/step - loss: 4175.5464 - val_loss: 6279.4341\n",
      "Epoch 33/500\n",
      "13/13 - 0s - 8ms/step - loss: 3955.6675 - val_loss: 5931.0723\n",
      "Epoch 34/500\n",
      "13/13 - 0s - 7ms/step - loss: 3749.9097 - val_loss: 5579.7163\n",
      "Epoch 35/500\n",
      "13/13 - 0s - 8ms/step - loss: 3539.6174 - val_loss: 5203.8374\n",
      "Epoch 36/500\n",
      "13/13 - 0s - 8ms/step - loss: 3326.8582 - val_loss: 4832.2427\n",
      "Epoch 37/500\n",
      "13/13 - 0s - 8ms/step - loss: 3121.7271 - val_loss: 4490.0518\n",
      "Epoch 38/500\n",
      "13/13 - 0s - 7ms/step - loss: 2930.3020 - val_loss: 4153.6577\n",
      "Epoch 39/500\n",
      "13/13 - 0s - 7ms/step - loss: 2755.3640 - val_loss: 3856.1536\n",
      "Epoch 40/500\n",
      "13/13 - 0s - 7ms/step - loss: 2594.0308 - val_loss: 3589.7156\n",
      "Epoch 41/500\n",
      "13/13 - 0s - 7ms/step - loss: 2444.3193 - val_loss: 3346.5132\n",
      "Epoch 42/500\n",
      "13/13 - 0s - 7ms/step - loss: 2306.5396 - val_loss: 3102.6792\n",
      "Epoch 43/500\n",
      "13/13 - 0s - 8ms/step - loss: 2177.9958 - val_loss: 2876.1279\n",
      "Epoch 44/500\n",
      "13/13 - 0s - 8ms/step - loss: 2053.7812 - val_loss: 2645.2080\n",
      "Epoch 45/500\n",
      "13/13 - 0s - 7ms/step - loss: 1938.0186 - val_loss: 2446.3943\n",
      "Epoch 46/500\n",
      "13/13 - 0s - 7ms/step - loss: 1832.2452 - val_loss: 2238.4746\n",
      "Epoch 47/500\n",
      "13/13 - 0s - 7ms/step - loss: 1732.7201 - val_loss: 2060.2234\n",
      "Epoch 48/500\n",
      "13/13 - 0s - 8ms/step - loss: 1644.7563 - val_loss: 1912.1543\n",
      "Epoch 49/500\n",
      "13/13 - 0s - 8ms/step - loss: 1570.7373 - val_loss: 1779.8271\n",
      "Epoch 50/500\n",
      "13/13 - 0s - 8ms/step - loss: 1504.6510 - val_loss: 1658.5487\n",
      "Epoch 51/500\n",
      "13/13 - 0s - 8ms/step - loss: 1440.8550 - val_loss: 1544.5607\n",
      "Epoch 52/500\n",
      "13/13 - 0s - 9ms/step - loss: 1383.7865 - val_loss: 1447.9447\n",
      "Epoch 53/500\n",
      "13/13 - 0s - 7ms/step - loss: 1337.7601 - val_loss: 1362.6144\n",
      "Epoch 54/500\n",
      "13/13 - 0s - 7ms/step - loss: 1296.6600 - val_loss: 1282.8361\n",
      "Epoch 55/500\n",
      "13/13 - 0s - 7ms/step - loss: 1257.3000 - val_loss: 1200.7334\n",
      "Epoch 56/500\n",
      "13/13 - 0s - 7ms/step - loss: 1222.5924 - val_loss: 1135.6934\n",
      "Epoch 57/500\n",
      "13/13 - 0s - 7ms/step - loss: 1194.9214 - val_loss: 1076.3842\n",
      "Epoch 58/500\n",
      "13/13 - 0s - 7ms/step - loss: 1168.5966 - val_loss: 1023.0275\n",
      "Epoch 59/500\n",
      "13/13 - 0s - 8ms/step - loss: 1145.2294 - val_loss: 974.4489\n",
      "Epoch 60/500\n",
      "13/13 - 0s - 7ms/step - loss: 1121.9844 - val_loss: 924.8187\n",
      "Epoch 61/500\n",
      "13/13 - 0s - 10ms/step - loss: 1100.7655 - val_loss: 883.7714\n",
      "Epoch 62/500\n",
      "13/13 - 0s - 7ms/step - loss: 1083.4225 - val_loss: 855.8964\n",
      "Epoch 63/500\n",
      "13/13 - 0s - 9ms/step - loss: 1067.8094 - val_loss: 825.1431\n",
      "Epoch 64/500\n",
      "13/13 - 0s - 8ms/step - loss: 1051.4474 - val_loss: 797.0913\n",
      "Epoch 65/500\n",
      "13/13 - 0s - 8ms/step - loss: 1034.6448 - val_loss: 774.4756\n",
      "Epoch 66/500\n",
      "13/13 - 0s - 8ms/step - loss: 1018.8255 - val_loss: 747.8311\n",
      "Epoch 67/500\n",
      "13/13 - 0s - 9ms/step - loss: 1004.7448 - val_loss: 725.4385\n",
      "Epoch 68/500\n",
      "13/13 - 0s - 8ms/step - loss: 991.1594 - val_loss: 703.1653\n",
      "Epoch 69/500\n",
      "13/13 - 0s - 8ms/step - loss: 977.7742 - val_loss: 681.8122\n",
      "Epoch 70/500\n",
      "13/13 - 0s - 10ms/step - loss: 964.5261 - val_loss: 659.5319\n",
      "Epoch 71/500\n",
      "13/13 - 0s - 10ms/step - loss: 951.5743 - val_loss: 640.5154\n",
      "Epoch 72/500\n",
      "13/13 - 0s - 7ms/step - loss: 939.6247 - val_loss: 621.9209\n",
      "Epoch 73/500\n",
      "13/13 - 0s - 7ms/step - loss: 925.8079 - val_loss: 601.9601\n",
      "Epoch 74/500\n",
      "13/13 - 0s - 7ms/step - loss: 910.8442 - val_loss: 579.9287\n",
      "Epoch 75/500\n",
      "13/13 - 0s - 7ms/step - loss: 896.9616 - val_loss: 564.5850\n",
      "Epoch 76/500\n",
      "13/13 - 0s - 8ms/step - loss: 885.4594 - val_loss: 550.9535\n",
      "Epoch 77/500\n",
      "13/13 - 0s - 7ms/step - loss: 872.9810 - val_loss: 537.8016\n",
      "Epoch 78/500\n",
      "13/13 - 0s - 7ms/step - loss: 862.3046 - val_loss: 523.1345\n",
      "Epoch 79/500\n",
      "13/13 - 0s - 7ms/step - loss: 849.6683 - val_loss: 513.0809\n",
      "Epoch 80/500\n",
      "13/13 - 0s - 8ms/step - loss: 837.7770 - val_loss: 504.1455\n",
      "Epoch 81/500\n",
      "13/13 - 0s - 7ms/step - loss: 826.6878 - val_loss: 493.7919\n",
      "Epoch 82/500\n",
      "13/13 - 0s - 7ms/step - loss: 815.5406 - val_loss: 482.7113\n",
      "Epoch 83/500\n",
      "13/13 - 0s - 8ms/step - loss: 804.5310 - val_loss: 472.8448\n",
      "Epoch 84/500\n",
      "13/13 - 0s - 8ms/step - loss: 792.1804 - val_loss: 460.9607\n",
      "Epoch 85/500\n",
      "13/13 - 0s - 7ms/step - loss: 779.1885 - val_loss: 443.4023\n",
      "Epoch 86/500\n",
      "13/13 - 0s - 8ms/step - loss: 768.6868 - val_loss: 433.9167\n",
      "Epoch 87/500\n",
      "13/13 - 0s - 7ms/step - loss: 756.7747 - val_loss: 419.6561\n",
      "Epoch 88/500\n",
      "13/13 - 0s - 8ms/step - loss: 745.0231 - val_loss: 408.5634\n",
      "Epoch 89/500\n",
      "13/13 - 0s - 7ms/step - loss: 734.5093 - val_loss: 400.4236\n",
      "Epoch 90/500\n",
      "13/13 - 0s - 8ms/step - loss: 722.4535 - val_loss: 390.5033\n",
      "Epoch 91/500\n",
      "13/13 - 0s - 7ms/step - loss: 710.6210 - val_loss: 383.1617\n",
      "Epoch 92/500\n",
      "13/13 - 0s - 8ms/step - loss: 699.9308 - val_loss: 376.8198\n",
      "Epoch 93/500\n",
      "13/13 - 0s - 10ms/step - loss: 689.3813 - val_loss: 371.6079\n",
      "Epoch 94/500\n",
      "13/13 - 0s - 7ms/step - loss: 677.5393 - val_loss: 365.4267\n",
      "Epoch 95/500\n",
      "13/13 - 0s - 9ms/step - loss: 664.4455 - val_loss: 363.3766\n",
      "Epoch 96/500\n",
      "13/13 - 0s - 8ms/step - loss: 653.0178 - val_loss: 361.0388\n",
      "Epoch 97/500\n",
      "13/13 - 0s - 8ms/step - loss: 642.9244 - val_loss: 355.7784\n",
      "Epoch 98/500\n",
      "13/13 - 0s - 8ms/step - loss: 633.1272 - val_loss: 349.0573\n",
      "Epoch 99/500\n",
      "13/13 - 0s - 8ms/step - loss: 622.9260 - val_loss: 343.6238\n",
      "Epoch 100/500\n",
      "13/13 - 0s - 9ms/step - loss: 613.1428 - val_loss: 338.1303\n",
      "Epoch 101/500\n",
      "13/13 - 0s - 8ms/step - loss: 602.8312 - val_loss: 328.2139\n",
      "Epoch 102/500\n",
      "13/13 - 0s - 9ms/step - loss: 592.2466 - val_loss: 312.4453\n",
      "Epoch 103/500\n",
      "13/13 - 0s - 7ms/step - loss: 582.8950 - val_loss: 304.1909\n",
      "Epoch 104/500\n",
      "13/13 - 0s - 7ms/step - loss: 573.6939 - val_loss: 300.6407\n",
      "Epoch 105/500\n",
      "13/13 - 0s - 8ms/step - loss: 564.4191 - val_loss: 296.7874\n",
      "Epoch 106/500\n",
      "13/13 - 0s - 8ms/step - loss: 555.2971 - val_loss: 293.4691\n",
      "Epoch 107/500\n",
      "13/13 - 0s - 8ms/step - loss: 544.6129 - val_loss: 286.5658\n",
      "Epoch 108/500\n",
      "13/13 - 0s - 7ms/step - loss: 532.6637 - val_loss: 282.6331\n",
      "Epoch 109/500\n",
      "13/13 - 0s - 10ms/step - loss: 522.3463 - val_loss: 277.0674\n",
      "Epoch 110/500\n",
      "13/13 - 0s - 8ms/step - loss: 512.4927 - val_loss: 273.6660\n",
      "Epoch 111/500\n",
      "13/13 - 0s - 8ms/step - loss: 503.6526 - val_loss: 270.5830\n",
      "Epoch 112/500\n",
      "13/13 - 0s - 8ms/step - loss: 493.3945 - val_loss: 264.7925\n",
      "Epoch 113/500\n",
      "13/13 - 0s - 7ms/step - loss: 483.6866 - val_loss: 261.5336\n",
      "Epoch 114/500\n",
      "13/13 - 0s - 8ms/step - loss: 474.9748 - val_loss: 258.1017\n",
      "Epoch 115/500\n",
      "13/13 - 0s - 8ms/step - loss: 466.2701 - val_loss: 254.6102\n",
      "Epoch 116/500\n",
      "13/13 - 0s - 9ms/step - loss: 460.0563 - val_loss: 244.6546\n",
      "Epoch 117/500\n",
      "13/13 - 0s - 7ms/step - loss: 450.2928 - val_loss: 242.5204\n",
      "Epoch 118/500\n",
      "13/13 - 0s - 8ms/step - loss: 442.6149 - val_loss: 236.5258\n",
      "Epoch 119/500\n",
      "13/13 - 0s - 7ms/step - loss: 433.2857 - val_loss: 231.5367\n",
      "Epoch 120/500\n",
      "13/13 - 0s - 7ms/step - loss: 424.4697 - val_loss: 227.7452\n",
      "Epoch 121/500\n",
      "13/13 - 0s - 7ms/step - loss: 415.7821 - val_loss: 224.3171\n",
      "Epoch 122/500\n",
      "13/13 - 0s - 7ms/step - loss: 406.6250 - val_loss: 221.4894\n",
      "Epoch 123/500\n",
      "13/13 - 0s - 7ms/step - loss: 398.2872 - val_loss: 219.1662\n",
      "Epoch 124/500\n",
      "13/13 - 0s - 7ms/step - loss: 389.9466 - val_loss: 214.9248\n",
      "Epoch 125/500\n",
      "13/13 - 0s - 7ms/step - loss: 381.3008 - val_loss: 211.7885\n",
      "Epoch 126/500\n",
      "13/13 - 0s - 7ms/step - loss: 373.7769 - val_loss: 208.5304\n",
      "Epoch 127/500\n",
      "13/13 - 0s - 8ms/step - loss: 366.2093 - val_loss: 205.7685\n",
      "Epoch 128/500\n",
      "13/13 - 0s - 7ms/step - loss: 358.0325 - val_loss: 202.3489\n",
      "Epoch 129/500\n",
      "13/13 - 0s - 8ms/step - loss: 350.3020 - val_loss: 199.7419\n",
      "Epoch 130/500\n",
      "13/13 - 0s - 8ms/step - loss: 343.1333 - val_loss: 197.8195\n",
      "Epoch 131/500\n",
      "13/13 - 0s - 7ms/step - loss: 336.4038 - val_loss: 195.5385\n",
      "Epoch 132/500\n",
      "13/13 - 0s - 7ms/step - loss: 329.7712 - val_loss: 193.1208\n",
      "Epoch 133/500\n",
      "13/13 - 0s - 8ms/step - loss: 323.4341 - val_loss: 190.8893\n",
      "Epoch 134/500\n",
      "13/13 - 0s - 7ms/step - loss: 317.0019 - val_loss: 188.3466\n",
      "Epoch 135/500\n",
      "13/13 - 0s - 7ms/step - loss: 309.3830 - val_loss: 183.9942\n",
      "Epoch 136/500\n",
      "13/13 - 0s - 8ms/step - loss: 301.9400 - val_loss: 181.1482\n",
      "Epoch 137/500\n",
      "13/13 - 0s - 8ms/step - loss: 295.6667 - val_loss: 178.6710\n",
      "Epoch 138/500\n",
      "13/13 - 0s - 8ms/step - loss: 289.2408 - val_loss: 175.6875\n",
      "Epoch 139/500\n",
      "13/13 - 0s - 8ms/step - loss: 283.2168 - val_loss: 172.9438\n",
      "Epoch 140/500\n",
      "13/13 - 0s - 7ms/step - loss: 277.6439 - val_loss: 168.1306\n",
      "Epoch 141/500\n",
      "13/13 - 0s - 9ms/step - loss: 272.6606 - val_loss: 166.2886\n",
      "Epoch 142/500\n",
      "13/13 - 0s - 7ms/step - loss: 267.2214 - val_loss: 163.7292\n",
      "Epoch 143/500\n",
      "13/13 - 0s - 7ms/step - loss: 261.2040 - val_loss: 161.1581\n",
      "Epoch 144/500\n",
      "13/13 - 0s - 8ms/step - loss: 255.0149 - val_loss: 158.5972\n",
      "Epoch 145/500\n",
      "13/13 - 0s - 8ms/step - loss: 249.7814 - val_loss: 156.5306\n",
      "Epoch 146/500\n",
      "13/13 - 0s - 8ms/step - loss: 244.2772 - val_loss: 154.7747\n",
      "Epoch 147/500\n",
      "13/13 - 0s - 7ms/step - loss: 238.0883 - val_loss: 150.8828\n",
      "Epoch 148/500\n",
      "13/13 - 0s - 8ms/step - loss: 231.9380 - val_loss: 148.2445\n",
      "Epoch 149/500\n",
      "13/13 - 0s - 10ms/step - loss: 226.4485 - val_loss: 146.0960\n",
      "Epoch 150/500\n",
      "13/13 - 0s - 9ms/step - loss: 221.4997 - val_loss: 143.2512\n",
      "Epoch 151/500\n",
      "13/13 - 0s - 8ms/step - loss: 215.8337 - val_loss: 141.2727\n",
      "Epoch 152/500\n",
      "13/13 - 0s - 8ms/step - loss: 210.8130 - val_loss: 139.4764\n",
      "Epoch 153/500\n",
      "13/13 - 0s - 8ms/step - loss: 206.1300 - val_loss: 137.5179\n",
      "Epoch 154/500\n",
      "13/13 - 0s - 9ms/step - loss: 201.5979 - val_loss: 134.9574\n",
      "Epoch 155/500\n",
      "13/13 - 0s - 7ms/step - loss: 197.0438 - val_loss: 132.6307\n",
      "Epoch 156/500\n",
      "13/13 - 0s - 9ms/step - loss: 192.9512 - val_loss: 130.1757\n",
      "Epoch 157/500\n",
      "13/13 - 0s - 9ms/step - loss: 188.1590 - val_loss: 126.7102\n",
      "Epoch 158/500\n",
      "13/13 - 0s - 9ms/step - loss: 183.3402 - val_loss: 124.6673\n",
      "Epoch 159/500\n",
      "13/13 - 0s - 8ms/step - loss: 179.5092 - val_loss: 122.6796\n",
      "Epoch 160/500\n",
      "13/13 - 0s - 8ms/step - loss: 175.2794 - val_loss: 120.2917\n",
      "Epoch 161/500\n",
      "13/13 - 0s - 8ms/step - loss: 170.8894 - val_loss: 118.1343\n",
      "Epoch 162/500\n",
      "13/13 - 0s - 8ms/step - loss: 166.8410 - val_loss: 115.7419\n",
      "Epoch 163/500\n",
      "13/13 - 0s - 7ms/step - loss: 163.0295 - val_loss: 112.9162\n",
      "Epoch 164/500\n",
      "13/13 - 0s - 9ms/step - loss: 159.3005 - val_loss: 110.4985\n",
      "Epoch 165/500\n",
      "13/13 - 0s - 8ms/step - loss: 155.7113 - val_loss: 108.8071\n",
      "Epoch 166/500\n",
      "13/13 - 0s - 10ms/step - loss: 152.3357 - val_loss: 106.6667\n",
      "Epoch 167/500\n",
      "13/13 - 0s - 9ms/step - loss: 148.8893 - val_loss: 104.6167\n",
      "Epoch 168/500\n",
      "13/13 - 0s - 7ms/step - loss: 145.3347 - val_loss: 102.3563\n",
      "Epoch 169/500\n",
      "13/13 - 0s - 9ms/step - loss: 142.1582 - val_loss: 100.1240\n",
      "Epoch 170/500\n",
      "13/13 - 0s - 8ms/step - loss: 139.0231 - val_loss: 98.1158\n",
      "Epoch 171/500\n",
      "13/13 - 0s - 9ms/step - loss: 134.9921 - val_loss: 94.9085\n",
      "Epoch 172/500\n",
      "13/13 - 0s - 8ms/step - loss: 131.1893 - val_loss: 92.6596\n",
      "Epoch 173/500\n",
      "13/13 - 0s - 8ms/step - loss: 129.0484 - val_loss: 90.7778\n",
      "Epoch 174/500\n",
      "13/13 - 0s - 8ms/step - loss: 125.8705 - val_loss: 88.7428\n",
      "Epoch 175/500\n",
      "13/13 - 0s - 8ms/step - loss: 122.6410 - val_loss: 86.6843\n",
      "Epoch 176/500\n",
      "13/13 - 0s - 9ms/step - loss: 119.7849 - val_loss: 85.1163\n",
      "Epoch 177/500\n",
      "13/13 - 0s - 9ms/step - loss: 117.1971 - val_loss: 83.4482\n",
      "Epoch 178/500\n",
      "13/13 - 0s - 7ms/step - loss: 114.9223 - val_loss: 81.3316\n",
      "Epoch 179/500\n",
      "13/13 - 0s - 7ms/step - loss: 111.7766 - val_loss: 79.5801\n",
      "Epoch 180/500\n",
      "13/13 - 0s - 10ms/step - loss: 109.1728 - val_loss: 78.2521\n",
      "Epoch 181/500\n",
      "13/13 - 0s - 8ms/step - loss: 106.6818 - val_loss: 76.9010\n",
      "Epoch 182/500\n",
      "13/13 - 0s - 8ms/step - loss: 104.1739 - val_loss: 75.5784\n",
      "Epoch 183/500\n",
      "13/13 - 0s - 9ms/step - loss: 102.0272 - val_loss: 74.4524\n",
      "Epoch 184/500\n",
      "13/13 - 0s - 9ms/step - loss: 99.5815 - val_loss: 73.0411\n",
      "Epoch 185/500\n",
      "13/13 - 0s - 8ms/step - loss: 97.4681 - val_loss: 71.7722\n",
      "Epoch 186/500\n",
      "13/13 - 0s - 11ms/step - loss: 95.5319 - val_loss: 70.8543\n",
      "Epoch 187/500\n",
      "13/13 - 0s - 10ms/step - loss: 93.7068 - val_loss: 69.6875\n",
      "Epoch 188/500\n",
      "13/13 - 0s - 9ms/step - loss: 91.5404 - val_loss: 68.5175\n",
      "Epoch 189/500\n",
      "13/13 - 0s - 8ms/step - loss: 89.5501 - val_loss: 67.5271\n",
      "Epoch 190/500\n",
      "13/13 - 0s - 8ms/step - loss: 87.5375 - val_loss: 66.3823\n",
      "Epoch 191/500\n",
      "13/13 - 0s - 8ms/step - loss: 85.6107 - val_loss: 65.3612\n",
      "Epoch 192/500\n",
      "13/13 - 0s - 8ms/step - loss: 83.7643 - val_loss: 64.3322\n",
      "Epoch 193/500\n",
      "13/13 - 0s - 8ms/step - loss: 81.8205 - val_loss: 63.3458\n",
      "Epoch 194/500\n",
      "13/13 - 0s - 8ms/step - loss: 80.2742 - val_loss: 62.3614\n",
      "Epoch 195/500\n",
      "13/13 - 0s - 8ms/step - loss: 78.6489 - val_loss: 61.2881\n",
      "Epoch 196/500\n",
      "13/13 - 0s - 9ms/step - loss: 77.0616 - val_loss: 60.4472\n",
      "Epoch 197/500\n",
      "13/13 - 0s - 8ms/step - loss: 75.5499 - val_loss: 59.5164\n",
      "Epoch 198/500\n",
      "13/13 - 0s - 8ms/step - loss: 74.1729 - val_loss: 58.5586\n",
      "Epoch 199/500\n",
      "13/13 - 0s - 8ms/step - loss: 72.6764 - val_loss: 57.8886\n",
      "Epoch 200/500\n",
      "13/13 - 0s - 8ms/step - loss: 71.1634 - val_loss: 57.9467\n",
      "Epoch 201/500\n",
      "13/13 - 0s - 9ms/step - loss: 70.0125 - val_loss: 57.1128\n",
      "Epoch 202/500\n",
      "13/13 - 0s - 8ms/step - loss: 68.6914 - val_loss: 55.9955\n",
      "Epoch 203/500\n",
      "13/13 - 0s - 9ms/step - loss: 67.3657 - val_loss: 55.0984\n",
      "Epoch 204/500\n",
      "13/13 - 0s - 9ms/step - loss: 66.0414 - val_loss: 54.4412\n",
      "Epoch 205/500\n",
      "13/13 - 0s - 9ms/step - loss: 64.7103 - val_loss: 53.6049\n",
      "Epoch 206/500\n",
      "13/13 - 0s - 8ms/step - loss: 63.3149 - val_loss: 52.6810\n",
      "Epoch 207/500\n",
      "13/13 - 0s - 8ms/step - loss: 62.3556 - val_loss: 51.6597\n",
      "Epoch 208/500\n",
      "13/13 - 0s - 9ms/step - loss: 61.1052 - val_loss: 51.0690\n",
      "Epoch 209/500\n",
      "13/13 - 0s - 10ms/step - loss: 59.9490 - val_loss: 50.4347\n",
      "Epoch 210/500\n",
      "13/13 - 0s - 10ms/step - loss: 58.7623 - val_loss: 49.8259\n",
      "Epoch 211/500\n",
      "13/13 - 0s - 9ms/step - loss: 57.7100 - val_loss: 49.3587\n",
      "Epoch 212/500\n",
      "13/13 - 0s - 9ms/step - loss: 56.5631 - val_loss: 48.6343\n",
      "Epoch 213/500\n",
      "13/13 - 0s - 9ms/step - loss: 55.4283 - val_loss: 47.8918\n",
      "Epoch 214/500\n",
      "13/13 - 0s - 8ms/step - loss: 54.4448 - val_loss: 47.2175\n",
      "Epoch 215/500\n",
      "13/13 - 0s - 9ms/step - loss: 53.4774 - val_loss: 46.7765\n",
      "Epoch 216/500\n",
      "13/13 - 0s - 8ms/step - loss: 52.8076 - val_loss: 46.3753\n",
      "Epoch 217/500\n",
      "13/13 - 0s - 8ms/step - loss: 51.8209 - val_loss: 45.7631\n",
      "Epoch 218/500\n",
      "13/13 - 0s - 10ms/step - loss: 50.8664 - val_loss: 45.2586\n",
      "Epoch 219/500\n",
      "13/13 - 0s - 8ms/step - loss: 50.0208 - val_loss: 44.7338\n",
      "Epoch 220/500\n",
      "13/13 - 0s - 9ms/step - loss: 48.9949 - val_loss: 44.3963\n",
      "Epoch 221/500\n",
      "13/13 - 0s - 8ms/step - loss: 48.2109 - val_loss: 43.9110\n",
      "Epoch 222/500\n",
      "13/13 - 0s - 11ms/step - loss: 47.3821 - val_loss: 43.5339\n",
      "Epoch 223/500\n",
      "13/13 - 0s - 9ms/step - loss: 46.5747 - val_loss: 42.7809\n",
      "Epoch 224/500\n",
      "13/13 - 0s - 10ms/step - loss: 45.7629 - val_loss: 42.8856\n",
      "Epoch 225/500\n",
      "13/13 - 0s - 9ms/step - loss: 45.0834 - val_loss: 43.2795\n",
      "Epoch 226/500\n",
      "13/13 - 0s - 8ms/step - loss: 44.6304 - val_loss: 43.0320\n",
      "Epoch 227/500\n",
      "13/13 - 0s - 8ms/step - loss: 44.0143 - val_loss: 42.6461\n",
      "Epoch 228/500\n",
      "13/13 - 0s - 9ms/step - loss: 43.0583 - val_loss: 42.1628\n",
      "Epoch 229/500\n",
      "13/13 - 0s - 8ms/step - loss: 42.6546 - val_loss: 42.6765\n",
      "Epoch 230/500\n",
      "13/13 - 0s - 10ms/step - loss: 42.2645 - val_loss: 42.3823\n",
      "Epoch 231/500\n",
      "13/13 - 0s - 8ms/step - loss: 41.6293 - val_loss: 40.9345\n",
      "Epoch 232/500\n",
      "13/13 - 0s - 10ms/step - loss: 40.4509 - val_loss: 39.8783\n",
      "Epoch 233/500\n",
      "13/13 - 0s - 9ms/step - loss: 39.5197 - val_loss: 39.6727\n",
      "Epoch 234/500\n",
      "13/13 - 0s - 8ms/step - loss: 38.8725 - val_loss: 39.1801\n",
      "Epoch 235/500\n",
      "13/13 - 0s - 8ms/step - loss: 38.4297 - val_loss: 39.1503\n",
      "Epoch 236/500\n",
      "13/13 - 0s - 9ms/step - loss: 37.9038 - val_loss: 38.2134\n",
      "Epoch 237/500\n",
      "13/13 - 0s - 10ms/step - loss: 37.3388 - val_loss: 37.8726\n",
      "Epoch 238/500\n",
      "13/13 - 0s - 9ms/step - loss: 36.7741 - val_loss: 37.4169\n",
      "Epoch 239/500\n",
      "13/13 - 0s - 9ms/step - loss: 36.3524 - val_loss: 36.9130\n",
      "Epoch 240/500\n",
      "13/13 - 0s - 8ms/step - loss: 35.9573 - val_loss: 36.7105\n",
      "Epoch 241/500\n",
      "13/13 - 0s - 8ms/step - loss: 35.5878 - val_loss: 36.5858\n",
      "Epoch 242/500\n",
      "13/13 - 0s - 8ms/step - loss: 34.9920 - val_loss: 36.3743\n",
      "Epoch 243/500\n",
      "13/13 - 0s - 9ms/step - loss: 34.5146 - val_loss: 36.2781\n",
      "Epoch 244/500\n",
      "13/13 - 0s - 8ms/step - loss: 34.1230 - val_loss: 36.0462\n",
      "Epoch 245/500\n",
      "13/13 - 0s - 8ms/step - loss: 33.7143 - val_loss: 35.9553\n",
      "Epoch 246/500\n",
      "13/13 - 0s - 8ms/step - loss: 33.4060 - val_loss: 35.9054\n",
      "Epoch 247/500\n",
      "13/13 - 0s - 9ms/step - loss: 33.1515 - val_loss: 35.7963\n",
      "Epoch 248/500\n",
      "13/13 - 0s - 8ms/step - loss: 32.6368 - val_loss: 35.3256\n",
      "Epoch 249/500\n",
      "13/13 - 0s - 8ms/step - loss: 32.1838 - val_loss: 35.0710\n",
      "Epoch 250/500\n",
      "13/13 - 0s - 9ms/step - loss: 31.9086 - val_loss: 34.9447\n",
      "Epoch 251/500\n",
      "13/13 - 0s - 10ms/step - loss: 31.5934 - val_loss: 34.6162\n",
      "Epoch 252/500\n",
      "13/13 - 0s - 8ms/step - loss: 31.3172 - val_loss: 34.4411\n",
      "Epoch 253/500\n",
      "13/13 - 0s - 9ms/step - loss: 30.9864 - val_loss: 34.3185\n",
      "Epoch 254/500\n",
      "13/13 - 0s - 9ms/step - loss: 30.6108 - val_loss: 34.3717\n",
      "Epoch 255/500\n",
      "13/13 - 0s - 9ms/step - loss: 30.3400 - val_loss: 34.1765\n",
      "Epoch 256/500\n",
      "13/13 - 0s - 10ms/step - loss: 30.1019 - val_loss: 34.0690\n",
      "Epoch 257/500\n",
      "13/13 - 0s - 9ms/step - loss: 29.9522 - val_loss: 34.7995\n",
      "Epoch 258/500\n",
      "13/13 - 0s - 11ms/step - loss: 29.6801 - val_loss: 34.3911\n",
      "Epoch 259/500\n",
      "13/13 - 0s - 10ms/step - loss: 29.3595 - val_loss: 33.9279\n",
      "Epoch 260/500\n",
      "13/13 - 0s - 8ms/step - loss: 29.1583 - val_loss: 33.9617\n",
      "Epoch 261/500\n",
      "13/13 - 0s - 10ms/step - loss: 28.8956 - val_loss: 33.7359\n",
      "Epoch 262/500\n",
      "13/13 - 0s - 9ms/step - loss: 28.5308 - val_loss: 33.2968\n",
      "Epoch 263/500\n",
      "13/13 - 0s - 9ms/step - loss: 28.3393 - val_loss: 33.1329\n",
      "Epoch 264/500\n",
      "13/13 - 0s - 9ms/step - loss: 28.1658 - val_loss: 32.9254\n",
      "Epoch 265/500\n",
      "13/13 - 0s - 8ms/step - loss: 27.8338 - val_loss: 32.9456\n",
      "Epoch 266/500\n",
      "13/13 - 0s - 9ms/step - loss: 27.6490 - val_loss: 32.8011\n",
      "Epoch 267/500\n",
      "13/13 - 0s - 9ms/step - loss: 27.4802 - val_loss: 32.6699\n",
      "Epoch 268/500\n",
      "13/13 - 0s - 9ms/step - loss: 27.2197 - val_loss: 32.6496\n",
      "Epoch 269/500\n",
      "13/13 - 0s - 9ms/step - loss: 27.0053 - val_loss: 32.7224\n",
      "Epoch 270/500\n",
      "13/13 - 0s - 9ms/step - loss: 26.9355 - val_loss: 33.0707\n",
      "Epoch 271/500\n",
      "13/13 - 0s - 8ms/step - loss: 26.6056 - val_loss: 32.6056\n",
      "Epoch 272/500\n",
      "13/13 - 0s - 9ms/step - loss: 26.4205 - val_loss: 32.3992\n",
      "Epoch 273/500\n",
      "13/13 - 0s - 9ms/step - loss: 26.1580 - val_loss: 32.7208\n",
      "Epoch 274/500\n",
      "13/13 - 0s - 8ms/step - loss: 26.0910 - val_loss: 32.3730\n",
      "Epoch 275/500\n",
      "13/13 - 0s - 12ms/step - loss: 25.8808 - val_loss: 32.0463\n",
      "Epoch 276/500\n",
      "13/13 - 0s - 10ms/step - loss: 25.6579 - val_loss: 31.8500\n",
      "Epoch 277/500\n",
      "13/13 - 0s - 9ms/step - loss: 25.5147 - val_loss: 31.7638\n",
      "Epoch 278/500\n",
      "13/13 - 0s - 9ms/step - loss: 25.4631 - val_loss: 31.6859\n",
      "Epoch 279/500\n",
      "13/13 - 0s - 9ms/step - loss: 25.2647 - val_loss: 31.6130\n",
      "Epoch 280/500\n",
      "13/13 - 0s - 8ms/step - loss: 25.3011 - val_loss: 32.3527\n",
      "Epoch 281/500\n",
      "13/13 - 0s - 9ms/step - loss: 25.4672 - val_loss: 32.2008\n",
      "Epoch 282/500\n",
      "13/13 - 0s - 9ms/step - loss: 25.0407 - val_loss: 32.0237\n",
      "Epoch 283/500\n",
      "13/13 - 0s - 8ms/step - loss: 24.6919 - val_loss: 32.7258\n",
      "Epoch 284/500\n",
      "13/13 - 0s - 9ms/step - loss: 24.5527 - val_loss: 31.8720\n",
      "Epoch 285/500\n",
      "13/13 - 0s - 11ms/step - loss: 24.4087 - val_loss: 31.9024\n",
      "Epoch 286/500\n",
      "13/13 - 0s - 8ms/step - loss: 24.2023 - val_loss: 31.9069\n",
      "Epoch 287/500\n",
      "13/13 - 0s - 10ms/step - loss: 24.0085 - val_loss: 31.9693\n",
      "Epoch 288/500\n",
      "13/13 - 0s - 10ms/step - loss: 23.8690 - val_loss: 32.0607\n",
      "Epoch 289/500\n",
      "13/13 - 0s - 9ms/step - loss: 23.7166 - val_loss: 32.0253\n",
      "Epoch 290/500\n",
      "13/13 - 0s - 9ms/step - loss: 23.5251 - val_loss: 31.8303\n",
      "Epoch 291/500\n",
      "13/13 - 0s - 8ms/step - loss: 23.6679 - val_loss: 30.8866\n",
      "Epoch 292/500\n",
      "13/13 - 0s - 8ms/step - loss: 23.6689 - val_loss: 30.9846\n",
      "Epoch 293/500\n",
      "13/13 - 0s - 9ms/step - loss: 23.3099 - val_loss: 31.0895\n",
      "Epoch 294/500\n",
      "13/13 - 0s - 8ms/step - loss: 23.1526 - val_loss: 31.1040\n",
      "Epoch 295/500\n",
      "13/13 - 0s - 9ms/step - loss: 23.0444 - val_loss: 30.9608\n",
      "Epoch 296/500\n",
      "13/13 - 0s - 9ms/step - loss: 22.8711 - val_loss: 31.0938\n",
      "Epoch 297/500\n",
      "13/13 - 0s - 8ms/step - loss: 22.7527 - val_loss: 31.2126\n",
      "Epoch 298/500\n",
      "13/13 - 0s - 8ms/step - loss: 22.6172 - val_loss: 31.1013\n",
      "Epoch 299/500\n",
      "13/13 - 0s - 9ms/step - loss: 22.4147 - val_loss: 30.3949\n",
      "Epoch 300/500\n",
      "13/13 - 0s - 11ms/step - loss: 22.5750 - val_loss: 31.4533\n",
      "Epoch 301/500\n",
      "13/13 - 0s - 9ms/step - loss: 22.5329 - val_loss: 30.5184\n",
      "Epoch 302/500\n",
      "13/13 - 0s - 8ms/step - loss: 22.2156 - val_loss: 30.1365\n",
      "Epoch 303/500\n",
      "13/13 - 0s - 9ms/step - loss: 22.0770 - val_loss: 30.0619\n",
      "Epoch 304/500\n",
      "13/13 - 0s - 9ms/step - loss: 22.0152 - val_loss: 29.9961\n",
      "Epoch 305/500\n",
      "13/13 - 0s - 8ms/step - loss: 21.8831 - val_loss: 30.1763\n",
      "Epoch 306/500\n",
      "13/13 - 0s - 10ms/step - loss: 21.8379 - val_loss: 31.7081\n",
      "Epoch 307/500\n",
      "13/13 - 0s - 8ms/step - loss: 22.0510 - val_loss: 31.4587\n",
      "Epoch 308/500\n",
      "13/13 - 0s - 8ms/step - loss: 21.8189 - val_loss: 30.8062\n",
      "Epoch 309/500\n",
      "13/13 - 0s - 8ms/step - loss: 21.5529 - val_loss: 30.5086\n",
      "Epoch 310/500\n",
      "13/13 - 0s - 10ms/step - loss: 21.5392 - val_loss: 30.1043\n",
      "Epoch 311/500\n",
      "13/13 - 0s - 8ms/step - loss: 21.3217 - val_loss: 29.9662\n",
      "Epoch 312/500\n",
      "13/13 - 0s - 8ms/step - loss: 21.2708 - val_loss: 29.5551\n",
      "Epoch 313/500\n",
      "13/13 - 0s - 9ms/step - loss: 21.1898 - val_loss: 29.5487\n",
      "Epoch 314/500\n",
      "13/13 - 0s - 9ms/step - loss: 21.0307 - val_loss: 29.5032\n",
      "Epoch 315/500\n",
      "13/13 - 0s - 8ms/step - loss: 20.9693 - val_loss: 29.6049\n",
      "Epoch 316/500\n",
      "13/13 - 0s - 7ms/step - loss: 20.8468 - val_loss: 29.6966\n",
      "Epoch 317/500\n",
      "13/13 - 0s - 9ms/step - loss: 20.7519 - val_loss: 29.9641\n",
      "Epoch 318/500\n",
      "13/13 - 0s - 10ms/step - loss: 20.7451 - val_loss: 30.7080\n",
      "Epoch 319/500\n",
      "13/13 - 0s - 8ms/step - loss: 20.7722 - val_loss: 30.7055\n",
      "Epoch 320/500\n",
      "13/13 - 0s - 9ms/step - loss: 20.5942 - val_loss: 30.1907\n",
      "Epoch 321/500\n",
      "13/13 - 0s - 7ms/step - loss: 20.3974 - val_loss: 29.8218\n",
      "Epoch 322/500\n",
      "13/13 - 0s - 8ms/step - loss: 20.3412 - val_loss: 29.5240\n",
      "Epoch 323/500\n",
      "13/13 - 0s - 8ms/step - loss: 20.2243 - val_loss: 29.5606\n",
      "Epoch 324/500\n",
      "13/13 - 0s - 8ms/step - loss: 20.1442 - val_loss: 29.6968\n",
      "Epoch 325/500\n",
      "13/13 - 0s - 9ms/step - loss: 20.0723 - val_loss: 30.1348\n",
      "Epoch 326/500\n",
      "13/13 - 0s - 8ms/step - loss: 20.0890 - val_loss: 29.9041\n",
      "Epoch 327/500\n",
      "13/13 - 0s - 7ms/step - loss: 19.9254 - val_loss: 29.6786\n",
      "Epoch 328/500\n",
      "13/13 - 0s - 10ms/step - loss: 19.9000 - val_loss: 29.7390\n",
      "Epoch 329/500\n",
      "13/13 - 0s - 8ms/step - loss: 19.8925 - val_loss: 29.3753\n",
      "Epoch 330/500\n",
      "13/13 - 0s - 8ms/step - loss: 20.0293 - val_loss: 28.8639\n",
      "Epoch 331/500\n",
      "13/13 - 0s - 8ms/step - loss: 19.9488 - val_loss: 28.9954\n",
      "Epoch 332/500\n",
      "13/13 - 0s - 8ms/step - loss: 19.7777 - val_loss: 29.2386\n",
      "Epoch 333/500\n",
      "13/13 - 0s - 8ms/step - loss: 19.6705 - val_loss: 29.3693\n",
      "Epoch 334/500\n",
      "13/13 - 0s - 7ms/step - loss: 19.4523 - val_loss: 29.2053\n",
      "Epoch 335/500\n",
      "13/13 - 0s - 9ms/step - loss: 19.4929 - val_loss: 28.8386\n",
      "Epoch 336/500\n",
      "13/13 - 0s - 8ms/step - loss: 19.2172 - val_loss: 29.2571\n",
      "Epoch 337/500\n",
      "13/13 - 0s - 9ms/step - loss: 19.3224 - val_loss: 29.2235\n",
      "Epoch 338/500\n",
      "13/13 - 0s - 8ms/step - loss: 19.2913 - val_loss: 29.5152\n",
      "Epoch 339/500\n",
      "13/13 - 0s - 9ms/step - loss: 19.3564 - val_loss: 29.2528\n",
      "Epoch 340/500\n",
      "13/13 - 0s - 9ms/step - loss: 19.2516 - val_loss: 28.9932\n",
      "Epoch 341/500\n",
      "13/13 - 0s - 8ms/step - loss: 19.3083 - val_loss: 30.1214\n",
      "Epoch 342/500\n",
      "13/13 - 0s - 8ms/step - loss: 19.0733 - val_loss: 29.4277\n",
      "Epoch 343/500\n",
      "13/13 - 0s - 8ms/step - loss: 18.9598 - val_loss: 29.5049\n",
      "Epoch 344/500\n",
      "13/13 - 0s - 9ms/step - loss: 18.8707 - val_loss: 28.9891\n",
      "Epoch 345/500\n",
      "13/13 - 0s - 8ms/step - loss: 18.7875 - val_loss: 28.7333\n",
      "Epoch 346/500\n",
      "13/13 - 0s - 9ms/step - loss: 18.6018 - val_loss: 28.7427\n",
      "Epoch 347/500\n",
      "13/13 - 0s - 7ms/step - loss: 18.5824 - val_loss: 28.7515\n",
      "Epoch 348/500\n",
      "13/13 - 0s - 8ms/step - loss: 18.4652 - val_loss: 29.3277\n",
      "Epoch 349/500\n",
      "13/13 - 0s - 9ms/step - loss: 18.4876 - val_loss: 28.8250\n",
      "Epoch 350/500\n",
      "13/13 - 0s - 9ms/step - loss: 18.2845 - val_loss: 28.7524\n",
      "Epoch 351/500\n",
      "13/13 - 0s - 8ms/step - loss: 18.2434 - val_loss: 28.6137\n",
      "Epoch 352/500\n",
      "13/13 - 0s - 7ms/step - loss: 18.1793 - val_loss: 28.6386\n",
      "Epoch 353/500\n",
      "13/13 - 0s - 7ms/step - loss: 18.0932 - val_loss: 28.7469\n",
      "Epoch 354/500\n",
      "13/13 - 0s - 10ms/step - loss: 18.0746 - val_loss: 29.0640\n",
      "Epoch 355/500\n",
      "13/13 - 0s - 7ms/step - loss: 18.0868 - val_loss: 29.4776\n",
      "Epoch 356/500\n",
      "13/13 - 0s - 8ms/step - loss: 18.0197 - val_loss: 28.7624\n",
      "Epoch 357/500\n",
      "13/13 - 0s - 8ms/step - loss: 18.3036 - val_loss: 28.9696\n",
      "Epoch 358/500\n",
      "13/13 - 0s - 8ms/step - loss: 17.8267 - val_loss: 29.1193\n",
      "Epoch 359/500\n",
      "13/13 - 0s - 8ms/step - loss: 17.8235 - val_loss: 27.5783\n",
      "Epoch 360/500\n",
      "13/13 - 0s - 8ms/step - loss: 17.8886 - val_loss: 27.7185\n",
      "Epoch 361/500\n",
      "13/13 - 0s - 8ms/step - loss: 17.6935 - val_loss: 28.1827\n",
      "Epoch 362/500\n",
      "13/13 - 0s - 9ms/step - loss: 17.5926 - val_loss: 28.6256\n",
      "Epoch 363/500\n",
      "13/13 - 0s - 8ms/step - loss: 17.4585 - val_loss: 28.4630\n",
      "Epoch 364/500\n",
      "13/13 - 0s - 9ms/step - loss: 17.3238 - val_loss: 28.5205\n",
      "Epoch 365/500\n",
      "13/13 - 0s - 10ms/step - loss: 17.3760 - val_loss: 28.6655\n",
      "Epoch 366/500\n",
      "13/13 - 0s - 8ms/step - loss: 17.3966 - val_loss: 29.4086\n",
      "Epoch 367/500\n",
      "13/13 - 0s - 8ms/step - loss: 17.2356 - val_loss: 28.6853\n",
      "Epoch 368/500\n",
      "13/13 - 0s - 10ms/step - loss: 17.0788 - val_loss: 28.5308\n",
      "Epoch 369/500\n",
      "13/13 - 0s - 9ms/step - loss: 17.0168 - val_loss: 28.3474\n",
      "Epoch 370/500\n",
      "13/13 - 0s - 8ms/step - loss: 17.0798 - val_loss: 28.0209\n",
      "Epoch 371/500\n",
      "13/13 - 0s - 7ms/step - loss: 16.9530 - val_loss: 28.3183\n",
      "Epoch 372/500\n",
      "13/13 - 0s - 8ms/step - loss: 16.8401 - val_loss: 28.3408\n",
      "Epoch 373/500\n",
      "13/13 - 0s - 8ms/step - loss: 16.7687 - val_loss: 28.9682\n",
      "Epoch 374/500\n",
      "13/13 - 0s - 8ms/step - loss: 16.8917 - val_loss: 29.0274\n",
      "Epoch 375/500\n",
      "13/13 - 0s - 10ms/step - loss: 16.7692 - val_loss: 28.5925\n",
      "Epoch 376/500\n",
      "13/13 - 0s - 9ms/step - loss: 16.6546 - val_loss: 28.9251\n",
      "Epoch 377/500\n",
      "13/13 - 0s - 8ms/step - loss: 16.6295 - val_loss: 29.5298\n",
      "Epoch 378/500\n",
      "13/13 - 0s - 9ms/step - loss: 16.6537 - val_loss: 29.2047\n",
      "Epoch 379/500\n",
      "13/13 - 0s - 9ms/step - loss: 16.5790 - val_loss: 29.0500\n",
      "Epoch 380/500\n",
      "13/13 - 0s - 12ms/step - loss: 16.5692 - val_loss: 29.2501\n",
      "Epoch 381/500\n",
      "13/13 - 0s - 9ms/step - loss: 16.4379 - val_loss: 28.5302\n",
      "Epoch 382/500\n",
      "13/13 - 0s - 8ms/step - loss: 16.2782 - val_loss: 28.4134\n",
      "Epoch 383/500\n",
      "13/13 - 0s - 8ms/step - loss: 16.3894 - val_loss: 28.2544\n",
      "Epoch 384/500\n",
      "13/13 - 0s - 8ms/step - loss: 16.2096 - val_loss: 28.4941\n",
      "Epoch 385/500\n",
      "13/13 - 0s - 9ms/step - loss: 16.2801 - val_loss: 29.1609\n",
      "Epoch 386/500\n",
      "13/13 - 0s - 8ms/step - loss: 16.1639 - val_loss: 28.8059\n",
      "Epoch 387/500\n",
      "13/13 - 0s - 8ms/step - loss: 16.0334 - val_loss: 28.5971\n",
      "Epoch 388/500\n",
      "13/13 - 0s - 8ms/step - loss: 15.9572 - val_loss: 28.0300\n",
      "Epoch 389/500\n",
      "13/13 - 0s - 9ms/step - loss: 15.9654 - val_loss: 27.9708\n",
      "Epoch 390/500\n",
      "13/13 - 0s - 8ms/step - loss: 15.8628 - val_loss: 28.0750\n",
      "Epoch 391/500\n",
      "13/13 - 0s - 9ms/step - loss: 15.8074 - val_loss: 27.4350\n",
      "Epoch 392/500\n",
      "13/13 - 0s - 8ms/step - loss: 15.7503 - val_loss: 27.3762\n",
      "Epoch 393/500\n",
      "13/13 - 0s - 9ms/step - loss: 15.7587 - val_loss: 27.8829\n",
      "Epoch 394/500\n",
      "13/13 - 0s - 9ms/step - loss: 15.6638 - val_loss: 27.6541\n",
      "Epoch 395/500\n",
      "13/13 - 0s - 8ms/step - loss: 15.6081 - val_loss: 27.8900\n",
      "Epoch 396/500\n",
      "13/13 - 0s - 8ms/step - loss: 15.4853 - val_loss: 28.2336\n",
      "Epoch 397/500\n",
      "13/13 - 0s - 10ms/step - loss: 15.4350 - val_loss: 27.9675\n",
      "Epoch 398/500\n",
      "13/13 - 0s - 9ms/step - loss: 15.4466 - val_loss: 27.6811\n",
      "Epoch 399/500\n",
      "13/13 - 0s - 8ms/step - loss: 15.3485 - val_loss: 27.6640\n",
      "Epoch 400/500\n",
      "13/13 - 0s - 8ms/step - loss: 15.4157 - val_loss: 26.8099\n",
      "Epoch 401/500\n",
      "13/13 - 0s - 8ms/step - loss: 15.6457 - val_loss: 26.7427\n",
      "Epoch 402/500\n",
      "13/13 - 0s - 8ms/step - loss: 15.4430 - val_loss: 26.9563\n",
      "Epoch 403/500\n",
      "13/13 - 0s - 8ms/step - loss: 15.4741 - val_loss: 28.0197\n",
      "Epoch 404/500\n",
      "13/13 - 0s - 8ms/step - loss: 15.3136 - val_loss: 27.4624\n",
      "Epoch 405/500\n",
      "13/13 - 0s - 8ms/step - loss: 15.2791 - val_loss: 27.6796\n",
      "Epoch 406/500\n",
      "13/13 - 0s - 9ms/step - loss: 15.1412 - val_loss: 27.9003\n",
      "Epoch 407/500\n",
      "13/13 - 0s - 8ms/step - loss: 14.9748 - val_loss: 27.8221\n",
      "Epoch 408/500\n",
      "13/13 - 0s - 8ms/step - loss: 15.2535 - val_loss: 28.7052\n",
      "Epoch 409/500\n",
      "13/13 - 0s - 8ms/step - loss: 15.0113 - val_loss: 27.7405\n",
      "Epoch 410/500\n",
      "13/13 - 0s - 9ms/step - loss: 15.1248 - val_loss: 28.8653\n",
      "Epoch 411/500\n",
      "13/13 - 0s - 8ms/step - loss: 14.9296 - val_loss: 27.6188\n",
      "Epoch 412/500\n",
      "13/13 - 0s - 8ms/step - loss: 14.8156 - val_loss: 27.3945\n",
      "Epoch 413/500\n",
      "13/13 - 0s - 8ms/step - loss: 14.7685 - val_loss: 27.0521\n",
      "Epoch 414/500\n",
      "13/13 - 0s - 8ms/step - loss: 14.7509 - val_loss: 26.8190\n",
      "Epoch 415/500\n",
      "13/13 - 0s - 9ms/step - loss: 14.6816 - val_loss: 27.0177\n",
      "Epoch 416/500\n",
      "13/13 - 0s - 8ms/step - loss: 14.6010 - val_loss: 26.7437\n",
      "Epoch 417/500\n",
      "13/13 - 0s - 10ms/step - loss: 14.5232 - val_loss: 26.8544\n",
      "Epoch 418/500\n",
      "13/13 - 0s - 11ms/step - loss: 14.5021 - val_loss: 26.8222\n",
      "Epoch 419/500\n",
      "13/13 - 0s - 9ms/step - loss: 14.4182 - val_loss: 26.5732\n",
      "Epoch 420/500\n",
      "13/13 - 0s - 10ms/step - loss: 14.4563 - val_loss: 26.3441\n",
      "Epoch 421/500\n",
      "13/13 - 0s - 9ms/step - loss: 14.5477 - val_loss: 26.5372\n",
      "Epoch 422/500\n",
      "13/13 - 0s - 8ms/step - loss: 14.6590 - val_loss: 27.1589\n",
      "Epoch 423/500\n",
      "13/13 - 0s - 9ms/step - loss: 14.4161 - val_loss: 27.2675\n",
      "Epoch 424/500\n",
      "13/13 - 0s - 8ms/step - loss: 14.3462 - val_loss: 27.6968\n",
      "Epoch 425/500\n",
      "13/13 - 0s - 8ms/step - loss: 14.1937 - val_loss: 26.6240\n",
      "Epoch 426/500\n",
      "13/13 - 0s - 8ms/step - loss: 14.5939 - val_loss: 25.5597\n",
      "Epoch 427/500\n",
      "13/13 - 0s - 8ms/step - loss: 14.6743 - val_loss: 25.7262\n",
      "Epoch 428/500\n",
      "13/13 - 0s - 10ms/step - loss: 14.2926 - val_loss: 26.4593\n",
      "Epoch 429/500\n",
      "13/13 - 0s - 12ms/step - loss: 14.1158 - val_loss: 26.3632\n",
      "Epoch 430/500\n",
      "13/13 - 0s - 10ms/step - loss: 14.0346 - val_loss: 26.6168\n",
      "Epoch 431/500\n",
      "13/13 - 0s - 9ms/step - loss: 13.9601 - val_loss: 26.5311\n",
      "Epoch 432/500\n",
      "13/13 - 0s - 8ms/step - loss: 14.2307 - val_loss: 28.5771\n",
      "Epoch 433/500\n",
      "13/13 - 0s - 9ms/step - loss: 14.0543 - val_loss: 27.1730\n",
      "Epoch 434/500\n",
      "13/13 - 0s - 8ms/step - loss: 13.7952 - val_loss: 26.8305\n",
      "Epoch 435/500\n",
      "13/13 - 0s - 8ms/step - loss: 14.1098 - val_loss: 28.4095\n",
      "Epoch 436/500\n",
      "13/13 - 0s - 8ms/step - loss: 13.9790 - val_loss: 26.3435\n",
      "Epoch 437/500\n",
      "13/13 - 0s - 8ms/step - loss: 13.9956 - val_loss: 26.0048\n",
      "Epoch 438/500\n",
      "13/13 - 0s - 7ms/step - loss: 13.9828 - val_loss: 26.1351\n",
      "Epoch 439/500\n",
      "13/13 - 0s - 9ms/step - loss: 13.6931 - val_loss: 26.1758\n",
      "Epoch 440/500\n",
      "13/13 - 0s - 8ms/step - loss: 13.6372 - val_loss: 26.3629\n",
      "Epoch 441/500\n",
      "13/13 - 0s - 8ms/step - loss: 13.5435 - val_loss: 26.2966\n",
      "Epoch 442/500\n",
      "13/13 - 0s - 9ms/step - loss: 13.4873 - val_loss: 26.2997\n",
      "Epoch 443/500\n",
      "13/13 - 0s - 7ms/step - loss: 13.5289 - val_loss: 27.2537\n",
      "Epoch 444/500\n",
      "13/13 - 0s - 8ms/step - loss: 13.4984 - val_loss: 26.6575\n",
      "Epoch 445/500\n",
      "13/13 - 0s - 8ms/step - loss: 13.4495 - val_loss: 26.7399\n",
      "Epoch 446/500\n",
      "13/13 - 0s - 9ms/step - loss: 13.6321 - val_loss: 28.2284\n",
      "Epoch 447/500\n",
      "13/13 - 0s - 8ms/step - loss: 13.6482 - val_loss: 27.3654\n",
      "Epoch 448/500\n",
      "13/13 - 0s - 8ms/step - loss: 13.7425 - val_loss: 26.3282\n",
      "Epoch 449/500\n",
      "13/13 - 0s - 9ms/step - loss: 13.4113 - val_loss: 27.6084\n",
      "Epoch 450/500\n",
      "13/13 - 0s - 7ms/step - loss: 13.4614 - val_loss: 26.5691\n",
      "Epoch 451/500\n",
      "13/13 - 0s - 8ms/step - loss: 13.1772 - val_loss: 26.3350\n",
      "Epoch 452/500\n",
      "13/13 - 0s - 8ms/step - loss: 13.1945 - val_loss: 26.3216\n",
      "Epoch 453/500\n",
      "13/13 - 0s - 11ms/step - loss: 13.1376 - val_loss: 26.2601\n",
      "Epoch 454/500\n",
      "13/13 - 0s - 8ms/step - loss: 13.3133 - val_loss: 26.2796\n",
      "Epoch 455/500\n",
      "13/13 - 0s - 10ms/step - loss: 13.4517 - val_loss: 28.6768\n",
      "Epoch 456/500\n",
      "13/13 - 0s - 7ms/step - loss: 13.2231 - val_loss: 27.4310\n",
      "Epoch 457/500\n",
      "13/13 - 0s - 8ms/step - loss: 13.0808 - val_loss: 26.5238\n",
      "Epoch 458/500\n",
      "13/13 - 0s - 8ms/step - loss: 12.9823 - val_loss: 26.4953\n",
      "Epoch 459/500\n",
      "13/13 - 0s - 9ms/step - loss: 12.8262 - val_loss: 26.4783\n",
      "Epoch 460/500\n",
      "13/13 - 0s - 9ms/step - loss: 12.7919 - val_loss: 27.0073\n",
      "Epoch 461/500\n",
      "13/13 - 0s - 9ms/step - loss: 12.8216 - val_loss: 26.1598\n",
      "Epoch 462/500\n",
      "13/13 - 0s - 9ms/step - loss: 12.8807 - val_loss: 25.7208\n",
      "Epoch 463/500\n",
      "13/13 - 0s - 7ms/step - loss: 12.7388 - val_loss: 26.5769\n",
      "Epoch 464/500\n",
      "13/13 - 0s - 8ms/step - loss: 12.6893 - val_loss: 26.0286\n",
      "Epoch 465/500\n",
      "13/13 - 0s - 8ms/step - loss: 12.5921 - val_loss: 25.8694\n",
      "Epoch 466/500\n",
      "13/13 - 0s - 8ms/step - loss: 12.5810 - val_loss: 26.4019\n",
      "Epoch 467/500\n",
      "13/13 - 0s - 8ms/step - loss: 12.5550 - val_loss: 25.9217\n",
      "Epoch 468/500\n",
      "13/13 - 0s - 9ms/step - loss: 12.5056 - val_loss: 25.6808\n",
      "Epoch 469/500\n",
      "13/13 - 0s - 8ms/step - loss: 12.5296 - val_loss: 25.4835\n",
      "Epoch 470/500\n",
      "13/13 - 0s - 9ms/step - loss: 12.4868 - val_loss: 25.9609\n",
      "Epoch 471/500\n",
      "13/13 - 0s - 8ms/step - loss: 12.4533 - val_loss: 26.0383\n",
      "Epoch 472/500\n",
      "13/13 - 0s - 8ms/step - loss: 12.5851 - val_loss: 27.6388\n",
      "Epoch 473/500\n",
      "13/13 - 0s - 9ms/step - loss: 12.4789 - val_loss: 26.4470\n",
      "Epoch 474/500\n",
      "13/13 - 0s - 9ms/step - loss: 12.3620 - val_loss: 25.9415\n",
      "Epoch 475/500\n",
      "13/13 - 0s - 9ms/step - loss: 12.3060 - val_loss: 26.0458\n",
      "Epoch 476/500\n",
      "13/13 - 0s - 10ms/step - loss: 12.2239 - val_loss: 25.5893\n",
      "Epoch 477/500\n",
      "13/13 - 0s - 9ms/step - loss: 12.2275 - val_loss: 25.3585\n",
      "Epoch 478/500\n",
      "13/13 - 0s - 9ms/step - loss: 12.1581 - val_loss: 25.8184\n",
      "Epoch 479/500\n",
      "13/13 - 0s - 12ms/step - loss: 12.3804 - val_loss: 27.7224\n",
      "Epoch 480/500\n",
      "13/13 - 0s - 9ms/step - loss: 12.3281 - val_loss: 26.3389\n",
      "Epoch 481/500\n",
      "13/13 - 0s - 9ms/step - loss: 12.2538 - val_loss: 26.1001\n",
      "Epoch 482/500\n",
      "13/13 - 0s - 8ms/step - loss: 12.2632 - val_loss: 25.3697\n",
      "Epoch 483/500\n",
      "13/13 - 0s - 8ms/step - loss: 12.1726 - val_loss: 26.5717\n",
      "Epoch 484/500\n",
      "13/13 - 0s - 9ms/step - loss: 12.3840 - val_loss: 26.2827\n",
      "Epoch 485/500\n",
      "13/13 - 0s - 9ms/step - loss: 11.9815 - val_loss: 24.9541\n",
      "Epoch 486/500\n",
      "13/13 - 0s - 8ms/step - loss: 12.1465 - val_loss: 24.5955\n",
      "Epoch 487/500\n",
      "13/13 - 0s - 9ms/step - loss: 12.1065 - val_loss: 24.6498\n",
      "Epoch 488/500\n",
      "13/13 - 0s - 9ms/step - loss: 11.9407 - val_loss: 25.7824\n",
      "Epoch 489/500\n",
      "13/13 - 0s - 8ms/step - loss: 11.8485 - val_loss: 24.8561\n",
      "Epoch 490/500\n",
      "13/13 - 0s - 9ms/step - loss: 13.1759 - val_loss: 24.6947\n",
      "Epoch 491/500\n",
      "13/13 - 0s - 9ms/step - loss: 12.3233 - val_loss: 25.0526\n",
      "Epoch 492/500\n",
      "13/13 - 0s - 8ms/step - loss: 11.9288 - val_loss: 25.5247\n",
      "Epoch 493/500\n",
      "13/13 - 0s - 7ms/step - loss: 11.7413 - val_loss: 24.9840\n",
      "Epoch 494/500\n",
      "13/13 - 0s - 9ms/step - loss: 11.9204 - val_loss: 24.4003\n",
      "Epoch 495/500\n",
      "13/13 - 0s - 8ms/step - loss: 11.7635 - val_loss: 25.9496\n",
      "Epoch 496/500\n",
      "13/13 - 0s - 8ms/step - loss: 11.7224 - val_loss: 25.4025\n",
      "Epoch 497/500\n",
      "13/13 - 0s - 10ms/step - loss: 11.6935 - val_loss: 24.8845\n",
      "Epoch 498/500\n",
      "13/13 - 0s - 9ms/step - loss: 11.6045 - val_loss: 25.0517\n",
      "Epoch 499/500\n",
      "13/13 - 0s - 9ms/step - loss: 11.5423 - val_loss: 24.7550\n",
      "Epoch 500/500\n",
      "13/13 - 0s - 10ms/step - loss: 11.5117 - val_loss: 25.2438\n",
      "\u001b[1m4/4\u001b[0m \u001b[32m━━━━━━━━━━━━━━━━━━━━\u001b[0m\u001b[37m\u001b[0m \u001b[1m0s\u001b[0m 13ms/step\n",
      "ANN RMSE: 5.024\n",
      "ANN MAE : 3.944\n"
     ]
    },
    {
     "data": {
      "application/vnd.plotly.v1+json": {
       "config": {
        "plotlyServerURL": "https://plot.ly"
       },
       "data": [
        {
         "line": {
          "color": "blue"
         },
         "marker": {
          "color": "blue",
          "size": 8,
          "symbol": "square"
         },
         "mode": "markers+lines",
         "name": "Actual",
         "type": "scatter",
         "x": [
          "2025-07-01T00:00:00",
          "2025-07-02T00:00:00",
          "2025-07-03T00:00:00",
          "2025-07-07T00:00:00",
          "2025-07-08T00:00:00",
          "2025-07-09T00:00:00",
          "2025-07-10T00:00:00"
         ],
         "y": [
          153.3000030517578,
          157.25,
          159.33999633789062,
          158.24000549316406,
          160,
          162.8800048828125,
          164.10000610351562
         ]
        },
        {
         "line": {
          "color": "orange",
          "dash": "dot"
         },
         "marker": {
          "color": "orange",
          "size": 8,
          "symbol": "triangle-up"
         },
         "mode": "markers+lines",
         "name": "Predicted (ANN)",
         "type": "scatter",
         "x": [
          "2025-07-01T00:00:00",
          "2025-07-02T00:00:00",
          "2025-07-03T00:00:00",
          "2025-07-07T00:00:00",
          "2025-07-08T00:00:00",
          "2025-07-09T00:00:00",
          "2025-07-10T00:00:00"
         ],
         "y": [
          149.00674438476562,
          157.32583618164062,
          156.55174255371094,
          157.6156005859375,
          159.035400390625,
          158.86781311035156,
          158.84408569335938
         ]
        }
       ],
       "layout": {
        "hovermode": "x unified",
        "template": {
         "data": {
          "bar": [
           {
            "error_x": {
             "color": "#2a3f5f"
            },
            "error_y": {
             "color": "#2a3f5f"
            },
            "marker": {
             "line": {
              "color": "white",
              "width": 0.5
             },
             "pattern": {
              "fillmode": "overlay",
              "size": 10,
              "solidity": 0.2
             }
            },
            "type": "bar"
           }
          ],
          "barpolar": [
           {
            "marker": {
             "line": {
              "color": "white",
              "width": 0.5
             },
             "pattern": {
              "fillmode": "overlay",
              "size": 10,
              "solidity": 0.2
             }
            },
            "type": "barpolar"
           }
          ],
          "carpet": [
           {
            "aaxis": {
             "endlinecolor": "#2a3f5f",
             "gridcolor": "#C8D4E3",
             "linecolor": "#C8D4E3",
             "minorgridcolor": "#C8D4E3",
             "startlinecolor": "#2a3f5f"
            },
            "baxis": {
             "endlinecolor": "#2a3f5f",
             "gridcolor": "#C8D4E3",
             "linecolor": "#C8D4E3",
             "minorgridcolor": "#C8D4E3",
             "startlinecolor": "#2a3f5f"
            },
            "type": "carpet"
           }
          ],
          "choropleth": [
           {
            "colorbar": {
             "outlinewidth": 0,
             "ticks": ""
            },
            "type": "choropleth"
           }
          ],
          "contour": [
           {
            "colorbar": {
             "outlinewidth": 0,
             "ticks": ""
            },
            "colorscale": [
             [
              0,
              "#0d0887"
             ],
             [
              0.1111111111111111,
              "#46039f"
             ],
             [
              0.2222222222222222,
              "#7201a8"
             ],
             [
              0.3333333333333333,
              "#9c179e"
             ],
             [
              0.4444444444444444,
              "#bd3786"
             ],
             [
              0.5555555555555556,
              "#d8576b"
             ],
             [
              0.6666666666666666,
              "#ed7953"
             ],
             [
              0.7777777777777778,
              "#fb9f3a"
             ],
             [
              0.8888888888888888,
              "#fdca26"
             ],
             [
              1,
              "#f0f921"
             ]
            ],
            "type": "contour"
           }
          ],
          "contourcarpet": [
           {
            "colorbar": {
             "outlinewidth": 0,
             "ticks": ""
            },
            "type": "contourcarpet"
           }
          ],
          "heatmap": [
           {
            "colorbar": {
             "outlinewidth": 0,
             "ticks": ""
            },
            "colorscale": [
             [
              0,
              "#0d0887"
             ],
             [
              0.1111111111111111,
              "#46039f"
             ],
             [
              0.2222222222222222,
              "#7201a8"
             ],
             [
              0.3333333333333333,
              "#9c179e"
             ],
             [
              0.4444444444444444,
              "#bd3786"
             ],
             [
              0.5555555555555556,
              "#d8576b"
             ],
             [
              0.6666666666666666,
              "#ed7953"
             ],
             [
              0.7777777777777778,
              "#fb9f3a"
             ],
             [
              0.8888888888888888,
              "#fdca26"
             ],
             [
              1,
              "#f0f921"
             ]
            ],
            "type": "heatmap"
           }
          ],
          "heatmapgl": [
           {
            "colorbar": {
             "outlinewidth": 0,
             "ticks": ""
            },
            "colorscale": [
             [
              0,
              "#0d0887"
             ],
             [
              0.1111111111111111,
              "#46039f"
             ],
             [
              0.2222222222222222,
              "#7201a8"
             ],
             [
              0.3333333333333333,
              "#9c179e"
             ],
             [
              0.4444444444444444,
              "#bd3786"
             ],
             [
              0.5555555555555556,
              "#d8576b"
             ],
             [
              0.6666666666666666,
              "#ed7953"
             ],
             [
              0.7777777777777778,
              "#fb9f3a"
             ],
             [
              0.8888888888888888,
              "#fdca26"
             ],
             [
              1,
              "#f0f921"
             ]
            ],
            "type": "heatmapgl"
           }
          ],
          "histogram": [
           {
            "marker": {
             "pattern": {
              "fillmode": "overlay",
              "size": 10,
              "solidity": 0.2
             }
            },
            "type": "histogram"
           }
          ],
          "histogram2d": [
           {
            "colorbar": {
             "outlinewidth": 0,
             "ticks": ""
            },
            "colorscale": [
             [
              0,
              "#0d0887"
             ],
             [
              0.1111111111111111,
              "#46039f"
             ],
             [
              0.2222222222222222,
              "#7201a8"
             ],
             [
              0.3333333333333333,
              "#9c179e"
             ],
             [
              0.4444444444444444,
              "#bd3786"
             ],
             [
              0.5555555555555556,
              "#d8576b"
             ],
             [
              0.6666666666666666,
              "#ed7953"
             ],
             [
              0.7777777777777778,
              "#fb9f3a"
             ],
             [
              0.8888888888888888,
              "#fdca26"
             ],
             [
              1,
              "#f0f921"
             ]
            ],
            "type": "histogram2d"
           }
          ],
          "histogram2dcontour": [
           {
            "colorbar": {
             "outlinewidth": 0,
             "ticks": ""
            },
            "colorscale": [
             [
              0,
              "#0d0887"
             ],
             [
              0.1111111111111111,
              "#46039f"
             ],
             [
              0.2222222222222222,
              "#7201a8"
             ],
             [
              0.3333333333333333,
              "#9c179e"
             ],
             [
              0.4444444444444444,
              "#bd3786"
             ],
             [
              0.5555555555555556,
              "#d8576b"
             ],
             [
              0.6666666666666666,
              "#ed7953"
             ],
             [
              0.7777777777777778,
              "#fb9f3a"
             ],
             [
              0.8888888888888888,
              "#fdca26"
             ],
             [
              1,
              "#f0f921"
             ]
            ],
            "type": "histogram2dcontour"
           }
          ],
          "mesh3d": [
           {
            "colorbar": {
             "outlinewidth": 0,
             "ticks": ""
            },
            "type": "mesh3d"
           }
          ],
          "parcoords": [
           {
            "line": {
             "colorbar": {
              "outlinewidth": 0,
              "ticks": ""
             }
            },
            "type": "parcoords"
           }
          ],
          "pie": [
           {
            "automargin": true,
            "type": "pie"
           }
          ],
          "scatter": [
           {
            "fillpattern": {
             "fillmode": "overlay",
             "size": 10,
             "solidity": 0.2
            },
            "type": "scatter"
           }
          ],
          "scatter3d": [
           {
            "line": {
             "colorbar": {
              "outlinewidth": 0,
              "ticks": ""
             }
            },
            "marker": {
             "colorbar": {
              "outlinewidth": 0,
              "ticks": ""
             }
            },
            "type": "scatter3d"
           }
          ],
          "scattercarpet": [
           {
            "marker": {
             "colorbar": {
              "outlinewidth": 0,
              "ticks": ""
             }
            },
            "type": "scattercarpet"
           }
          ],
          "scattergeo": [
           {
            "marker": {
             "colorbar": {
              "outlinewidth": 0,
              "ticks": ""
             }
            },
            "type": "scattergeo"
           }
          ],
          "scattergl": [
           {
            "marker": {
             "colorbar": {
              "outlinewidth": 0,
              "ticks": ""
             }
            },
            "type": "scattergl"
           }
          ],
          "scattermapbox": [
           {
            "marker": {
             "colorbar": {
              "outlinewidth": 0,
              "ticks": ""
             }
            },
            "type": "scattermapbox"
           }
          ],
          "scatterpolar": [
           {
            "marker": {
             "colorbar": {
              "outlinewidth": 0,
              "ticks": ""
             }
            },
            "type": "scatterpolar"
           }
          ],
          "scatterpolargl": [
           {
            "marker": {
             "colorbar": {
              "outlinewidth": 0,
              "ticks": ""
             }
            },
            "type": "scatterpolargl"
           }
          ],
          "scatterternary": [
           {
            "marker": {
             "colorbar": {
              "outlinewidth": 0,
              "ticks": ""
             }
            },
            "type": "scatterternary"
           }
          ],
          "surface": [
           {
            "colorbar": {
             "outlinewidth": 0,
             "ticks": ""
            },
            "colorscale": [
             [
              0,
              "#0d0887"
             ],
             [
              0.1111111111111111,
              "#46039f"
             ],
             [
              0.2222222222222222,
              "#7201a8"
             ],
             [
              0.3333333333333333,
              "#9c179e"
             ],
             [
              0.4444444444444444,
              "#bd3786"
             ],
             [
              0.5555555555555556,
              "#d8576b"
             ],
             [
              0.6666666666666666,
              "#ed7953"
             ],
             [
              0.7777777777777778,
              "#fb9f3a"
             ],
             [
              0.8888888888888888,
              "#fdca26"
             ],
             [
              1,
              "#f0f921"
             ]
            ],
            "type": "surface"
           }
          ],
          "table": [
           {
            "cells": {
             "fill": {
              "color": "#EBF0F8"
             },
             "line": {
              "color": "white"
             }
            },
            "header": {
             "fill": {
              "color": "#C8D4E3"
             },
             "line": {
              "color": "white"
             }
            },
            "type": "table"
           }
          ]
         },
         "layout": {
          "annotationdefaults": {
           "arrowcolor": "#2a3f5f",
           "arrowhead": 0,
           "arrowwidth": 1
          },
          "autotypenumbers": "strict",
          "coloraxis": {
           "colorbar": {
            "outlinewidth": 0,
            "ticks": ""
           }
          },
          "colorscale": {
           "diverging": [
            [
             0,
             "#8e0152"
            ],
            [
             0.1,
             "#c51b7d"
            ],
            [
             0.2,
             "#de77ae"
            ],
            [
             0.3,
             "#f1b6da"
            ],
            [
             0.4,
             "#fde0ef"
            ],
            [
             0.5,
             "#f7f7f7"
            ],
            [
             0.6,
             "#e6f5d0"
            ],
            [
             0.7,
             "#b8e186"
            ],
            [
             0.8,
             "#7fbc41"
            ],
            [
             0.9,
             "#4d9221"
            ],
            [
             1,
             "#276419"
            ]
           ],
           "sequential": [
            [
             0,
             "#0d0887"
            ],
            [
             0.1111111111111111,
             "#46039f"
            ],
            [
             0.2222222222222222,
             "#7201a8"
            ],
            [
             0.3333333333333333,
             "#9c179e"
            ],
            [
             0.4444444444444444,
             "#bd3786"
            ],
            [
             0.5555555555555556,
             "#d8576b"
            ],
            [
             0.6666666666666666,
             "#ed7953"
            ],
            [
             0.7777777777777778,
             "#fb9f3a"
            ],
            [
             0.8888888888888888,
             "#fdca26"
            ],
            [
             1,
             "#f0f921"
            ]
           ],
           "sequentialminus": [
            [
             0,
             "#0d0887"
            ],
            [
             0.1111111111111111,
             "#46039f"
            ],
            [
             0.2222222222222222,
             "#7201a8"
            ],
            [
             0.3333333333333333,
             "#9c179e"
            ],
            [
             0.4444444444444444,
             "#bd3786"
            ],
            [
             0.5555555555555556,
             "#d8576b"
            ],
            [
             0.6666666666666666,
             "#ed7953"
            ],
            [
             0.7777777777777778,
             "#fb9f3a"
            ],
            [
             0.8888888888888888,
             "#fdca26"
            ],
            [
             1,
             "#f0f921"
            ]
           ]
          },
          "colorway": [
           "#636efa",
           "#EF553B",
           "#00cc96",
           "#ab63fa",
           "#FFA15A",
           "#19d3f3",
           "#FF6692",
           "#B6E880",
           "#FF97FF",
           "#FECB52"
          ],
          "font": {
           "color": "#2a3f5f"
          },
          "geo": {
           "bgcolor": "white",
           "lakecolor": "white",
           "landcolor": "white",
           "showlakes": true,
           "showland": true,
           "subunitcolor": "#C8D4E3"
          },
          "hoverlabel": {
           "align": "left"
          },
          "hovermode": "closest",
          "mapbox": {
           "style": "light"
          },
          "paper_bgcolor": "white",
          "plot_bgcolor": "white",
          "polar": {
           "angularaxis": {
            "gridcolor": "#EBF0F8",
            "linecolor": "#EBF0F8",
            "ticks": ""
           },
           "bgcolor": "white",
           "radialaxis": {
            "gridcolor": "#EBF0F8",
            "linecolor": "#EBF0F8",
            "ticks": ""
           }
          },
          "scene": {
           "xaxis": {
            "backgroundcolor": "white",
            "gridcolor": "#DFE8F3",
            "gridwidth": 2,
            "linecolor": "#EBF0F8",
            "showbackground": true,
            "ticks": "",
            "zerolinecolor": "#EBF0F8"
           },
           "yaxis": {
            "backgroundcolor": "white",
            "gridcolor": "#DFE8F3",
            "gridwidth": 2,
            "linecolor": "#EBF0F8",
            "showbackground": true,
            "ticks": "",
            "zerolinecolor": "#EBF0F8"
           },
           "zaxis": {
            "backgroundcolor": "white",
            "gridcolor": "#DFE8F3",
            "gridwidth": 2,
            "linecolor": "#EBF0F8",
            "showbackground": true,
            "ticks": "",
            "zerolinecolor": "#EBF0F8"
           }
          },
          "shapedefaults": {
           "line": {
            "color": "#2a3f5f"
           }
          },
          "ternary": {
           "aaxis": {
            "gridcolor": "#DFE8F3",
            "linecolor": "#A2B1C6",
            "ticks": ""
           },
           "baxis": {
            "gridcolor": "#DFE8F3",
            "linecolor": "#A2B1C6",
            "ticks": ""
           },
           "bgcolor": "white",
           "caxis": {
            "gridcolor": "#DFE8F3",
            "linecolor": "#A2B1C6",
            "ticks": ""
           }
          },
          "title": {
           "x": 0.05
          },
          "xaxis": {
           "automargin": true,
           "gridcolor": "#EBF0F8",
           "linecolor": "#EBF0F8",
           "ticks": "",
           "title": {
            "standoff": 15
           },
           "zerolinecolor": "#EBF0F8",
           "zerolinewidth": 2
          },
          "yaxis": {
           "automargin": true,
           "gridcolor": "#EBF0F8",
           "linecolor": "#EBF0F8",
           "ticks": "",
           "title": {
            "standoff": 15
           },
           "zerolinecolor": "#EBF0F8",
           "zerolinewidth": 2
          }
         }
        },
        "title": {
         "text": "Actual vs Predicted Close Price for NVIDIA (ANN) — Last 7 Days"
        },
        "xaxis": {
         "title": {
          "text": "Date"
         }
        },
        "yaxis": {
         "title": {
          "text": "Price"
         }
        }
       }
      }
     },
     "metadata": {},
     "output_type": "display_data"
    }
   ],
   "source": [
    "today = date.today()\n",
    "two_years = today.replace(year=today.year - 2)\n",
    "\n",
    "\n",
    "df = yf.download(\n",
    "    tickers = stock_ticker,\n",
    "    start = two_years,\n",
    "    end = today,\n",
    "    interval = \"1d\", # for dailyy data\n",
    "    auto_adjust = False,\n",
    "    progress = False\n",
    ")\n",
    "\n",
    "X_train, y_train, X_val, y_val, train_df , val_df = data_collection(df)\n",
    "\n",
    "scaler = StandardScaler()\n",
    "X_train_scaled = scaler.fit_transform(X_train)\n",
    "X_val_scaled   = scaler.transform(X_val)\n",
    "\n",
    "model = Sequential([\n",
    "    Dense(64, activation='relu', input_dim=X_train_scaled.shape[1]),  # hidden layer\n",
    "    Dense(1)  # output layer for price prediction\n",
    "])\n",
    "\n",
    "model.compile(optimizer='adam', loss='mse')\n",
    "\n",
    "early_stop = EarlyStopping(monitor='val_loss', patience=5, restore_best_weights=True)\n",
    "\n",
    "history = model.fit(\n",
    "    X_train_scaled, y_train,\n",
    "    validation_data=(X_val_scaled, y_val),\n",
    "    epochs=500,\n",
    "    batch_size=32,\n",
    "    # callbacks=[early_stop],\n",
    "    verbose=2\n",
    ")\n",
    "\n",
    "\n",
    "y_pred_ann = model.predict(X_val_scaled).flatten()\n",
    "\n",
    "rmse = np.sqrt(mean_squared_error(y_val, y_pred_ann))\n",
    "mae  = mean_absolute_error(y_val, y_pred_ann)\n",
    "\n",
    "print(f\"ANN RMSE: {rmse:.3f}\")\n",
    "print(f\"ANN MAE : {mae:.3f}\")\n",
    "\n",
    "\n",
    "\n",
    "# get only the last 7 entries\n",
    "last7_df    = val_df.tail(7)\n",
    "last7_actual = y_val.tail(7)\n",
    "last7_pred   = y_pred_ann[-7:]   # assuming y_pred_ann is aligned in order\n",
    "\n",
    "fig = go.Figure()\n",
    "\n",
    "fig.add_trace(go.Scatter(\n",
    "    x=last7_df.index,\n",
    "    y=last7_actual.values,\n",
    "    mode='markers+lines',\n",
    "    name='Actual',\n",
    "    marker=dict(symbol='square', size=8, color='blue'),\n",
    "    line=dict(color='blue')\n",
    "))\n",
    "\n",
    "fig.add_trace(go.Scatter(\n",
    "    x=last7_df.index,\n",
    "    y=last7_pred,\n",
    "    mode='markers+lines',\n",
    "    name='Predicted (ANN)',\n",
    "    marker=dict(symbol='triangle-up', size=8, color='orange'),\n",
    "    line=dict(color='orange', dash='dot')\n",
    "))\n",
    "\n",
    "fig.update_layout(\n",
    "    title=f\"Actual vs Predicted Close Price for {Stock} (ANN) — Last 7 Days\",\n",
    "    xaxis_title=\"Date\",\n",
    "    yaxis_title=\"Price\",\n",
    "    hovermode=\"x unified\",\n",
    "    template=\"plotly_white\"\n",
    ")\n",
    "\n",
    "fig.show()"
   ]
  },
  {
   "cell_type": "code",
   "execution_count": 32,
   "id": "d5466020",
   "metadata": {},
   "outputs": [],
   "source": [
    "val_df = val_df.copy()\n",
    "val_df[\"Predicted\"] = y_pred_ann  # Your ANN predictions\n",
    "val_df[\"Error\"] = np.abs(y_val.values - y_pred_ann)\n"
   ]
  },
  {
   "cell_type": "code",
   "execution_count": 33,
   "id": "5217e0fb",
   "metadata": {},
   "outputs": [],
   "source": [
    "val_df.to_csv(\"val_with_predictions.csv\")\n"
   ]
  },
  {
   "cell_type": "code",
   "execution_count": 34,
   "id": "a3d8c56c",
   "metadata": {},
   "outputs": [],
   "source": [
    "model.save(\"ann_model.keras\")  # no warning!\n"
   ]
  },
  {
   "cell_type": "code",
   "execution_count": null,
   "id": "af0011c6",
   "metadata": {},
   "outputs": [],
   "source": []
  }
 ],
 "metadata": {
  "kernelspec": {
   "display_name": "base",
   "language": "python",
   "name": "python3"
  },
  "language_info": {
   "codemirror_mode": {
    "name": "ipython",
    "version": 3
   },
   "file_extension": ".py",
   "mimetype": "text/x-python",
   "name": "python",
   "nbconvert_exporter": "python",
   "pygments_lexer": "ipython3",
   "version": "3.12.7"
  }
 },
 "nbformat": 4,
 "nbformat_minor": 5
}
